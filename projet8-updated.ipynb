{
 "cells": [
  {
   "cell_type": "markdown",
   "id": "035ae11e",
   "metadata": {
    "toc": true
   },
   "source": [
    "<h1>Sommaire<span class=\"tocSkip\"></span></h1>\n",
    "<div class=\"toc\"><ul class=\"toc-item\"><li><span><a href=\"#Imports\" data-toc-modified-id=\"Imports-1\"><span class=\"toc-item-num\">1&nbsp;&nbsp;</span>Imports</a></span></li><li><span><a href=\"#Initialization-of-Spark-Session\" data-toc-modified-id=\"Initialization-of-Spark-Session-2\"><span class=\"toc-item-num\">2&nbsp;&nbsp;</span>Initialization of Spark Session</a></span></li><li><span><a href=\"#Features-extraction-from-data-on-S3-bucket\" data-toc-modified-id=\"Features-extraction-from-data-on-S3-bucket-3\"><span class=\"toc-item-num\">3&nbsp;&nbsp;</span>Features extraction from data on S3 bucket</a></span><ul class=\"toc-item\"><li><span><a href=\"#Reading-data\" data-toc-modified-id=\"Reading-data-3.1\"><span class=\"toc-item-num\">3.1&nbsp;&nbsp;</span>Reading data</a></span></li><li><span><a href=\"#Preparing-the-model\" data-toc-modified-id=\"Preparing-the-model-3.2\"><span class=\"toc-item-num\">3.2&nbsp;&nbsp;</span>Preparing the model</a></span></li><li><span><a href=\"#Define-image-loading-and-featurization-logic-in-a-Pandas-UDF\" data-toc-modified-id=\"Define-image-loading-and-featurization-logic-in-a-Pandas-UDF-3.3\"><span class=\"toc-item-num\">3.3&nbsp;&nbsp;</span>Define image loading and featurization logic in a Pandas UDF</a></span></li><li><span><a href=\"#Apply-featurization-to-the-DataFrame-of-images\" data-toc-modified-id=\"Apply-featurization-to-the-DataFrame-of-images-3.4\"><span class=\"toc-item-num\">3.4&nbsp;&nbsp;</span>Apply featurization to the DataFrame of images</a></span></li></ul></li><li><span><a href=\"#Standardisation-of-features\" data-toc-modified-id=\"Standardisation-of-features-4\"><span class=\"toc-item-num\">4&nbsp;&nbsp;</span>Standardisation of features</a></span></li><li><span><a href=\"#Dimension-reduction-by-PCA\" data-toc-modified-id=\"Dimension-reduction-by-PCA-5\"><span class=\"toc-item-num\">5&nbsp;&nbsp;</span>Dimension reduction by PCA</a></span></li><li><span><a href=\"#Saving-features-in-project-bucket-on-S3\" data-toc-modified-id=\"Saving-features-in-project-bucket-on-S3-6\"><span class=\"toc-item-num\">6&nbsp;&nbsp;</span>Saving features in project bucket on S3</a></span></li></ul></div>"
   ]
  },
  {
   "cell_type": "markdown",
   "id": "2ac9671c",
   "metadata": {},
   "source": [
    "## Imports"
   ]
  },
  {
   "cell_type": "code",
   "execution_count": 1,
   "id": "47fd31bc",
   "metadata": {},
   "outputs": [
    {
     "name": "stderr",
     "output_type": "stream",
     "text": [
      "2022-12-13 17:22:07.641547: I tensorflow/core/platform/cpu_feature_guard.cc:193] This TensorFlow binary is optimized with oneAPI Deep Neural Network Library (oneDNN) to use the following CPU instructions in performance-critical operations:  AVX2 FMA\n",
      "To enable them in other operations, rebuild TensorFlow with the appropriate compiler flags.\n",
      "2022-12-13 17:22:08.510620: W tensorflow/compiler/xla/stream_executor/platform/default/dso_loader.cc:64] Could not load dynamic library 'libcudart.so.11.0'; dlerror: libcudart.so.11.0: cannot open shared object file: No such file or directory\n",
      "2022-12-13 17:22:08.510659: I tensorflow/compiler/xla/stream_executor/cuda/cudart_stub.cc:29] Ignore above cudart dlerror if you do not have a GPU set up on your machine.\n",
      "2022-12-13 17:22:10.765371: W tensorflow/compiler/xla/stream_executor/platform/default/dso_loader.cc:64] Could not load dynamic library 'libnvinfer.so.7'; dlerror: libnvinfer.so.7: cannot open shared object file: No such file or directory\n",
      "2022-12-13 17:22:10.765481: W tensorflow/compiler/xla/stream_executor/platform/default/dso_loader.cc:64] Could not load dynamic library 'libnvinfer_plugin.so.7'; dlerror: libnvinfer_plugin.so.7: cannot open shared object file: No such file or directory\n",
      "2022-12-13 17:22:10.765494: W tensorflow/compiler/tf2tensorrt/utils/py_utils.cc:38] TF-TRT Warning: Cannot dlopen some TensorRT libraries. If you would like to use Nvidia GPU with TensorRT, please make sure the missing libraries mentioned above are installed properly.\n"
     ]
    },
    {
     "data": {
      "text/plain": [
       "'/home/ec2-user/miniconda3/lib/python3.9/site-packages/pyspark'"
      ]
     },
     "execution_count": 1,
     "metadata": {},
     "output_type": "execute_result"
    }
   ],
   "source": [
    "import io\n",
    "import os \n",
    "import warnings\n",
    "import sys\n",
    "import boto3\n",
    "import findspark\n",
    "import matplotlib.pyplot as plt \n",
    "import numpy as np\n",
    "import pandas as pd\n",
    "from PIL import Image\n",
    "# import tensorflow\n",
    "\n",
    "from pyspark.conf import SparkConf\n",
    "from pyspark.context import SparkContext\n",
    "from pyspark import Row\n",
    "from pyspark.ml.feature import StandardScaler, PCA\n",
    "from pyspark.ml.linalg import Vectors, VectorUDT, DenseVector\n",
    "from pyspark.sql import SparkSession\n",
    "from pyspark.sql.functions import (split, \n",
    "                                   size,\n",
    "                                   col,\n",
    "                                   input_file_name,\n",
    "                                   udf,\n",
    "                                   pandas_udf,\n",
    "                                   PandasUDFType\n",
    "                                  )\n",
    "from tensorflow.keras.applications.resnet50 import ResNet50, preprocess_input\n",
    "from tensorflow.keras.preprocessing.image import img_to_array\n",
    "\n",
    "findspark.init()\n",
    "findspark.find()"
   ]
  },
  {
   "cell_type": "code",
   "execution_count": 8,
   "id": "344233dd",
   "metadata": {},
   "outputs": [
    {
     "name": "stdout",
     "output_type": "stream",
     "text": [
      "PYSPARK_PYTHON  /home/ec2-user/miniconda3/bin/python\n"
     ]
    }
   ],
   "source": [
    "os.environ['PYSPARK_PYTHON'] = sys.executable\n",
    "print('PYSPARK_PYTHON ', os.environ['PYSPARK_PYTHON'])"
   ]
  },
  {
   "cell_type": "markdown",
   "id": "1de4bc97",
   "metadata": {},
   "source": [
    "## Initialization of Spark Session"
   ]
  },
  {
   "cell_type": "code",
   "execution_count": 2,
   "id": "de3b70a0",
   "metadata": {},
   "outputs": [
    {
     "data": {
      "text/plain": [
       "<pyspark.conf.SparkConf at 0x7f46588dcac0>"
      ]
     },
     "execution_count": 2,
     "metadata": {},
     "output_type": "execute_result"
    }
   ],
   "source": [
    "# Spark configuration\n",
    "conf = SparkConf()\n",
    "conf.set('spark.jars.packages', 'org.apache.hadoop:hadoop-aws:3.3.2')\n",
    "conf.set('spark.hadoop.fs.s3a.aws.credentials.provider', 'org.apache.hadoop.fs.s3a.SimpleAWSCredentialsProvider')\n",
    "conf.setMaster(\"local\").setAppName(\"P8\")\n",
    "conf.set('spark.hadoop.fs.s3a.access.key', ACCESS_KEY)\n",
    "conf.set('spark.hadoop.fs.s3a.secret.key', SECRET_KEY)\n",
    "conf.set('spark.port.maxRetries', 100)"
   ]
  },
  {
   "cell_type": "code",
   "execution_count": 3,
   "id": "8e5cd6c9",
   "metadata": {
    "scrolled": true
   },
   "outputs": [
    {
     "name": "stdout",
     "output_type": "stream",
     "text": [
      ":: loading settings :: url = jar:file:/home/ec2-user/miniconda3/lib/python3.9/site-packages/pyspark/jars/ivy-2.5.0.jar!/org/apache/ivy/core/settings/ivysettings.xml\n"
     ]
    },
    {
     "name": "stderr",
     "output_type": "stream",
     "text": [
      "Ivy Default Cache set to: /home/ec2-user/.ivy2/cache\n",
      "The jars for the packages stored in: /home/ec2-user/.ivy2/jars\n",
      "org.apache.hadoop#hadoop-aws added as a dependency\n",
      ":: resolving dependencies :: org.apache.spark#spark-submit-parent-0d9a7899-9983-421d-a493-a1196d1030af;1.0\n",
      "\tconfs: [default]\n",
      "\tfound org.apache.hadoop#hadoop-aws;3.3.2 in central\n",
      "\tfound com.amazonaws#aws-java-sdk-bundle;1.11.1026 in central\n",
      "\tfound org.wildfly.openssl#wildfly-openssl;1.0.7.Final in central\n",
      ":: resolution report :: resolve 323ms :: artifacts dl 16ms\n",
      "\t:: modules in use:\n",
      "\tcom.amazonaws#aws-java-sdk-bundle;1.11.1026 from central in [default]\n",
      "\torg.apache.hadoop#hadoop-aws;3.3.2 from central in [default]\n",
      "\torg.wildfly.openssl#wildfly-openssl;1.0.7.Final from central in [default]\n",
      "\t---------------------------------------------------------------------\n",
      "\t|                  |            modules            ||   artifacts   |\n",
      "\t|       conf       | number| search|dwnlded|evicted|| number|dwnlded|\n",
      "\t---------------------------------------------------------------------\n",
      "\t|      default     |   3   |   0   |   0   |   0   ||   3   |   0   |\n",
      "\t---------------------------------------------------------------------\n",
      ":: retrieving :: org.apache.spark#spark-submit-parent-0d9a7899-9983-421d-a493-a1196d1030af\n",
      "\tconfs: [default]\n",
      "\t0 artifacts copied, 3 already retrieved (0kB/6ms)\n"
     ]
    },
    {
     "name": "stdout",
     "output_type": "stream",
     "text": [
      "22/12/13 17:22:20 WARN NativeCodeLoader: Unable to load native-hadoop library for your platform... using builtin-java classes where applicable\n"
     ]
    },
    {
     "name": "stderr",
     "output_type": "stream",
     "text": [
      "Setting default log level to \"WARN\".\n",
      "To adjust logging level use sc.setLogLevel(newLevel). For SparkR, use setLogLevel(newLevel).\n"
     ]
    }
   ],
   "source": [
    "sc = SparkContext(conf=conf)"
   ]
  },
  {
   "cell_type": "code",
   "execution_count": 4,
   "id": "86b79f37",
   "metadata": {},
   "outputs": [],
   "source": [
    "spark = SparkSession.builder.master(\"local[*]\").config(conf=conf).getOrCreate()"
   ]
  },
  {
   "cell_type": "code",
   "execution_count": 5,
   "id": "e3ef425a",
   "metadata": {
    "scrolled": true
   },
   "outputs": [
    {
     "data": {
      "text/html": [
       "\n",
       "            <div>\n",
       "                <p><b>SparkSession - in-memory</b></p>\n",
       "                \n",
       "        <div>\n",
       "            <p><b>SparkContext</b></p>\n",
       "\n",
       "            <p><a href=\"http://ip-172-31-38-162.eu-west-3.compute.internal:4040\">Spark UI</a></p>\n",
       "\n",
       "            <dl>\n",
       "              <dt>Version</dt>\n",
       "                <dd><code>v3.3.1</code></dd>\n",
       "              <dt>Master</dt>\n",
       "                <dd><code>local</code></dd>\n",
       "              <dt>AppName</dt>\n",
       "                <dd><code>P8</code></dd>\n",
       "            </dl>\n",
       "        </div>\n",
       "        \n",
       "            </div>\n",
       "        "
      ],
      "text/plain": [
       "<pyspark.sql.session.SparkSession at 0x7f45d8e24fd0>"
      ]
     },
     "execution_count": 5,
     "metadata": {},
     "output_type": "execute_result"
    }
   ],
   "source": [
    "spark"
   ]
  },
  {
   "cell_type": "markdown",
   "id": "afd0735b",
   "metadata": {},
   "source": [
    "## Features extraction from data on S3 bucket"
   ]
  },
  {
   "cell_type": "markdown",
   "id": "458bbdb4",
   "metadata": {},
   "source": [
    "### Reading data"
   ]
  },
  {
   "cell_type": "code",
   "execution_count": 7,
   "id": "9c5a8cec",
   "metadata": {},
   "outputs": [],
   "source": [
    "s3_boto3 = boto3.resource('s3')\n",
    "bucket = s3_boto3.Bucket('bucketprojet8inl')"
   ]
  },
  {
   "cell_type": "code",
   "execution_count": 8,
   "id": "d90dda41",
   "metadata": {
    "scrolled": false
   },
   "outputs": [
    {
     "name": "stdout",
     "output_type": "stream",
     "text": [
      "22/12/13 17:22:43 WARN MetricsConfig: Cannot locate configuration: tried hadoop-metrics2-s3a-file-system.properties,hadoop-metrics2.properties\n"
     ]
    }
   ],
   "source": [
    "image_df = spark.read.format(\"binaryFile\").option(\"pathGlobFilter\", \"*.jpg\")\\\n",
    "                .option(\"recursiveFileLookup\", \"true\")\\\n",
    "                .load(\"s3a://bucketprojet8inl/TrainingSample/*\")\n",
    "\n",
    "# s3a://(bucket name)/(path)/*"
   ]
  },
  {
   "cell_type": "code",
   "execution_count": 9,
   "id": "a9633051",
   "metadata": {},
   "outputs": [
    {
     "name": "stderr",
     "output_type": "stream",
     "text": [
      "                                                                                \r"
     ]
    },
    {
     "name": "stdout",
     "output_type": "stream",
     "text": [
      "+--------------------+--------------------+--------------+\n",
      "|                path|             content|         label|\n",
      "+--------------------+--------------------+--------------+\n",
      "|s3a://bucketproje...|[FF D8 FF E0 00 1...|     Raspberry|\n",
      "|s3a://bucketproje...|[FF D8 FF E0 00 1...|     Raspberry|\n",
      "|s3a://bucketproje...|[FF D8 FF E0 00 1...|     Raspberry|\n",
      "|s3a://bucketproje...|[FF D8 FF E0 00 1...|     Raspberry|\n",
      "|s3a://bucketproje...|[FF D8 FF E0 00 1...|     Raspberry|\n",
      "|s3a://bucketproje...|[FF D8 FF E0 00 1...|     Raspberry|\n",
      "|s3a://bucketproje...|[FF D8 FF E0 00 1...|     Raspberry|\n",
      "|s3a://bucketproje...|[FF D8 FF E0 00 1...|     Raspberry|\n",
      "|s3a://bucketproje...|[FF D8 FF E0 00 1...|     Raspberry|\n",
      "|s3a://bucketproje...|[FF D8 FF E0 00 1...|     Raspberry|\n",
      "|s3a://bucketproje...|[FF D8 FF E0 00 1...|     Raspberry|\n",
      "|s3a://bucketproje...|[FF D8 FF E0 00 1...|    Clementine|\n",
      "|s3a://bucketproje...|[FF D8 FF E0 00 1...|    Clementine|\n",
      "|s3a://bucketproje...|[FF D8 FF E0 00 1...|    Strawberry|\n",
      "|s3a://bucketproje...|[FF D8 FF E0 00 1...|    Clementine|\n",
      "|s3a://bucketproje...|[FF D8 FF E0 00 1...|    Clementine|\n",
      "|s3a://bucketproje...|[FF D8 FF E0 00 1...|    Strawberry|\n",
      "|s3a://bucketproje...|[FF D8 FF E0 00 1...|    Strawberry|\n",
      "|s3a://bucketproje...|[FF D8 FF E0 00 1...|   Apple Red 1|\n",
      "|s3a://bucketproje...|[FF D8 FF E0 00 1...|Apple Golden 1|\n",
      "+--------------------+--------------------+--------------+\n",
      "only showing top 20 rows\n",
      "\n"
     ]
    }
   ],
   "source": [
    "collect = image_df.select('content').collect()\n",
    "image_df = image_df.drop(\"modificationTime\", \"length\")\n",
    "image_df = image_df.withColumn('label', split(image_df.path, '/').getItem(4))\n",
    "image_df.show(truncate=20)"
   ]
  },
  {
   "cell_type": "code",
   "execution_count": 10,
   "id": "955ca8f7",
   "metadata": {
    "scrolled": true
   },
   "outputs": [
    {
     "name": "stdout",
     "output_type": "stream",
     "text": [
      "root\n",
      " |-- path: string (nullable = true)\n",
      " |-- content: binary (nullable = true)\n",
      " |-- label: string (nullable = true)\n",
      "\n"
     ]
    }
   ],
   "source": [
    "image_df.printSchema()"
   ]
  },
  {
   "cell_type": "code",
   "execution_count": 30,
   "id": "0d9a8d87",
   "metadata": {},
   "outputs": [
    {
     "data": {
      "image/png": "[encoded data removed]",
      "text/plain": [
       "<PIL.JpegImagePlugin.JpegImageFile image mode=RGB size=100x100>"
      ]
     },
     "metadata": {},
     "output_type": "display_data"
    }
   ],
   "source": [
    "# affichage d'une image \n",
    "\n",
    "first_img = collect[1][0]\n",
    "image_1 =Image.open(io.BytesIO(first_img))\n",
    "image_1.show()"
   ]
  },
  {
   "cell_type": "markdown",
   "id": "6ae86720",
   "metadata": {},
   "source": [
    "### Preparing the model\n",
    "\n",
    "This part of the project was prepared using this tutorial: <br>\n",
    "https://docs.databricks.com/_static/notebooks/deep-learning/deep-learning-transfer-learning-keras.html"
   ]
  },
  {
   "cell_type": "code",
   "execution_count": 11,
   "id": "67f62d5a",
   "metadata": {},
   "outputs": [
    {
     "name": "stderr",
     "output_type": "stream",
     "text": [
      "2022-12-13 17:23:06.875554: W tensorflow/compiler/xla/stream_executor/platform/default/dso_loader.cc:64] Could not load dynamic library 'libcuda.so.1'; dlerror: libcuda.so.1: cannot open shared object file: No such file or directory\n",
      "2022-12-13 17:23:06.875596: W tensorflow/compiler/xla/stream_executor/cuda/cuda_driver.cc:265] failed call to cuInit: UNKNOWN ERROR (303)\n",
      "2022-12-13 17:23:06.875621: I tensorflow/compiler/xla/stream_executor/cuda/cuda_diagnostics.cc:156] kernel driver does not appear to be running on this host (ip-172-31-38-162.eu-west-3.compute.internal): /proc/driver/nvidia/version does not exist\n",
      "2022-12-13 17:23:06.876636: I tensorflow/core/platform/cpu_feature_guard.cc:193] This TensorFlow binary is optimized with oneAPI Deep Neural Network Library (oneDNN) to use the following CPU instructions in performance-critical operations:  AVX2 FMA\n",
      "To enable them in other operations, rebuild TensorFlow with the appropriate compiler flags.\n"
     ]
    },
    {
     "name": "stdout",
     "output_type": "stream",
     "text": [
      "Model: \"resnet50\"\n",
      "__________________________________________________________________________________________________\n",
      " Layer (type)                   Output Shape         Param #     Connected to                     \n",
      "==================================================================================================\n",
      " input_1 (InputLayer)           [(None, None, None,  0           []                               \n",
      "                                 3)]                                                              \n",
      "                                                                                                  \n",
      " conv1_pad (ZeroPadding2D)      (None, None, None,   0           ['input_1[0][0]']                \n",
      "                                3)                                                                \n",
      "                                                                                                  \n",
      " conv1_conv (Conv2D)            (None, None, None,   9472        ['conv1_pad[0][0]']              \n",
      "                                64)                                                               \n",
      "                                                                                                  \n",
      " conv1_bn (BatchNormalization)  (None, None, None,   256         ['conv1_conv[0][0]']             \n",
      "                                64)                                                               \n",
      "                                                                                                  \n",
      " conv1_relu (Activation)        (None, None, None,   0           ['conv1_bn[0][0]']               \n",
      "                                64)                                                               \n",
      "                                                                                                  \n",
      " pool1_pad (ZeroPadding2D)      (None, None, None,   0           ['conv1_relu[0][0]']             \n",
      "                                64)                                                               \n",
      "                                                                                                  \n",
      " pool1_pool (MaxPooling2D)      (None, None, None,   0           ['pool1_pad[0][0]']              \n",
      "                                64)                                                               \n",
      "                                                                                                  \n",
      " conv2_block1_1_conv (Conv2D)   (None, None, None,   4160        ['pool1_pool[0][0]']             \n",
      "                                64)                                                               \n",
      "                                                                                                  \n",
      " conv2_block1_1_bn (BatchNormal  (None, None, None,   256        ['conv2_block1_1_conv[0][0]']    \n",
      " ization)                       64)                                                               \n",
      "                                                                                                  \n",
      " conv2_block1_1_relu (Activatio  (None, None, None,   0          ['conv2_block1_1_bn[0][0]']      \n",
      " n)                             64)                                                               \n",
      "                                                                                                  \n",
      " conv2_block1_2_conv (Conv2D)   (None, None, None,   36928       ['conv2_block1_1_relu[0][0]']    \n",
      "                                64)                                                               \n",
      "                                                                                                  \n",
      " conv2_block1_2_bn (BatchNormal  (None, None, None,   256        ['conv2_block1_2_conv[0][0]']    \n",
      " ization)                       64)                                                               \n",
      "                                                                                                  \n",
      " conv2_block1_2_relu (Activatio  (None, None, None,   0          ['conv2_block1_2_bn[0][0]']      \n",
      " n)                             64)                                                               \n",
      "                                                                                                  \n",
      " conv2_block1_0_conv (Conv2D)   (None, None, None,   16640       ['pool1_pool[0][0]']             \n",
      "                                256)                                                              \n",
      "                                                                                                  \n",
      " conv2_block1_3_conv (Conv2D)   (None, None, None,   16640       ['conv2_block1_2_relu[0][0]']    \n",
      "                                256)                                                              \n",
      "                                                                                                  \n",
      " conv2_block1_0_bn (BatchNormal  (None, None, None,   1024       ['conv2_block1_0_conv[0][0]']    \n",
      " ization)                       256)                                                              \n",
      "                                                                                                  \n",
      " conv2_block1_3_bn (BatchNormal  (None, None, None,   1024       ['conv2_block1_3_conv[0][0]']    \n",
      " ization)                       256)                                                              \n",
      "                                                                                                  \n",
      " conv2_block1_add (Add)         (None, None, None,   0           ['conv2_block1_0_bn[0][0]',      \n",
      "                                256)                              'conv2_block1_3_bn[0][0]']      \n",
      "                                                                                                  \n",
      " conv2_block1_out (Activation)  (None, None, None,   0           ['conv2_block1_add[0][0]']       \n",
      "                                256)                                                              \n",
      "                                                                                                  \n",
      " conv2_block2_1_conv (Conv2D)   (None, None, None,   16448       ['conv2_block1_out[0][0]']       \n",
      "                                64)                                                               \n",
      "                                                                                                  \n",
      " conv2_block2_1_bn (BatchNormal  (None, None, None,   256        ['conv2_block2_1_conv[0][0]']    \n",
      " ization)                       64)                                                               \n",
      "                                                                                                  \n",
      " conv2_block2_1_relu (Activatio  (None, None, None,   0          ['conv2_block2_1_bn[0][0]']      \n",
      " n)                             64)                                                               \n",
      "                                                                                                  \n",
      " conv2_block2_2_conv (Conv2D)   (None, None, None,   36928       ['conv2_block2_1_relu[0][0]']    \n",
      "                                64)                                                               \n",
      "                                                                                                  \n",
      " conv2_block2_2_bn (BatchNormal  (None, None, None,   256        ['conv2_block2_2_conv[0][0]']    \n",
      " ization)                       64)                                                               \n",
      "                                                                                                  \n",
      " conv2_block2_2_relu (Activatio  (None, None, None,   0          ['conv2_block2_2_bn[0][0]']      \n",
      " n)                             64)                                                               \n",
      "                                                                                                  \n",
      " conv2_block2_3_conv (Conv2D)   (None, None, None,   16640       ['conv2_block2_2_relu[0][0]']    \n",
      "                                256)                                                              \n",
      "                                                                                                  \n",
      " conv2_block2_3_bn (BatchNormal  (None, None, None,   1024       ['conv2_block2_3_conv[0][0]']    \n",
      " ization)                       256)                                                              \n",
      "                                                                                                  \n",
      " conv2_block2_add (Add)         (None, None, None,   0           ['conv2_block1_out[0][0]',       \n",
      "                                256)                              'conv2_block2_3_bn[0][0]']      \n",
      "                                                                                                  \n",
      " conv2_block2_out (Activation)  (None, None, None,   0           ['conv2_block2_add[0][0]']       \n",
      "                                256)                                                              \n",
      "                                                                                                  \n",
      " conv2_block3_1_conv (Conv2D)   (None, None, None,   16448       ['conv2_block2_out[0][0]']       \n",
      "                                64)                                                               \n",
      "                                                                                                  \n",
      " conv2_block3_1_bn (BatchNormal  (None, None, None,   256        ['conv2_block3_1_conv[0][0]']    \n",
      " ization)                       64)                                                               \n",
      "                                                                                                  \n",
      " conv2_block3_1_relu (Activatio  (None, None, None,   0          ['conv2_block3_1_bn[0][0]']      \n",
      " n)                             64)                                                               \n",
      "                                                                                                  \n",
      " conv2_block3_2_conv (Conv2D)   (None, None, None,   36928       ['conv2_block3_1_relu[0][0]']    \n",
      "                                64)                                                               \n",
      "                                                                                                  \n",
      " conv2_block3_2_bn (BatchNormal  (None, None, None,   256        ['conv2_block3_2_conv[0][0]']    \n",
      " ization)                       64)                                                               \n",
      "                                                                                                  \n",
      " conv2_block3_2_relu (Activatio  (None, None, None,   0          ['conv2_block3_2_bn[0][0]']      \n",
      " n)                             64)                                                               \n",
      "                                                                                                  \n",
      " conv2_block3_3_conv (Conv2D)   (None, None, None,   16640       ['conv2_block3_2_relu[0][0]']    \n",
      "                                256)                                                              \n",
      "                                                                                                  \n",
      " conv2_block3_3_bn (BatchNormal  (None, None, None,   1024       ['conv2_block3_3_conv[0][0]']    \n",
      " ization)                       256)                                                              \n",
      "                                                                                                  \n",
      " conv2_block3_add (Add)         (None, None, None,   0           ['conv2_block2_out[0][0]',       \n",
      "                                256)                              'conv2_block3_3_bn[0][0]']      \n",
      "                                                                                                  \n",
      " conv2_block3_out (Activation)  (None, None, None,   0           ['conv2_block3_add[0][0]']       \n",
      "                                256)                                                              \n",
      "                                                                                                  \n",
      " conv3_block1_1_conv (Conv2D)   (None, None, None,   32896       ['conv2_block3_out[0][0]']       \n",
      "                                128)                                                              \n",
      "                                                                                                  \n",
      " conv3_block1_1_bn (BatchNormal  (None, None, None,   512        ['conv3_block1_1_conv[0][0]']    \n",
      " ization)                       128)                                                              \n",
      "                                                                                                  \n",
      " conv3_block1_1_relu (Activatio  (None, None, None,   0          ['conv3_block1_1_bn[0][0]']      \n",
      " n)                             128)                                                              \n",
      "                                                                                                  \n",
      " conv3_block1_2_conv (Conv2D)   (None, None, None,   147584      ['conv3_block1_1_relu[0][0]']    \n",
      "                                128)                                                              \n",
      "                                                                                                  \n",
      " conv3_block1_2_bn (BatchNormal  (None, None, None,   512        ['conv3_block1_2_conv[0][0]']    \n",
      " ization)                       128)                                                              \n",
      "                                                                                                  \n",
      " conv3_block1_2_relu (Activatio  (None, None, None,   0          ['conv3_block1_2_bn[0][0]']      \n",
      " n)                             128)                                                              \n",
      "                                                                                                  \n",
      " conv3_block1_0_conv (Conv2D)   (None, None, None,   131584      ['conv2_block3_out[0][0]']       \n",
      "                                512)                                                              \n",
      "                                                                                                  \n",
      " conv3_block1_3_conv (Conv2D)   (None, None, None,   66048       ['conv3_block1_2_relu[0][0]']    \n",
      "                                512)                                                              \n",
      "                                                                                                  \n",
      " conv3_block1_0_bn (BatchNormal  (None, None, None,   2048       ['conv3_block1_0_conv[0][0]']    \n",
      " ization)                       512)                                                              \n",
      "                                                                                                  \n",
      " conv3_block1_3_bn (BatchNormal  (None, None, None,   2048       ['conv3_block1_3_conv[0][0]']    \n",
      " ization)                       512)                                                              \n",
      "                                                                                                  \n",
      " conv3_block1_add (Add)         (None, None, None,   0           ['conv3_block1_0_bn[0][0]',      \n",
      "                                512)                              'conv3_block1_3_bn[0][0]']      \n",
      "                                                                                                  \n",
      " conv3_block1_out (Activation)  (None, None, None,   0           ['conv3_block1_add[0][0]']       \n",
      "                                512)                                                              \n",
      "                                                                                                  \n",
      " conv3_block2_1_conv (Conv2D)   (None, None, None,   65664       ['conv3_block1_out[0][0]']       \n",
      "                                128)                                                              \n",
      "                                                                                                  \n",
      " conv3_block2_1_bn (BatchNormal  (None, None, None,   512        ['conv3_block2_1_conv[0][0]']    \n",
      " ization)                       128)                                                              \n",
      "                                                                                                  \n",
      " conv3_block2_1_relu (Activatio  (None, None, None,   0          ['conv3_block2_1_bn[0][0]']      \n",
      " n)                             128)                                                              \n",
      "                                                                                                  \n",
      " conv3_block2_2_conv (Conv2D)   (None, None, None,   147584      ['conv3_block2_1_relu[0][0]']    \n",
      "                                128)                                                              \n",
      "                                                                                                  \n",
      " conv3_block2_2_bn (BatchNormal  (None, None, None,   512        ['conv3_block2_2_conv[0][0]']    \n",
      " ization)                       128)                                                              \n",
      "                                                                                                  \n",
      " conv3_block2_2_relu (Activatio  (None, None, None,   0          ['conv3_block2_2_bn[0][0]']      \n",
      " n)                             128)                                                              \n",
      "                                                                                                  \n",
      " conv3_block2_3_conv (Conv2D)   (None, None, None,   66048       ['conv3_block2_2_relu[0][0]']    \n",
      "                                512)                                                              \n",
      "                                                                                                  \n",
      " conv3_block2_3_bn (BatchNormal  (None, None, None,   2048       ['conv3_block2_3_conv[0][0]']    \n",
      " ization)                       512)                                                              \n",
      "                                                                                                  \n",
      " conv3_block2_add (Add)         (None, None, None,   0           ['conv3_block1_out[0][0]',       \n",
      "                                512)                              'conv3_block2_3_bn[0][0]']      \n",
      "                                                                                                  \n",
      " conv3_block2_out (Activation)  (None, None, None,   0           ['conv3_block2_add[0][0]']       \n",
      "                                512)                                                              \n",
      "                                                                                                  \n",
      " conv3_block3_1_conv (Conv2D)   (None, None, None,   65664       ['conv3_block2_out[0][0]']       \n",
      "                                128)                                                              \n",
      "                                                                                                  \n",
      " conv3_block3_1_bn (BatchNormal  (None, None, None,   512        ['conv3_block3_1_conv[0][0]']    \n",
      " ization)                       128)                                                              \n",
      "                                                                                                  \n",
      " conv3_block3_1_relu (Activatio  (None, None, None,   0          ['conv3_block3_1_bn[0][0]']      \n",
      " n)                             128)                                                              \n",
      "                                                                                                  \n",
      " conv3_block3_2_conv (Conv2D)   (None, None, None,   147584      ['conv3_block3_1_relu[0][0]']    \n",
      "                                128)                                                              \n",
      "                                                                                                  \n",
      " conv3_block3_2_bn (BatchNormal  (None, None, None,   512        ['conv3_block3_2_conv[0][0]']    \n",
      " ization)                       128)                                                              \n",
      "                                                                                                  \n",
      " conv3_block3_2_relu (Activatio  (None, None, None,   0          ['conv3_block3_2_bn[0][0]']      \n",
      " n)                             128)                                                              \n",
      "                                                                                                  \n",
      " conv3_block3_3_conv (Conv2D)   (None, None, None,   66048       ['conv3_block3_2_relu[0][0]']    \n",
      "                                512)                                                              \n",
      "                                                                                                  \n",
      " conv3_block3_3_bn (BatchNormal  (None, None, None,   2048       ['conv3_block3_3_conv[0][0]']    \n",
      " ization)                       512)                                                              \n",
      "                                                                                                  \n",
      " conv3_block3_add (Add)         (None, None, None,   0           ['conv3_block2_out[0][0]',       \n",
      "                                512)                              'conv3_block3_3_bn[0][0]']      \n",
      "                                                                                                  \n",
      " conv3_block3_out (Activation)  (None, None, None,   0           ['conv3_block3_add[0][0]']       \n",
      "                                512)                                                              \n",
      "                                                                                                  \n",
      " conv3_block4_1_conv (Conv2D)   (None, None, None,   65664       ['conv3_block3_out[0][0]']       \n",
      "                                128)                                                              \n",
      "                                                                                                  \n",
      " conv3_block4_1_bn (BatchNormal  (None, None, None,   512        ['conv3_block4_1_conv[0][0]']    \n",
      " ization)                       128)                                                              \n",
      "                                                                                                  \n",
      " conv3_block4_1_relu (Activatio  (None, None, None,   0          ['conv3_block4_1_bn[0][0]']      \n",
      " n)                             128)                                                              \n",
      "                                                                                                  \n",
      " conv3_block4_2_conv (Conv2D)   (None, None, None,   147584      ['conv3_block4_1_relu[0][0]']    \n",
      "                                128)                                                              \n",
      "                                                                                                  \n",
      " conv3_block4_2_bn (BatchNormal  (None, None, None,   512        ['conv3_block4_2_conv[0][0]']    \n",
      " ization)                       128)                                                              \n",
      "                                                                                                  \n",
      " conv3_block4_2_relu (Activatio  (None, None, None,   0          ['conv3_block4_2_bn[0][0]']      \n",
      " n)                             128)                                                              \n",
      "                                                                                                  \n",
      " conv3_block4_3_conv (Conv2D)   (None, None, None,   66048       ['conv3_block4_2_relu[0][0]']    \n",
      "                                512)                                                              \n",
      "                                                                                                  \n",
      " conv3_block4_3_bn (BatchNormal  (None, None, None,   2048       ['conv3_block4_3_conv[0][0]']    \n",
      " ization)                       512)                                                              \n",
      "                                                                                                  \n",
      " conv3_block4_add (Add)         (None, None, None,   0           ['conv3_block3_out[0][0]',       \n",
      "                                512)                              'conv3_block4_3_bn[0][0]']      \n",
      "                                                                                                  \n",
      " conv3_block4_out (Activation)  (None, None, None,   0           ['conv3_block4_add[0][0]']       \n",
      "                                512)                                                              \n",
      "                                                                                                  \n",
      " conv4_block1_1_conv (Conv2D)   (None, None, None,   131328      ['conv3_block4_out[0][0]']       \n",
      "                                256)                                                              \n",
      "                                                                                                  \n",
      " conv4_block1_1_bn (BatchNormal  (None, None, None,   1024       ['conv4_block1_1_conv[0][0]']    \n",
      " ization)                       256)                                                              \n",
      "                                                                                                  \n",
      " conv4_block1_1_relu (Activatio  (None, None, None,   0          ['conv4_block1_1_bn[0][0]']      \n",
      " n)                             256)                                                              \n",
      "                                                                                                  \n",
      " conv4_block1_2_conv (Conv2D)   (None, None, None,   590080      ['conv4_block1_1_relu[0][0]']    \n",
      "                                256)                                                              \n",
      "                                                                                                  \n",
      " conv4_block1_2_bn (BatchNormal  (None, None, None,   1024       ['conv4_block1_2_conv[0][0]']    \n",
      " ization)                       256)                                                              \n",
      "                                                                                                  \n",
      " conv4_block1_2_relu (Activatio  (None, None, None,   0          ['conv4_block1_2_bn[0][0]']      \n",
      " n)                             256)                                                              \n",
      "                                                                                                  \n",
      " conv4_block1_0_conv (Conv2D)   (None, None, None,   525312      ['conv3_block4_out[0][0]']       \n",
      "                                1024)                                                             \n",
      "                                                                                                  \n",
      " conv4_block1_3_conv (Conv2D)   (None, None, None,   263168      ['conv4_block1_2_relu[0][0]']    \n",
      "                                1024)                                                             \n",
      "                                                                                                  \n",
      " conv4_block1_0_bn (BatchNormal  (None, None, None,   4096       ['conv4_block1_0_conv[0][0]']    \n",
      " ization)                       1024)                                                             \n",
      "                                                                                                  \n",
      " conv4_block1_3_bn (BatchNormal  (None, None, None,   4096       ['conv4_block1_3_conv[0][0]']    \n",
      " ization)                       1024)                                                             \n",
      "                                                                                                  \n",
      " conv4_block1_add (Add)         (None, None, None,   0           ['conv4_block1_0_bn[0][0]',      \n",
      "                                1024)                             'conv4_block1_3_bn[0][0]']      \n",
      "                                                                                                  \n",
      " conv4_block1_out (Activation)  (None, None, None,   0           ['conv4_block1_add[0][0]']       \n",
      "                                1024)                                                             \n",
      "                                                                                                  \n",
      " conv4_block2_1_conv (Conv2D)   (None, None, None,   262400      ['conv4_block1_out[0][0]']       \n",
      "                                256)                                                              \n",
      "                                                                                                  \n",
      " conv4_block2_1_bn (BatchNormal  (None, None, None,   1024       ['conv4_block2_1_conv[0][0]']    \n",
      " ization)                       256)                                                              \n",
      "                                                                                                  \n",
      " conv4_block2_1_relu (Activatio  (None, None, None,   0          ['conv4_block2_1_bn[0][0]']      \n",
      " n)                             256)                                                              \n",
      "                                                                                                  \n",
      " conv4_block2_2_conv (Conv2D)   (None, None, None,   590080      ['conv4_block2_1_relu[0][0]']    \n",
      "                                256)                                                              \n",
      "                                                                                                  \n",
      " conv4_block2_2_bn (BatchNormal  (None, None, None,   1024       ['conv4_block2_2_conv[0][0]']    \n",
      " ization)                       256)                                                              \n",
      "                                                                                                  \n",
      " conv4_block2_2_relu (Activatio  (None, None, None,   0          ['conv4_block2_2_bn[0][0]']      \n",
      " n)                             256)                                                              \n",
      "                                                                                                  \n",
      " conv4_block2_3_conv (Conv2D)   (None, None, None,   263168      ['conv4_block2_2_relu[0][0]']    \n",
      "                                1024)                                                             \n",
      "                                                                                                  \n",
      " conv4_block2_3_bn (BatchNormal  (None, None, None,   4096       ['conv4_block2_3_conv[0][0]']    \n",
      " ization)                       1024)                                                             \n",
      "                                                                                                  \n",
      " conv4_block2_add (Add)         (None, None, None,   0           ['conv4_block1_out[0][0]',       \n",
      "                                1024)                             'conv4_block2_3_bn[0][0]']      \n",
      "                                                                                                  \n",
      " conv4_block2_out (Activation)  (None, None, None,   0           ['conv4_block2_add[0][0]']       \n",
      "                                1024)                                                             \n",
      "                                                                                                  \n",
      " conv4_block3_1_conv (Conv2D)   (None, None, None,   262400      ['conv4_block2_out[0][0]']       \n",
      "                                256)                                                              \n",
      "                                                                                                  \n",
      " conv4_block3_1_bn (BatchNormal  (None, None, None,   1024       ['conv4_block3_1_conv[0][0]']    \n",
      " ization)                       256)                                                              \n",
      "                                                                                                  \n",
      " conv4_block3_1_relu (Activatio  (None, None, None,   0          ['conv4_block3_1_bn[0][0]']      \n",
      " n)                             256)                                                              \n",
      "                                                                                                  \n",
      " conv4_block3_2_conv (Conv2D)   (None, None, None,   590080      ['conv4_block3_1_relu[0][0]']    \n",
      "                                256)                                                              \n",
      "                                                                                                  \n",
      " conv4_block3_2_bn (BatchNormal  (None, None, None,   1024       ['conv4_block3_2_conv[0][0]']    \n",
      " ization)                       256)                                                              \n",
      "                                                                                                  \n",
      " conv4_block3_2_relu (Activatio  (None, None, None,   0          ['conv4_block3_2_bn[0][0]']      \n",
      " n)                             256)                                                              \n",
      "                                                                                                  \n",
      " conv4_block3_3_conv (Conv2D)   (None, None, None,   263168      ['conv4_block3_2_relu[0][0]']    \n",
      "                                1024)                                                             \n",
      "                                                                                                  \n",
      " conv4_block3_3_bn (BatchNormal  (None, None, None,   4096       ['conv4_block3_3_conv[0][0]']    \n",
      " ization)                       1024)                                                             \n",
      "                                                                                                  \n",
      " conv4_block3_add (Add)         (None, None, None,   0           ['conv4_block2_out[0][0]',       \n",
      "                                1024)                             'conv4_block3_3_bn[0][0]']      \n",
      "                                                                                                  \n",
      " conv4_block3_out (Activation)  (None, None, None,   0           ['conv4_block3_add[0][0]']       \n",
      "                                1024)                                                             \n",
      "                                                                                                  \n",
      " conv4_block4_1_conv (Conv2D)   (None, None, None,   262400      ['conv4_block3_out[0][0]']       \n",
      "                                256)                                                              \n",
      "                                                                                                  \n",
      " conv4_block4_1_bn (BatchNormal  (None, None, None,   1024       ['conv4_block4_1_conv[0][0]']    \n",
      " ization)                       256)                                                              \n",
      "                                                                                                  \n",
      " conv4_block4_1_relu (Activatio  (None, None, None,   0          ['conv4_block4_1_bn[0][0]']      \n",
      " n)                             256)                                                              \n",
      "                                                                                                  \n",
      " conv4_block4_2_conv (Conv2D)   (None, None, None,   590080      ['conv4_block4_1_relu[0][0]']    \n",
      "                                256)                                                              \n",
      "                                                                                                  \n",
      " conv4_block4_2_bn (BatchNormal  (None, None, None,   1024       ['conv4_block4_2_conv[0][0]']    \n",
      " ization)                       256)                                                              \n",
      "                                                                                                  \n",
      " conv4_block4_2_relu (Activatio  (None, None, None,   0          ['conv4_block4_2_bn[0][0]']      \n",
      " n)                             256)                                                              \n",
      "                                                                                                  \n",
      " conv4_block4_3_conv (Conv2D)   (None, None, None,   263168      ['conv4_block4_2_relu[0][0]']    \n",
      "                                1024)                                                             \n",
      "                                                                                                  \n",
      " conv4_block4_3_bn (BatchNormal  (None, None, None,   4096       ['conv4_block4_3_conv[0][0]']    \n",
      " ization)                       1024)                                                             \n",
      "                                                                                                  \n",
      " conv4_block4_add (Add)         (None, None, None,   0           ['conv4_block3_out[0][0]',       \n",
      "                                1024)                             'conv4_block4_3_bn[0][0]']      \n",
      "                                                                                                  \n",
      " conv4_block4_out (Activation)  (None, None, None,   0           ['conv4_block4_add[0][0]']       \n",
      "                                1024)                                                             \n",
      "                                                                                                  \n",
      " conv4_block5_1_conv (Conv2D)   (None, None, None,   262400      ['conv4_block4_out[0][0]']       \n",
      "                                256)                                                              \n",
      "                                                                                                  \n",
      " conv4_block5_1_bn (BatchNormal  (None, None, None,   1024       ['conv4_block5_1_conv[0][0]']    \n",
      " ization)                       256)                                                              \n",
      "                                                                                                  \n",
      " conv4_block5_1_relu (Activatio  (None, None, None,   0          ['conv4_block5_1_bn[0][0]']      \n",
      " n)                             256)                                                              \n",
      "                                                                                                  \n",
      " conv4_block5_2_conv (Conv2D)   (None, None, None,   590080      ['conv4_block5_1_relu[0][0]']    \n",
      "                                256)                                                              \n",
      "                                                                                                  \n",
      " conv4_block5_2_bn (BatchNormal  (None, None, None,   1024       ['conv4_block5_2_conv[0][0]']    \n",
      " ization)                       256)                                                              \n",
      "                                                                                                  \n",
      " conv4_block5_2_relu (Activatio  (None, None, None,   0          ['conv4_block5_2_bn[0][0]']      \n",
      " n)                             256)                                                              \n",
      "                                                                                                  \n",
      " conv4_block5_3_conv (Conv2D)   (None, None, None,   263168      ['conv4_block5_2_relu[0][0]']    \n",
      "                                1024)                                                             \n",
      "                                                                                                  \n",
      " conv4_block5_3_bn (BatchNormal  (None, None, None,   4096       ['conv4_block5_3_conv[0][0]']    \n",
      " ization)                       1024)                                                             \n",
      "                                                                                                  \n",
      " conv4_block5_add (Add)         (None, None, None,   0           ['conv4_block4_out[0][0]',       \n",
      "                                1024)                             'conv4_block5_3_bn[0][0]']      \n",
      "                                                                                                  \n",
      " conv4_block5_out (Activation)  (None, None, None,   0           ['conv4_block5_add[0][0]']       \n",
      "                                1024)                                                             \n",
      "                                                                                                  \n",
      " conv4_block6_1_conv (Conv2D)   (None, None, None,   262400      ['conv4_block5_out[0][0]']       \n",
      "                                256)                                                              \n",
      "                                                                                                  \n",
      " conv4_block6_1_bn (BatchNormal  (None, None, None,   1024       ['conv4_block6_1_conv[0][0]']    \n",
      " ization)                       256)                                                              \n",
      "                                                                                                  \n",
      " conv4_block6_1_relu (Activatio  (None, None, None,   0          ['conv4_block6_1_bn[0][0]']      \n",
      " n)                             256)                                                              \n",
      "                                                                                                  \n",
      " conv4_block6_2_conv (Conv2D)   (None, None, None,   590080      ['conv4_block6_1_relu[0][0]']    \n",
      "                                256)                                                              \n",
      "                                                                                                  \n",
      " conv4_block6_2_bn (BatchNormal  (None, None, None,   1024       ['conv4_block6_2_conv[0][0]']    \n",
      " ization)                       256)                                                              \n",
      "                                                                                                  \n",
      " conv4_block6_2_relu (Activatio  (None, None, None,   0          ['conv4_block6_2_bn[0][0]']      \n",
      " n)                             256)                                                              \n",
      "                                                                                                  \n",
      " conv4_block6_3_conv (Conv2D)   (None, None, None,   263168      ['conv4_block6_2_relu[0][0]']    \n",
      "                                1024)                                                             \n",
      "                                                                                                  \n",
      " conv4_block6_3_bn (BatchNormal  (None, None, None,   4096       ['conv4_block6_3_conv[0][0]']    \n",
      " ization)                       1024)                                                             \n",
      "                                                                                                  \n",
      " conv4_block6_add (Add)         (None, None, None,   0           ['conv4_block5_out[0][0]',       \n",
      "                                1024)                             'conv4_block6_3_bn[0][0]']      \n",
      "                                                                                                  \n",
      " conv4_block6_out (Activation)  (None, None, None,   0           ['conv4_block6_add[0][0]']       \n",
      "                                1024)                                                             \n",
      "                                                                                                  \n",
      " conv5_block1_1_conv (Conv2D)   (None, None, None,   524800      ['conv4_block6_out[0][0]']       \n",
      "                                512)                                                              \n",
      "                                                                                                  \n",
      " conv5_block1_1_bn (BatchNormal  (None, None, None,   2048       ['conv5_block1_1_conv[0][0]']    \n",
      " ization)                       512)                                                              \n",
      "                                                                                                  \n",
      " conv5_block1_1_relu (Activatio  (None, None, None,   0          ['conv5_block1_1_bn[0][0]']      \n",
      " n)                             512)                                                              \n",
      "                                                                                                  \n",
      " conv5_block1_2_conv (Conv2D)   (None, None, None,   2359808     ['conv5_block1_1_relu[0][0]']    \n",
      "                                512)                                                              \n",
      "                                                                                                  \n",
      " conv5_block1_2_bn (BatchNormal  (None, None, None,   2048       ['conv5_block1_2_conv[0][0]']    \n",
      " ization)                       512)                                                              \n",
      "                                                                                                  \n",
      " conv5_block1_2_relu (Activatio  (None, None, None,   0          ['conv5_block1_2_bn[0][0]']      \n",
      " n)                             512)                                                              \n",
      "                                                                                                  \n",
      " conv5_block1_0_conv (Conv2D)   (None, None, None,   2099200     ['conv4_block6_out[0][0]']       \n",
      "                                2048)                                                             \n",
      "                                                                                                  \n",
      " conv5_block1_3_conv (Conv2D)   (None, None, None,   1050624     ['conv5_block1_2_relu[0][0]']    \n",
      "                                2048)                                                             \n",
      "                                                                                                  \n",
      " conv5_block1_0_bn (BatchNormal  (None, None, None,   8192       ['conv5_block1_0_conv[0][0]']    \n",
      " ization)                       2048)                                                             \n",
      "                                                                                                  \n",
      " conv5_block1_3_bn (BatchNormal  (None, None, None,   8192       ['conv5_block1_3_conv[0][0]']    \n",
      " ization)                       2048)                                                             \n",
      "                                                                                                  \n",
      " conv5_block1_add (Add)         (None, None, None,   0           ['conv5_block1_0_bn[0][0]',      \n",
      "                                2048)                             'conv5_block1_3_bn[0][0]']      \n",
      "                                                                                                  \n",
      " conv5_block1_out (Activation)  (None, None, None,   0           ['conv5_block1_add[0][0]']       \n",
      "                                2048)                                                             \n",
      "                                                                                                  \n",
      " conv5_block2_1_conv (Conv2D)   (None, None, None,   1049088     ['conv5_block1_out[0][0]']       \n",
      "                                512)                                                              \n",
      "                                                                                                  \n",
      " conv5_block2_1_bn (BatchNormal  (None, None, None,   2048       ['conv5_block2_1_conv[0][0]']    \n",
      " ization)                       512)                                                              \n",
      "                                                                                                  \n",
      " conv5_block2_1_relu (Activatio  (None, None, None,   0          ['conv5_block2_1_bn[0][0]']      \n",
      " n)                             512)                                                              \n",
      "                                                                                                  \n",
      " conv5_block2_2_conv (Conv2D)   (None, None, None,   2359808     ['conv5_block2_1_relu[0][0]']    \n",
      "                                512)                                                              \n",
      "                                                                                                  \n",
      " conv5_block2_2_bn (BatchNormal  (None, None, None,   2048       ['conv5_block2_2_conv[0][0]']    \n",
      " ization)                       512)                                                              \n",
      "                                                                                                  \n",
      " conv5_block2_2_relu (Activatio  (None, None, None,   0          ['conv5_block2_2_bn[0][0]']      \n",
      " n)                             512)                                                              \n",
      "                                                                                                  \n",
      " conv5_block2_3_conv (Conv2D)   (None, None, None,   1050624     ['conv5_block2_2_relu[0][0]']    \n",
      "                                2048)                                                             \n",
      "                                                                                                  \n",
      " conv5_block2_3_bn (BatchNormal  (None, None, None,   8192       ['conv5_block2_3_conv[0][0]']    \n",
      " ization)                       2048)                                                             \n",
      "                                                                                                  \n",
      " conv5_block2_add (Add)         (None, None, None,   0           ['conv5_block1_out[0][0]',       \n",
      "                                2048)                             'conv5_block2_3_bn[0][0]']      \n",
      "                                                                                                  \n",
      " conv5_block2_out (Activation)  (None, None, None,   0           ['conv5_block2_add[0][0]']       \n",
      "                                2048)                                                             \n",
      "                                                                                                  \n",
      " conv5_block3_1_conv (Conv2D)   (None, None, None,   1049088     ['conv5_block2_out[0][0]']       \n",
      "                                512)                                                              \n",
      "                                                                                                  \n",
      " conv5_block3_1_bn (BatchNormal  (None, None, None,   2048       ['conv5_block3_1_conv[0][0]']    \n",
      " ization)                       512)                                                              \n",
      "                                                                                                  \n",
      " conv5_block3_1_relu (Activatio  (None, None, None,   0          ['conv5_block3_1_bn[0][0]']      \n",
      " n)                             512)                                                              \n",
      "                                                                                                  \n",
      " conv5_block3_2_conv (Conv2D)   (None, None, None,   2359808     ['conv5_block3_1_relu[0][0]']    \n",
      "                                512)                                                              \n",
      "                                                                                                  \n",
      " conv5_block3_2_bn (BatchNormal  (None, None, None,   2048       ['conv5_block3_2_conv[0][0]']    \n",
      " ization)                       512)                                                              \n",
      "                                                                                                  \n",
      " conv5_block3_2_relu (Activatio  (None, None, None,   0          ['conv5_block3_2_bn[0][0]']      \n",
      " n)                             512)                                                              \n",
      "                                                                                                  \n",
      " conv5_block3_3_conv (Conv2D)   (None, None, None,   1050624     ['conv5_block3_2_relu[0][0]']    \n",
      "                                2048)                                                             \n",
      "                                                                                                  \n",
      " conv5_block3_3_bn (BatchNormal  (None, None, None,   8192       ['conv5_block3_3_conv[0][0]']    \n",
      " ization)                       2048)                                                             \n",
      "                                                                                                  \n",
      " conv5_block3_add (Add)         (None, None, None,   0           ['conv5_block2_out[0][0]',       \n",
      "                                2048)                             'conv5_block3_3_bn[0][0]']      \n",
      "                                                                                                  \n",
      " conv5_block3_out (Activation)  (None, None, None,   0           ['conv5_block3_add[0][0]']       \n",
      "                                2048)                                                             \n",
      "                                                                                                  \n",
      "==================================================================================================\n",
      "Total params: 23,587,712\n",
      "Trainable params: 23,534,592\n",
      "Non-trainable params: 53,120\n",
      "__________________________________________________________________________________________________\n"
     ]
    }
   ],
   "source": [
    "model = ResNet50(include_top=False)\n",
    "model.summary()  # verify that the top layer is removed\n"
   ]
  },
  {
   "cell_type": "code",
   "execution_count": 12,
   "id": "eba377a1",
   "metadata": {},
   "outputs": [],
   "source": [
    "bc_model_weights = sc.broadcast(model.get_weights())\n",
    "\n",
    "def model_fn():\n",
    "    \"\"\"\n",
    "    Returns a ResNet50 model with top layer removed and broadcasted pretrained weights.\n",
    "    \"\"\"\n",
    "    model = ResNet50(weights=None, include_top=False)\n",
    "    model.set_weights(bc_model_weights.value)\n",
    "    return model\n"
   ]
  },
  {
   "cell_type": "markdown",
   "id": "43ffbd52",
   "metadata": {},
   "source": [
    "### Define image loading and featurization logic in a Pandas UDF"
   ]
  },
  {
   "cell_type": "code",
   "execution_count": 13,
   "id": "5db26ac7",
   "metadata": {},
   "outputs": [],
   "source": [
    "\n",
    "def preprocess(content):\n",
    "    \"\"\"\n",
    "    Preprocesses raw image bytes for prediction.\n",
    "    \"\"\"\n",
    "    img = Image.open(io.BytesIO(content)).resize([224, 224])\n",
    "    arr = img_to_array(img)\n",
    "    return preprocess_input(arr)\n",
    "\n",
    "\n",
    "def featurize_series(model, content_series):\n",
    "    \"\"\"\n",
    "    Featurize a pd.Series of raw images using the input model.\n",
    "    :return: a pd.Series of image features\n",
    "    \"\"\"\n",
    "    input = np.stack(content_series.map(preprocess))\n",
    "    preds = model.predict(input)\n",
    "  # For some layers, output features will be multi-dimensional tensors.\n",
    "  # We flatten the feature tensors to vectors for easier storage in Spark DataFrames.\n",
    "    output = [p.flatten() for p in preds]\n",
    "    return pd.Series(output)\n",
    "\n"
   ]
  },
  {
   "cell_type": "markdown",
   "id": "bb304b40",
   "metadata": {},
   "source": [
    "The following method is a Scalar Iterator pandas UDF wrapping our featurization function.\n",
    "The decorator specifies that this returns a Spark DataFrame column of type ArrayType(FloatType).\n",
    " \n",
    "With Scalar Iterator pandas UDFs, we can load the model once and then re-use it for multiple data batches.  This amortizes the overhead of loading big models."
   ]
  },
  {
   "cell_type": "code",
   "execution_count": 14,
   "id": "6a416f03",
   "metadata": {},
   "outputs": [
    {
     "name": "stderr",
     "output_type": "stream",
     "text": [
      "/home/ec2-user/miniconda3/lib/python3.9/site-packages/pyspark/sql/pandas/functions.py:394: UserWarning: In Python 3.6+ and Spark 3.0+, it is preferred to specify type hints for pandas UDF instead of specifying pandas UDF type which will be deprecated in the future releases. See SPARK-28264 for more details.\n",
      "  warnings.warn(\n"
     ]
    }
   ],
   "source": [
    "@pandas_udf('array<float>', PandasUDFType.SCALAR_ITER)\n",
    "def featurize_udf(content_series_iter):\n",
    "    \"\"\"\n",
    "  This method is a Scalar Iterator pandas UDF wrapping our featurization function.\n",
    "  The decorator specifies that this returns a Spark DataFrame column of type ArrayType(FloatType).\n",
    "  \n",
    "  :param content_series_iter: This argument is an iterator over batches of data, where each batch\n",
    "                              is a pandas Series of image data.\n",
    "    \"\"\"\n",
    "  # With Scalar Iterator pandas UDFs, we can load the model once and then re-use it\n",
    "  # for multiple data batches.  This amortizes the overhead of loading big models.\n",
    "    model = model_fn()\n",
    "    for content_series in content_series_iter:\n",
    "        yield featurize_series(model, content_series)\n",
    "        \n",
    "        "
   ]
  },
  {
   "cell_type": "markdown",
   "id": "ab4f6ceb",
   "metadata": {},
   "source": [
    "### Apply featurization to the DataFrame of images"
   ]
  },
  {
   "cell_type": "code",
   "execution_count": 15,
   "id": "1c35cfb9",
   "metadata": {},
   "outputs": [],
   "source": [
    "# Pandas UDFs on large records (e.g., very large images) can run into Out Of Memory (OOM) errors.\n",
    "# If you hit such errors in the cell below, try reducing the Arrow batch size via `maxRecordsPerBatch`.\n",
    "spark.conf.set(\"spark.sql.execution.arrow.maxRecordsPerBatch\", \"1024\")"
   ]
  },
  {
   "cell_type": "code",
   "execution_count": 16,
   "id": "43c7299a",
   "metadata": {},
   "outputs": [],
   "source": [
    "# création d'UDF qui transforme chaque ligne vers un vecteur\n",
    "list_to_vector_udf = udf(lambda l: Vectors.dense(l), VectorUDT())"
   ]
  },
  {
   "cell_type": "code",
   "execution_count": 17,
   "id": "cd267747",
   "metadata": {
    "scrolled": false
   },
   "outputs": [],
   "source": [
    "features_df = image_df.repartition(16).select(featurize_udf(\"content\").alias(\"features\"))"
   ]
  },
  {
   "cell_type": "code",
   "execution_count": 18,
   "id": "c00a7fdd",
   "metadata": {},
   "outputs": [],
   "source": [
    "# We can now run featurization on our entire Spark DataFrame.\n",
    "# NOTE: This can take a long time (about 10 minutes) since it applies a large model to the full dataset.\n",
    "\n",
    "# appliquer \"featurize_udf\" sur tout le dataframe\n",
    "features_df = image_df.repartition(16).select(col('path'), featurize_udf('content').alias('features'))\n",
    "# appliquer \"list_to_vector_udf\" sur tout le dataframe\n",
    "features_df = features_df.withColumn(\"features_udf\", list_to_vector_udf(col(\"features\")))"
   ]
  },
  {
   "cell_type": "code",
   "execution_count": 19,
   "id": "f08a08bf",
   "metadata": {},
   "outputs": [
    {
     "name": "stderr",
     "output_type": "stream",
     "text": [
      "2022-12-13 17:23:43.964460: I tensorflow/core/platform/cpu_feature_guard.cc:193] This TensorFlow binary is optimized with oneAPI Deep Neural Network Library (oneDNN) to use the following CPU instructions in performance-critical operations:  AVX2 FMA\n",
      "To enable them in other operations, rebuild TensorFlow with the appropriate compiler flags.\n",
      "2022-12-13 17:23:44.103769: W tensorflow/compiler/xla/stream_executor/platform/default/dso_loader.cc:64] Could not load dynamic library 'libcudart.so.11.0'; dlerror: libcudart.so.11.0: cannot open shared object file: No such file or directory\n",
      "2022-12-13 17:23:44.103812: I tensorflow/compiler/xla/stream_executor/cuda/cudart_stub.cc:29] Ignore above cudart dlerror if you do not have a GPU set up on your machine.\n",
      "2022-12-13 17:23:44.851228: W tensorflow/compiler/xla/stream_executor/platform/default/dso_loader.cc:64] Could not load dynamic library 'libnvinfer.so.7'; dlerror: libnvinfer.so.7: cannot open shared object file: No such file or directory\n",
      "2022-12-13 17:23:44.851307: W tensorflow/compiler/xla/stream_executor/platform/default/dso_loader.cc:64] Could not load dynamic library 'libnvinfer_plugin.so.7'; dlerror: libnvinfer_plugin.so.7: cannot open shared object file: No such file or directory\n",
      "2022-12-13 17:23:44.851321: W tensorflow/compiler/tf2tensorrt/utils/py_utils.cc:38] TF-TRT Warning: Cannot dlopen some TensorRT libraries. If you would like to use Nvidia GPU with TensorRT, please make sure the missing libraries mentioned above are installed properly.\n",
      "2022-12-13 17:23:46.013311: W tensorflow/compiler/xla/stream_executor/platform/default/dso_loader.cc:64] Could not load dynamic library 'libcuda.so.1'; dlerror: libcuda.so.1: cannot open shared object file: No such file or directory\n",
      "2022-12-13 17:23:46.013347: W tensorflow/compiler/xla/stream_executor/cuda/cuda_driver.cc:265] failed call to cuInit: UNKNOWN ERROR (303)\n",
      "2022-12-13 17:23:46.013368: I tensorflow/compiler/xla/stream_executor/cuda/cuda_diagnostics.cc:156] kernel driver does not appear to be running on this host (ip-172-31-38-162.eu-west-3.compute.internal): /proc/driver/nvidia/version does not exist\n",
      "2022-12-13 17:23:46.013579: I tensorflow/core/platform/cpu_feature_guard.cc:193] This TensorFlow binary is optimized with oneAPI Deep Neural Network Library (oneDNN) to use the following CPU instructions in performance-critical operations:  AVX2 FMA\n",
      "To enable them in other operations, rebuild TensorFlow with the appropriate compiler flags.\n",
      "1/1 [==============================] - 2s 2s/step\n",
      "1/1 [==============================] - 1s 1s/step                   (0 + 1) / 4]\n",
      "1/1 [==============================] - 1s 1s/step                   (1 + 1) / 4]\n",
      "1/1 [==============================] - 1s 1s/step                   (2 + 1) / 4]\n",
      "WARNING:tensorflow:5 out of the last 5 calls to <function Model.make_predict_function.<locals>.predict_function at 0x7f4f1c191ca0> triggered tf.function retracing. Tracing is expensive and the excessive number of tracings could be due to (1) creating @tf.function repeatedly in a loop, (2) passing tensors with different shapes, (3) passing Python objects instead of tensors. For (1), please define your @tf.function outside of the loop. For (2), @tf.function has reduce_retracing=True option that can avoid unnecessary retracing. For (3), please refer to https://www.tensorflow.org/guide/function#controlling_retracing and https://www.tensorflow.org/api_docs/python/tf/function for  more details.\n",
      "1/1 [==============================] - 1s 1s/step\n",
      "                                                                                \r"
     ]
    },
    {
     "name": "stdout",
     "output_type": "stream",
     "text": [
      "+--------------------+--------------------+--------------------+\n",
      "|                path|            features|        features_udf|\n",
      "+--------------------+--------------------+--------------------+\n",
      "|s3a://bucketproje...|[0.0, 0.0, 0.0, 0...|[0.0,0.0,0.0,0.0,...|\n",
      "|s3a://bucketproje...|[0.0, 0.0, 0.0, 0...|[0.0,0.0,0.0,0.0,...|\n",
      "|s3a://bucketproje...|[0.0, 0.0, 0.0, 0...|[0.0,0.0,0.0,0.0,...|\n",
      "|s3a://bucketproje...|[0.0, 0.0, 0.0, 0...|[0.0,0.0,0.0,0.0,...|\n",
      "|s3a://bucketproje...|[0.0, 0.0, 0.0, 0...|[0.0,0.0,0.0,0.0,...|\n",
      "|s3a://bucketproje...|[0.0, 0.0, 0.0, 0...|[0.0,0.0,0.0,0.0,...|\n",
      "|s3a://bucketproje...|[0.0, 0.0, 0.0, 0...|[0.0,0.0,0.0,0.0,...|\n",
      "|s3a://bucketproje...|[0.0, 0.0, 0.0, 0...|[0.0,0.0,0.0,0.0,...|\n",
      "|s3a://bucketproje...|[0.0, 0.0, 0.0, 0...|[0.0,0.0,0.0,0.0,...|\n",
      "|s3a://bucketproje...|[0.0, 0.0, 0.0, 0...|[0.0,0.0,0.0,0.0,...|\n",
      "|s3a://bucketproje...|[0.0, 0.0, 0.0, 0...|[0.0,0.0,0.0,0.0,...|\n",
      "|s3a://bucketproje...|[0.0, 0.0, 0.0, 0...|[0.0,0.0,0.0,0.0,...|\n",
      "|s3a://bucketproje...|[0.0, 0.0, 0.0, 0...|[0.0,0.0,0.0,0.0,...|\n",
      "|s3a://bucketproje...|[0.0, 0.0, 0.0, 0...|[0.0,0.0,0.0,0.0,...|\n",
      "|s3a://bucketproje...|[0.0, 0.0, 0.0, 0...|[0.0,0.0,0.0,0.0,...|\n",
      "|s3a://bucketproje...|[0.0, 0.0, 0.0, 0...|[0.0,0.0,0.0,0.0,...|\n",
      "|s3a://bucketproje...|[0.0, 0.0, 0.0, 0...|[0.0,0.0,0.0,0.0,...|\n",
      "|s3a://bucketproje...|[0.0, 0.0, 0.0, 0...|[0.0,0.0,0.0,0.0,...|\n",
      "|s3a://bucketproje...|[0.0, 0.0, 0.0, 0...|[0.0,0.0,0.0,0.0,...|\n",
      "|s3a://bucketproje...|[0.0, 0.0, 0.0, 0...|[0.0,0.0,0.0,0.0,...|\n",
      "+--------------------+--------------------+--------------------+\n",
      "only showing top 20 rows\n",
      "\n"
     ]
    }
   ],
   "source": [
    "features_df.show()"
   ]
  },
  {
   "cell_type": "code",
   "execution_count": 20,
   "id": "85a883c2",
   "metadata": {},
   "outputs": [
    {
     "name": "stderr",
     "output_type": "stream",
     "text": [
      "WARNING:tensorflow:6 out of the last 6 calls to <function Model.make_predict_function.<locals>.predict_function at 0x7f4f1edb4f70> triggered tf.function retracing. Tracing is expensive and the excessive number of tracings could be due to (1) creating @tf.function repeatedly in a loop, (2) passing tensors with different shapes, (3) passing Python objects instead of tensors. For (1), please define your @tf.function outside of the loop. For (2), @tf.function has reduce_retracing=True option that can avoid unnecessary retracing. For (3), please refer to https://www.tensorflow.org/guide/function#controlling_retracing and https://www.tensorflow.org/api_docs/python/tf/function for  more details.\n",
      "1/1 [==============================] - 1s 1s/step\n",
      "1/1 [==============================] - 1s 1s/step                  (1 + 1) / 16]\n",
      "1/1 [==============================] - 1s 1s/step                  (2 + 1) / 16]\n",
      "1/1 [==============================] - 1s 1s/step                  (3 + 1) / 16]\n",
      "1/1 [==============================] - 1s 1s/step                  (4 + 1) / 16]\n",
      "1/1 [==============================] - 1s 1s/step                  (5 + 1) / 16]\n",
      "1/1 [==============================] - 1s 1s/step                  (6 + 1) / 16]\n",
      "1/1 [==============================] - 1s 1s/step                  (7 + 1) / 16]\n",
      "1/1 [==============================] - 1s 1s/step                  (8 + 1) / 16]\n",
      "1/1 [==============================] - 1s 1s/step                  (9 + 1) / 16]\n",
      "1/1 [==============================] - 1s 1s/step                 (10 + 1) / 16]\n",
      "1/1 [==============================] - 1s 1s/step                 (11 + 1) / 16]\n",
      "1/1 [==============================] - 1s 1s/step==>              (12 + 1) / 16]\n",
      "1/1 [==============================] - 1s 1s/step======>          (13 + 1) / 16]\n",
      "1/1 [==============================] - 1s 1s/step=========>       (14 + 1) / 16]\n",
      "1/1 [==============================] - 1s 1s/step=============>   (15 + 1) / 16]\n",
      "                                                                                \r"
     ]
    },
    {
     "name": "stdout",
     "output_type": "stream",
     "text": [
      "le nombre de features initial est: 100352\n"
     ]
    }
   ],
   "source": [
    "# extraire nombre de features\n",
    "print(\"le nombre de features initial est:\", len(features_df.collect()[1][2]))"
   ]
  },
  {
   "cell_type": "markdown",
   "id": "00cb2c3f",
   "metadata": {},
   "source": [
    "## Standardisation of features"
   ]
  },
  {
   "cell_type": "code",
   "execution_count": 21,
   "id": "28b33826",
   "metadata": {},
   "outputs": [
    {
     "name": "stderr",
     "output_type": "stream",
     "text": [
      "1/1 [==============================] - 1s 1s/step                  (0 + 1) / 16]\n",
      "1/1 [==============================] - 1s 1s/step                  (1 + 1) / 16]\n",
      "1/1 [==============================] - 1s 1s/step                  (2 + 1) / 16]\n",
      "1/1 [==============================] - 1s 1s/step                  (3 + 1) / 16]\n",
      "1/1 [==============================] - 1s 1s/step                  (4 + 1) / 16]\n",
      "1/1 [==============================] - 1s 1s/step                  (5 + 1) / 16]\n",
      "1/1 [==============================] - 1s 1s/step                  (6 + 1) / 16]\n",
      "1/1 [==============================] - 1s 1s/step                  (7 + 1) / 16]\n",
      "1/1 [==============================] - 1s 1s/step                  (8 + 1) / 16]\n",
      "1/1 [==============================] - 1s 1s/step                  (9 + 1) / 16]\n",
      "1/1 [==============================] - 1s 1s/step                 (10 + 1) / 16]\n",
      "1/1 [==============================] - 1s 1s/step                 (11 + 1) / 16]\n",
      "1/1 [==============================] - 1s 1s/step===>             (12 + 1) / 16]\n",
      "1/1 [==============================] - 1s 1s/step======>          (13 + 1) / 16]\n",
      "1/1 [==============================] - 1s 1s/step==========>      (14 + 1) / 16]\n",
      "1/1 [==============================] - 1s 1s/step=============>   (15 + 1) / 16]\n",
      "                                                                                \r"
     ]
    }
   ],
   "source": [
    "# standardisation des features\n",
    "\n",
    "scaler = StandardScaler(\n",
    "    inputCol=\"features_udf\", \n",
    "    outputCol=\"features_scaled\")\n",
    "\n",
    "data_scaled = scaler.fit(features_df).transform(features_df)"
   ]
  },
  {
   "cell_type": "code",
   "execution_count": 22,
   "id": "5d17bf65",
   "metadata": {},
   "outputs": [
    {
     "name": "stderr",
     "output_type": "stream",
     "text": [
      "1/1 [==============================] - 1s 1s/step                   (0 + 1) / 1]\n",
      "1/1 [==============================] - 1s 1s/step                   (0 + 1) / 4]\n",
      "1/1 [==============================] - 1s 1s/step                   (1 + 1) / 4]\n",
      "1/1 [==============================] - 2s 2s/step                   (2 + 1) / 4]\n",
      "1/1 [==============================] - 1s 1s/step====>              (3 + 1) / 4]\n",
      "                                                                                \r"
     ]
    },
    {
     "name": "stdout",
     "output_type": "stream",
     "text": [
      "+--------------------+--------------------+--------------------+--------------------+\n",
      "|                path|            features|        features_udf|     features_scaled|\n",
      "+--------------------+--------------------+--------------------+--------------------+\n",
      "|s3a://bucketproje...|[0.0, 0.0, 0.0, 0...|[0.0,0.0,0.0,0.0,...|[0.0,0.0,0.0,0.0,...|\n",
      "|s3a://bucketproje...|[0.0, 0.0, 0.0, 0...|[0.0,0.0,0.0,0.0,...|[0.0,0.0,0.0,0.0,...|\n",
      "|s3a://bucketproje...|[0.0, 0.0, 0.0, 0...|[0.0,0.0,0.0,0.0,...|[0.0,0.0,0.0,0.0,...|\n",
      "|s3a://bucketproje...|[0.0, 0.0, 0.0, 0...|[0.0,0.0,0.0,0.0,...|[0.0,0.0,0.0,0.0,...|\n",
      "|s3a://bucketproje...|[0.0, 0.0, 0.0, 0...|[0.0,0.0,0.0,0.0,...|[0.0,0.0,0.0,0.0,...|\n",
      "|s3a://bucketproje...|[0.0, 0.0, 0.0, 0...|[0.0,0.0,0.0,0.0,...|[0.0,0.0,0.0,0.0,...|\n",
      "|s3a://bucketproje...|[0.0, 0.0, 0.0, 0...|[0.0,0.0,0.0,0.0,...|[0.0,0.0,0.0,0.0,...|\n",
      "|s3a://bucketproje...|[0.0, 0.0, 0.0, 0...|[0.0,0.0,0.0,0.0,...|[0.0,0.0,0.0,0.0,...|\n",
      "|s3a://bucketproje...|[0.0, 0.0, 0.0, 0...|[0.0,0.0,0.0,0.0,...|[0.0,0.0,0.0,0.0,...|\n",
      "|s3a://bucketproje...|[0.0, 0.0, 0.0, 0...|[0.0,0.0,0.0,0.0,...|[0.0,0.0,0.0,0.0,...|\n",
      "|s3a://bucketproje...|[0.0, 0.0, 0.0, 0...|[0.0,0.0,0.0,0.0,...|[0.0,0.0,0.0,0.0,...|\n",
      "|s3a://bucketproje...|[0.0, 0.0, 0.0, 0...|[0.0,0.0,0.0,0.0,...|[0.0,0.0,0.0,0.0,...|\n",
      "|s3a://bucketproje...|[0.0, 0.0, 0.0, 0...|[0.0,0.0,0.0,0.0,...|[0.0,0.0,0.0,0.0,...|\n",
      "|s3a://bucketproje...|[0.0, 0.0, 0.0, 0...|[0.0,0.0,0.0,0.0,...|[0.0,0.0,0.0,0.0,...|\n",
      "|s3a://bucketproje...|[0.0, 0.0, 0.0, 0...|[0.0,0.0,0.0,0.0,...|[0.0,0.0,0.0,0.0,...|\n",
      "|s3a://bucketproje...|[0.0, 0.0, 0.0, 0...|[0.0,0.0,0.0,0.0,...|[0.0,0.0,0.0,0.0,...|\n",
      "|s3a://bucketproje...|[0.0, 0.0, 0.0, 0...|[0.0,0.0,0.0,0.0,...|[0.0,0.0,0.0,0.0,...|\n",
      "|s3a://bucketproje...|[0.0, 0.0, 0.0, 0...|[0.0,0.0,0.0,0.0,...|[0.0,0.0,0.0,0.0,...|\n",
      "|s3a://bucketproje...|[0.0, 0.0, 0.0, 0...|[0.0,0.0,0.0,0.0,...|[0.0,0.0,0.0,0.0,...|\n",
      "|s3a://bucketproje...|[0.0, 0.0, 0.0, 0...|[0.0,0.0,0.0,0.0,...|[0.0,0.0,0.0,0.0,...|\n",
      "+--------------------+--------------------+--------------------+--------------------+\n",
      "only showing top 20 rows\n",
      "\n"
     ]
    }
   ],
   "source": [
    "data_scaled.show()"
   ]
  },
  {
   "cell_type": "markdown",
   "id": "e43728ef",
   "metadata": {},
   "source": [
    "## Dimension reduction by PCA"
   ]
  },
  {
   "cell_type": "code",
   "execution_count": 23,
   "id": "fec37606",
   "metadata": {},
   "outputs": [
    {
     "name": "stderr",
     "output_type": "stream",
     "text": [
      "1/1 [==============================] - 2s 2s/step                   (0 + 1) / 1]\n",
      "1/1 [==============================] - 2s 2s/step                  (0 + 1) / 16]\n",
      "1/1 [==============================] - 1s 1s/step                  (1 + 1) / 16]\n",
      "1/1 [==============================] - 1s 1s/step                  (2 + 1) / 16]\n",
      "1/1 [==============================] - 2s 2s/step                  (3 + 1) / 16]\n",
      "1/1 [==============================] - 1s 1s/step                  (4 + 1) / 16]\n",
      "1/1 [==============================] - 1s 1s/step                  (5 + 1) / 16]\n",
      "1/1 [==============================] - 1s 1s/step                  (6 + 1) / 16]\n",
      "1/1 [==============================] - 1s 1s/step                  (7 + 1) / 16]\n",
      "1/1 [==============================] - 1s 1s/step                  (8 + 1) / 16]\n",
      "1/1 [==============================] - 1s 1s/step                  (9 + 1) / 16]\n",
      "1/1 [==============================] - 1s 1s/step                 (10 + 1) / 16]\n",
      "1/1 [==============================] - 1s 1s/step                 (11 + 1) / 16]\n",
      "1/1 [==============================] - 1s 1s/step===>             (12 + 1) / 16]\n",
      "1/1 [==============================] - 1s 1s/step======>          (13 + 1) / 16]\n",
      "1/1 [==============================] - 1s 1s/step==========>      (14 + 1) / 16]\n",
      "1/1 [==============================] - 1s 1s/step=============>   (15 + 1) / 16]\n",
      "                                                                                \r"
     ]
    },
    {
     "name": "stdout",
     "output_type": "stream",
     "text": [
      "22/12/13 17:28:08 WARN DAGScheduler: Broadcasting large task binary with size 1621.4 KiB\n"
     ]
    },
    {
     "name": "stderr",
     "output_type": "stream",
     "text": [
      "1/1 [==============================] - 1s 1s/step                   (0 + 1) / 1]\n"
     ]
    },
    {
     "name": "stdout",
     "output_type": "stream",
     "text": [
      "22/12/13 17:28:12 WARN InstanceBuilder$NativeBLAS: Failed to load implementation from:dev.ludovic.netlib.blas.JNIBLAS\n",
      "22/12/13 17:28:12 WARN InstanceBuilder$NativeBLAS: Failed to load implementation from:dev.ludovic.netlib.blas.ForeignLinkerBLAS\n",
      "22/12/13 17:28:12 WARN RowMatrix: The input data is not directly cached, which may hurt performance if its parent RDDs are also uncached.\n",
      "22/12/13 17:28:12 WARN InstanceBuilder$NativeARPACK: Failed to load implementation from:dev.ludovic.netlib.arpack.JNIARPACK\n"
     ]
    },
    {
     "name": "stderr",
     "output_type": "stream",
     "text": [
      "                                                                                \r"
     ]
    },
    {
     "name": "stdout",
     "output_type": "stream",
     "text": [
      "22/12/13 17:28:12 WARN DAGScheduler: Broadcasting large task binary with size 1623.5 KiB\n"
     ]
    },
    {
     "name": "stderr",
     "output_type": "stream",
     "text": [
      "1/1 [==============================] - 1s 1s/step                  (0 + 1) / 16]\n"
     ]
    },
    {
     "name": "stdout",
     "output_type": "stream",
     "text": [
      "22/12/13 17:28:17 WARN BLAS: Failed to load implementation from: com.github.fommil.netlib.NativeSystemBLAS\n",
      "22/12/13 17:28:17 WARN BLAS: Failed to load implementation from: com.github.fommil.netlib.NativeRefBLAS\n"
     ]
    },
    {
     "name": "stderr",
     "output_type": "stream",
     "text": [
      "1/1 [==============================] - 1s 1s/step                  (1 + 1) / 16]\n",
      "1/1 [==============================] - 1s 1s/step                  (2 + 1) / 16]\n",
      "1/1 [==============================] - 1s 1s/step                  (3 + 1) / 16]\n",
      "1/1 [==============================] - 1s 1s/step                  (4 + 1) / 16]\n",
      "1/1 [==============================] - 1s 1s/step                  (5 + 1) / 16]\n",
      "1/1 [==============================] - 1s 1s/step                  (6 + 1) / 16]\n",
      "1/1 [==============================] - 1s 1s/step                  (7 + 1) / 16]\n",
      "1/1 [==============================] - 1s 1s/step                  (8 + 1) / 16]\n",
      "1/1 [==============================] - 1s 1s/step                  (9 + 1) / 16]\n",
      "1/1 [==============================] - 1s 1s/step                 (10 + 1) / 16]\n",
      "1/1 [==============================] - 1s 1s/step                 (11 + 1) / 16]\n",
      "1/1 [==============================] - 1s 1s/step===>             (12 + 1) / 16]\n",
      "1/1 [==============================] - 1s 1s/step======>          (13 + 1) / 16]\n",
      "1/1 [==============================] - 1s 1s/step==========>      (14 + 1) / 16]\n",
      "1/1 [==============================] - 1s 1s/step=============>   (15 + 1) / 16]\n"
     ]
    },
    {
     "name": "stdout",
     "output_type": "stream",
     "text": [
      "22/12/13 17:29:07 WARN DAGScheduler: Broadcasting large task binary with size 1624.5 KiB\n",
      "22/12/13 17:29:08 WARN DAGScheduler: Broadcasting large task binary with size 1623.5 KiB\n"
     ]
    },
    {
     "name": "stderr",
     "output_type": "stream",
     "text": [
      "1/1 [==============================] - 1s 1s/step                  (0 + 1) / 16]\n",
      "1/1 [==============================] - 1s 1s/step                  (1 + 1) / 16]\n",
      "1/1 [==============================] - 1s 1s/step                  (2 + 1) / 16]\n",
      "1/1 [==============================] - 1s 1s/step                  (3 + 1) / 16]\n",
      "1/1 [==============================] - 1s 1s/step                  (4 + 1) / 16]\n",
      "1/1 [==============================] - 1s 1s/step                  (5 + 1) / 16]\n",
      "1/1 [==============================] - 1s 1s/step                  (6 + 1) / 16]\n",
      "1/1 [==============================] - 1s 1s/step                  (7 + 1) / 16]\n",
      "1/1 [==============================] - 1s 1s/step                  (8 + 1) / 16]\n",
      "1/1 [==============================] - 1s 1s/step                  (9 + 1) / 16]\n",
      "1/1 [==============================] - 1s 1s/step                 (10 + 1) / 16]\n",
      "1/1 [==============================] - 1s 1s/step                 (11 + 1) / 16]\n",
      "1/1 [==============================] - 1s 1s/step===>             (12 + 1) / 16]\n",
      "1/1 [==============================] - 1s 1s/step======>          (13 + 1) / 16]\n",
      "1/1 [==============================] - 1s 1s/step==========>      (14 + 1) / 16]\n",
      "1/1 [==============================] - 2s 2s/step=============>   (15 + 1) / 16]\n"
     ]
    },
    {
     "name": "stdout",
     "output_type": "stream",
     "text": [
      "22/12/13 17:30:02 WARN DAGScheduler: Broadcasting large task binary with size 1624.5 KiB\n",
      "22/12/13 17:30:02 WARN DAGScheduler: Broadcasting large task binary with size 1623.5 KiB\n"
     ]
    },
    {
     "name": "stderr",
     "output_type": "stream",
     "text": [
      "1/1 [==============================] - 2s 2s/step                  (0 + 1) / 16]\n",
      "1/1 [==============================] - 1s 1s/step                  (1 + 1) / 16]\n",
      "1/1 [==============================] - 1s 1s/step                  (2 + 1) / 16]\n",
      "1/1 [==============================] - 1s 1s/step                  (3 + 1) / 16]\n",
      "1/1 [==============================] - 1s 1s/step                  (4 + 1) / 16]\n",
      "1/1 [==============================] - 1s 1s/step                  (5 + 1) / 16]\n",
      "1/1 [==============================] - 1s 1s/step                  (6 + 1) / 16]\n",
      "1/1 [==============================] - 1s 1s/step                  (7 + 1) / 16]\n",
      "1/1 [==============================] - 1s 1s/step                  (8 + 1) / 16]\n",
      "1/1 [==============================] - 2s 2s/step                  (9 + 1) / 16]\n",
      "1/1 [==============================] - 1s 1s/step                 (10 + 1) / 16]\n",
      "1/1 [==============================] - 1s 1s/step                 (11 + 1) / 16]\n",
      "1/1 [==============================] - 1s 1s/step===>             (12 + 1) / 16]\n",
      "1/1 [==============================] - 1s 1s/step======>          (13 + 1) / 16]\n",
      "1/1 [==============================] - 1s 1s/step==========>      (14 + 1) / 16]\n",
      "1/1 [==============================] - 1s 1s/step=============>   (15 + 1) / 16]\n"
     ]
    },
    {
     "name": "stdout",
     "output_type": "stream",
     "text": [
      "22/12/13 17:30:59 WARN DAGScheduler: Broadcasting large task binary with size 1624.5 KiB\n",
      "22/12/13 17:30:59 WARN DAGScheduler: Broadcasting large task binary with size 1623.5 KiB\n"
     ]
    },
    {
     "name": "stderr",
     "output_type": "stream",
     "text": [
      "1/1 [==============================] - 1s 1s/step                  (0 + 1) / 16]\n",
      "1/1 [==============================] - 1s 1s/step                  (1 + 1) / 16]\n",
      "1/1 [==============================] - 1s 1s/step                  (2 + 1) / 16]\n",
      "1/1 [==============================] - 1s 1s/step                  (3 + 1) / 16]\n",
      "1/1 [==============================] - 2s 2s/step                  (4 + 1) / 16]\n",
      "1/1 [==============================] - 1s 1s/step                  (5 + 1) / 16]\n",
      "1/1 [==============================] - 2s 2s/step                  (6 + 1) / 16]\n",
      "1/1 [==============================] - 1s 1s/step                  (7 + 1) / 16]\n",
      "1/1 [==============================] - 1s 1s/step                  (8 + 1) / 16]\n",
      "1/1 [==============================] - 1s 1s/step                  (9 + 1) / 16]\n",
      "1/1 [==============================] - 1s 1s/step                 (10 + 1) / 16]\n",
      "1/1 [==============================] - 1s 1s/step                 (11 + 1) / 16]\n",
      "1/1 [==============================] - 1s 1s/step===>             (12 + 1) / 16]\n",
      "1/1 [==============================] - 1s 1s/step======>          (13 + 1) / 16]\n",
      "1/1 [==============================] - 1s 1s/step==========>      (14 + 1) / 16]\n",
      "1/1 [==============================] - 1s 1s/step=============>   (15 + 1) / 16]\n"
     ]
    },
    {
     "name": "stdout",
     "output_type": "stream",
     "text": [
      "22/12/13 17:31:55 WARN DAGScheduler: Broadcasting large task binary with size 1624.5 KiB\n",
      "22/12/13 17:31:55 WARN DAGScheduler: Broadcasting large task binary with size 1623.5 KiB\n"
     ]
    },
    {
     "name": "stderr",
     "output_type": "stream",
     "text": [
      "1/1 [==============================] - 1s 1s/step                  (0 + 1) / 16]\n",
      "1/1 [==============================] - 1s 1s/step                  (1 + 1) / 16]\n",
      "1/1 [==============================] - 1s 1s/step                  (2 + 1) / 16]\n",
      "1/1 [==============================] - 1s 1s/step                  (3 + 1) / 16]\n",
      "1/1 [==============================] - 1s 1s/step                  (4 + 1) / 16]\n",
      "1/1 [==============================] - 1s 1s/step                  (5 + 1) / 16]\n",
      "1/1 [==============================] - 1s 1s/step                  (6 + 1) / 16]\n",
      "1/1 [==============================] - 1s 1s/step                  (7 + 1) / 16]\n",
      "1/1 [==============================] - 1s 1s/step                  (8 + 1) / 16]\n",
      "1/1 [==============================] - 1s 1s/step                  (9 + 1) / 16]\n",
      "1/1 [==============================] - 2s 2s/step                 (10 + 1) / 16]\n",
      "1/1 [==============================] - 1s 1s/step                 (11 + 1) / 16]\n",
      "1/1 [==============================] - 1s 1s/step===>             (12 + 1) / 16]\n",
      "1/1 [==============================] - 1s 1s/step======>          (13 + 1) / 16]\n",
      "1/1 [==============================] - 1s 1s/step==========>      (14 + 1) / 16]\n",
      "1/1 [==============================] - 1s 1s/step=============>   (15 + 1) / 16]\n"
     ]
    },
    {
     "name": "stdout",
     "output_type": "stream",
     "text": [
      "22/12/13 17:32:50 WARN DAGScheduler: Broadcasting large task binary with size 1624.5 KiB\n",
      "22/12/13 17:32:50 WARN DAGScheduler: Broadcasting large task binary with size 1623.5 KiB\n"
     ]
    },
    {
     "name": "stderr",
     "output_type": "stream",
     "text": [
      "1/1 [==============================] - 1s 1s/step                  (0 + 1) / 16]\n",
      "1/1 [==============================] - 1s 1s/step                  (1 + 1) / 16]\n",
      "1/1 [==============================] - 1s 1s/step                  (2 + 1) / 16]\n",
      "1/1 [==============================] - 1s 1s/step                  (3 + 1) / 16]\n",
      "1/1 [==============================] - 1s 1s/step                  (4 + 1) / 16]\n",
      "1/1 [==============================] - 1s 1s/step                  (5 + 1) / 16]\n",
      "1/1 [==============================] - 1s 1s/step                  (6 + 1) / 16]\n",
      "1/1 [==============================] - 1s 1s/step                  (7 + 1) / 16]\n",
      "1/1 [==============================] - 1s 1s/step                  (8 + 1) / 16]\n",
      "1/1 [==============================] - 1s 1s/step                  (9 + 1) / 16]\n",
      "1/1 [==============================] - 1s 1s/step                 (10 + 1) / 16]\n",
      "1/1 [==============================] - 1s 1s/step                 (11 + 1) / 16]\n",
      "1/1 [==============================] - 1s 1s/step===>             (12 + 1) / 16]\n",
      "1/1 [==============================] - 1s 1s/step======>          (13 + 1) / 16]\n",
      "1/1 [==============================] - 1s 1s/step==========>      (14 + 1) / 16]\n",
      "1/1 [==============================] - 1s 1s/step=============>   (15 + 1) / 16]\n"
     ]
    },
    {
     "name": "stdout",
     "output_type": "stream",
     "text": [
      "22/12/13 17:33:44 WARN DAGScheduler: Broadcasting large task binary with size 1624.5 KiB\n",
      "22/12/13 17:33:44 WARN DAGScheduler: Broadcasting large task binary with size 1623.5 KiB\n"
     ]
    },
    {
     "name": "stderr",
     "output_type": "stream",
     "text": [
      "1/1 [==============================] - 2s 2s/step                  (0 + 1) / 16]\n",
      "1/1 [==============================] - 1s 1s/step                  (1 + 1) / 16]\n",
      "1/1 [==============================] - 1s 1s/step                  (2 + 1) / 16]\n",
      "1/1 [==============================] - 1s 1s/step                  (3 + 1) / 16]\n",
      "1/1 [==============================] - 1s 1s/step                  (4 + 1) / 16]\n",
      "1/1 [==============================] - 1s 1s/step                  (5 + 1) / 16]\n",
      "1/1 [==============================] - 1s 1s/step                  (6 + 1) / 16]\n",
      "1/1 [==============================] - 1s 1s/step                  (7 + 1) / 16]\n",
      "1/1 [==============================] - 1s 1s/step                  (8 + 1) / 16]\n",
      "1/1 [==============================] - 1s 1s/step                  (9 + 1) / 16]\n",
      "1/1 [==============================] - 1s 1s/step                 (10 + 1) / 16]\n",
      "1/1 [==============================] - 1s 1s/step                 (11 + 1) / 16]\n",
      "1/1 [==============================] - 1s 1s/step===>             (12 + 1) / 16]\n",
      "1/1 [==============================] - 1s 1s/step======>          (13 + 1) / 16]\n",
      "1/1 [==============================] - 1s 1s/step==========>      (14 + 1) / 16]\n",
      "1/1 [==============================] - 1s 1s/step=============>   (15 + 1) / 16]\n"
     ]
    },
    {
     "name": "stdout",
     "output_type": "stream",
     "text": [
      "22/12/13 17:34:39 WARN DAGScheduler: Broadcasting large task binary with size 1624.5 KiB\n",
      "22/12/13 17:34:39 WARN DAGScheduler: Broadcasting large task binary with size 1623.5 KiB\n"
     ]
    },
    {
     "name": "stderr",
     "output_type": "stream",
     "text": [
      "1/1 [==============================] - 1s 1s/step                  (0 + 1) / 16]\n",
      "1/1 [==============================] - 1s 1s/step                  (1 + 1) / 16]\n",
      "1/1 [==============================] - 1s 1s/step                  (2 + 1) / 16]\n",
      "1/1 [==============================] - 1s 1s/step                  (3 + 1) / 16]\n",
      "1/1 [==============================] - 1s 1s/step                  (4 + 1) / 16]\n",
      "1/1 [==============================] - 1s 1s/step                  (5 + 1) / 16]\n",
      "1/1 [==============================] - 1s 1s/step                  (6 + 1) / 16]\n",
      "1/1 [==============================] - 1s 1s/step                  (7 + 1) / 16]\n",
      "1/1 [==============================] - 1s 1s/step                  (8 + 1) / 16]\n",
      "1/1 [==============================] - 1s 1s/step                  (9 + 1) / 16]\n",
      "1/1 [==============================] - 1s 1s/step                 (10 + 1) / 16]\n",
      "1/1 [==============================] - 1s 1s/step                 (11 + 1) / 16]\n",
      "1/1 [==============================] - 1s 1s/step===>             (12 + 1) / 16]\n",
      "1/1 [==============================] - 1s 1s/step======>          (13 + 1) / 16]\n",
      "1/1 [==============================] - 1s 1s/step==========>      (14 + 1) / 16]\n",
      "1/1 [==============================] - 1s 1s/step=============>   (15 + 1) / 16]\n"
     ]
    },
    {
     "name": "stdout",
     "output_type": "stream",
     "text": [
      "22/12/13 17:35:33 WARN DAGScheduler: Broadcasting large task binary with size 1624.5 KiB\n",
      "22/12/13 17:35:33 WARN DAGScheduler: Broadcasting large task binary with size 1623.5 KiB\n"
     ]
    },
    {
     "name": "stderr",
     "output_type": "stream",
     "text": [
      "1/1 [==============================] - 1s 1s/step                  (0 + 1) / 16]\n",
      "1/1 [==============================] - 1s 1s/step                  (1 + 1) / 16]\n",
      "1/1 [==============================] - 1s 1s/step                  (2 + 1) / 16]\n",
      "1/1 [==============================] - 1s 1s/step                  (3 + 1) / 16]\n",
      "1/1 [==============================] - 1s 1s/step                  (4 + 1) / 16]\n",
      "1/1 [==============================] - 1s 1s/step                  (5 + 1) / 16]\n",
      "1/1 [==============================] - 1s 1s/step                  (6 + 1) / 16]\n",
      "1/1 [==============================] - 1s 1s/step                  (7 + 1) / 16]\n",
      "1/1 [==============================] - 1s 1s/step                  (8 + 1) / 16]\n",
      "1/1 [==============================] - 1s 1s/step                  (9 + 1) / 16]\n",
      "1/1 [==============================] - 1s 1s/step                 (10 + 1) / 16]\n",
      "1/1 [==============================] - 1s 1s/step                 (11 + 1) / 16]\n",
      "1/1 [==============================] - 1s 1s/step===>             (12 + 1) / 16]\n",
      "1/1 [==============================] - 1s 1s/step======>          (13 + 1) / 16]\n",
      "1/1 [==============================] - 1s 1s/step==========>      (14 + 1) / 16]\n",
      "1/1 [==============================] - 1s 1s/step=============>   (15 + 1) / 16]\n"
     ]
    },
    {
     "name": "stdout",
     "output_type": "stream",
     "text": [
      "22/12/13 17:36:27 WARN DAGScheduler: Broadcasting large task binary with size 1624.5 KiB\n",
      "22/12/13 17:36:27 WARN DAGScheduler: Broadcasting large task binary with size 1623.5 KiB\n"
     ]
    },
    {
     "name": "stderr",
     "output_type": "stream",
     "text": [
      "1/1 [==============================] - 1s 1s/step                  (0 + 1) / 16]\n",
      "1/1 [==============================] - 1s 1s/step                  (1 + 1) / 16]\n",
      "1/1 [==============================] - 1s 1s/step                  (2 + 1) / 16]\n",
      "1/1 [==============================] - 1s 1s/step                  (3 + 1) / 16]\n",
      "1/1 [==============================] - 1s 1s/step                  (4 + 1) / 16]\n",
      "1/1 [==============================] - 1s 1s/step                  (5 + 1) / 16]\n",
      "1/1 [==============================] - 1s 1s/step                  (6 + 1) / 16]\n",
      "1/1 [==============================] - 1s 1s/step                  (7 + 1) / 16]\n",
      "1/1 [==============================] - 1s 1s/step                  (8 + 1) / 16]\n",
      "1/1 [==============================] - 1s 1s/step                  (9 + 1) / 16]\n",
      "1/1 [==============================] - 1s 1s/step                 (10 + 1) / 16]\n",
      "1/1 [==============================] - 1s 1s/step                 (11 + 1) / 16]\n",
      "1/1 [==============================] - 1s 1s/step===>             (12 + 1) / 16]\n",
      "1/1 [==============================] - 1s 1s/step======>          (13 + 1) / 16]\n",
      "1/1 [==============================] - 1s 1s/step==========>      (14 + 1) / 16]\n",
      "1/1 [==============================] - 1s 1s/step=============>   (15 + 1) / 16]\n"
     ]
    },
    {
     "name": "stdout",
     "output_type": "stream",
     "text": [
      "22/12/13 17:37:21 WARN DAGScheduler: Broadcasting large task binary with size 1624.5 KiB\n",
      "22/12/13 17:37:21 WARN DAGScheduler: Broadcasting large task binary with size 1623.5 KiB\n"
     ]
    },
    {
     "name": "stderr",
     "output_type": "stream",
     "text": [
      "1/1 [==============================] - 1s 1s/step                  (0 + 1) / 16]\n",
      "1/1 [==============================] - 1s 1s/step                  (1 + 1) / 16]\n",
      "1/1 [==============================] - 1s 1s/step                  (2 + 1) / 16]\n",
      "1/1 [==============================] - 1s 1s/step                  (3 + 1) / 16]\n",
      "1/1 [==============================] - 1s 1s/step                  (4 + 1) / 16]\n",
      "1/1 [==============================] - 1s 1s/step                  (5 + 1) / 16]\n",
      "1/1 [==============================] - 1s 1s/step                  (6 + 1) / 16]\n",
      "1/1 [==============================] - 1s 1s/step                  (7 + 1) / 16]\n",
      "1/1 [==============================] - 1s 1s/step                  (8 + 1) / 16]\n",
      "1/1 [==============================] - 1s 1s/step                  (9 + 1) / 16]\n",
      "1/1 [==============================] - 1s 1s/step                 (10 + 1) / 16]\n",
      "1/1 [==============================] - 1s 1s/step                 (11 + 1) / 16]\n",
      "1/1 [==============================] - 1s 1s/step===>             (12 + 1) / 16]\n",
      "1/1 [==============================] - 1s 1s/step======>          (13 + 1) / 16]\n",
      "1/1 [==============================] - 1s 1s/step==========>      (14 + 1) / 16]\n",
      "1/1 [==============================] - 1s 1s/step=============>   (15 + 1) / 16]\n"
     ]
    },
    {
     "name": "stdout",
     "output_type": "stream",
     "text": [
      "22/12/13 17:38:14 WARN DAGScheduler: Broadcasting large task binary with size 1624.5 KiB\n",
      "22/12/13 17:38:15 WARN DAGScheduler: Broadcasting large task binary with size 1623.5 KiB\n"
     ]
    },
    {
     "name": "stderr",
     "output_type": "stream",
     "text": [
      "1/1 [==============================] - 1s 1s/step                  (0 + 1) / 16]\n",
      "1/1 [==============================] - 1s 1s/step                  (1 + 1) / 16]\n",
      "1/1 [==============================] - 1s 1s/step                  (2 + 1) / 16]\n",
      "1/1 [==============================] - 1s 1s/step                  (3 + 1) / 16]\n",
      "1/1 [==============================] - 1s 1s/step                  (4 + 1) / 16]\n",
      "1/1 [==============================] - 1s 1s/step                  (5 + 1) / 16]\n",
      "1/1 [==============================] - 1s 1s/step                  (6 + 1) / 16]\n",
      "1/1 [==============================] - 1s 1s/step                  (7 + 1) / 16]\n",
      "1/1 [==============================] - 1s 1s/step                  (8 + 1) / 16]\n",
      "1/1 [==============================] - 1s 1s/step                  (9 + 1) / 16]\n",
      "1/1 [==============================] - 1s 1s/step                 (10 + 1) / 16]\n",
      "1/1 [==============================] - 1s 1s/step                 (11 + 1) / 16]\n",
      "1/1 [==============================] - 1s 1s/step===>             (12 + 1) / 16]\n",
      "1/1 [==============================] - 1s 1s/step======>          (13 + 1) / 16]\n",
      "1/1 [==============================] - 1s 1s/step==========>      (14 + 1) / 16]\n",
      "1/1 [==============================] - 1s 1s/step=============>   (15 + 1) / 16]\n"
     ]
    },
    {
     "name": "stdout",
     "output_type": "stream",
     "text": [
      "22/12/13 17:39:08 WARN DAGScheduler: Broadcasting large task binary with size 1624.5 KiB\n",
      "22/12/13 17:39:08 WARN DAGScheduler: Broadcasting large task binary with size 1623.5 KiB\n"
     ]
    },
    {
     "name": "stderr",
     "output_type": "stream",
     "text": [
      "1/1 [==============================] - 1s 1s/step                  (0 + 1) / 16]\n",
      "1/1 [==============================] - 1s 1s/step                  (1 + 1) / 16]\n",
      "1/1 [==============================] - 1s 1s/step                  (2 + 1) / 16]\n",
      "1/1 [==============================] - 1s 1s/step                  (3 + 1) / 16]\n",
      "1/1 [==============================] - 1s 1s/step                  (4 + 1) / 16]\n",
      "1/1 [==============================] - 1s 1s/step                  (5 + 1) / 16]\n",
      "1/1 [==============================] - 1s 1s/step                  (6 + 1) / 16]\n",
      "1/1 [==============================] - 1s 1s/step                  (7 + 1) / 16]\n",
      "1/1 [==============================] - 1s 1s/step                  (8 + 1) / 16]\n",
      "1/1 [==============================] - 1s 1s/step                  (9 + 1) / 16]\n",
      "1/1 [==============================] - 1s 1s/step                 (10 + 1) / 16]\n",
      "1/1 [==============================] - 1s 1s/step                 (11 + 1) / 16]\n",
      "1/1 [==============================] - 1s 1s/step===>             (12 + 1) / 16]\n",
      "1/1 [==============================] - 1s 1s/step======>          (13 + 1) / 16]\n",
      "1/1 [==============================] - 1s 1s/step==========>      (14 + 1) / 16]\n",
      "1/1 [==============================] - 1s 1s/step=============>   (15 + 1) / 16]\n"
     ]
    },
    {
     "name": "stdout",
     "output_type": "stream",
     "text": [
      "22/12/13 17:40:02 WARN DAGScheduler: Broadcasting large task binary with size 1624.5 KiB\n",
      "22/12/13 17:40:02 WARN DAGScheduler: Broadcasting large task binary with size 1623.5 KiB\n"
     ]
    },
    {
     "name": "stderr",
     "output_type": "stream",
     "text": [
      "1/1 [==============================] - 1s 1s/step                  (0 + 1) / 16]\n",
      "1/1 [==============================] - 1s 1s/step                  (1 + 1) / 16]\n",
      "1/1 [==============================] - 1s 1s/step                  (2 + 1) / 16]\n",
      "1/1 [==============================] - 1s 1s/step                  (3 + 1) / 16]\n",
      "1/1 [==============================] - 1s 1s/step                  (4 + 1) / 16]\n",
      "1/1 [==============================] - 1s 1s/step                  (5 + 1) / 16]\n",
      "1/1 [==============================] - 1s 1s/step                  (6 + 1) / 16]\n",
      "1/1 [==============================] - 1s 1s/step                  (7 + 1) / 16]\n",
      "1/1 [==============================] - 1s 1s/step                  (8 + 1) / 16]\n",
      "1/1 [==============================] - 1s 1s/step                  (9 + 1) / 16]\n",
      "1/1 [==============================] - 1s 1s/step                 (10 + 1) / 16]\n",
      "1/1 [==============================] - 1s 1s/step                 (11 + 1) / 16]\n",
      "1/1 [==============================] - 1s 1s/step===>             (12 + 1) / 16]\n",
      "1/1 [==============================] - 1s 1s/step======>          (13 + 1) / 16]\n",
      "1/1 [==============================] - 1s 1s/step==========>      (14 + 1) / 16]\n",
      "1/1 [==============================] - 1s 1s/step=============>   (15 + 1) / 16]\n"
     ]
    },
    {
     "name": "stdout",
     "output_type": "stream",
     "text": [
      "22/12/13 17:40:56 WARN DAGScheduler: Broadcasting large task binary with size 1624.5 KiB\n",
      "22/12/13 17:40:56 WARN DAGScheduler: Broadcasting large task binary with size 1623.5 KiB\n"
     ]
    },
    {
     "name": "stderr",
     "output_type": "stream",
     "text": [
      "1/1 [==============================] - 1s 1s/step                  (0 + 1) / 16]\n",
      "1/1 [==============================] - 1s 1s/step                  (1 + 1) / 16]\n",
      "1/1 [==============================] - 1s 1s/step                  (2 + 1) / 16]\n",
      "1/1 [==============================] - 1s 1s/step                  (3 + 1) / 16]\n",
      "1/1 [==============================] - 1s 1s/step                  (4 + 1) / 16]\n",
      "1/1 [==============================] - 1s 1s/step                  (5 + 1) / 16]\n",
      "1/1 [==============================] - 1s 1s/step                  (6 + 1) / 16]\n",
      "1/1 [==============================] - 1s 1s/step                  (7 + 1) / 16]\n",
      "1/1 [==============================] - 1s 1s/step                  (8 + 1) / 16]\n",
      "1/1 [==============================] - 1s 1s/step                  (9 + 1) / 16]\n",
      "1/1 [==============================] - 1s 1s/step                 (10 + 1) / 16]\n",
      "1/1 [==============================] - 1s 1s/step                 (11 + 1) / 16]\n",
      "1/1 [==============================] - 1s 1s/step===>             (12 + 1) / 16]\n",
      "1/1 [==============================] - 1s 1s/step======>          (13 + 1) / 16]\n",
      "1/1 [==============================] - 1s 1s/step==========>      (14 + 1) / 16]\n",
      "1/1 [==============================] - 1s 1s/step=============>   (15 + 1) / 16]\n"
     ]
    },
    {
     "name": "stdout",
     "output_type": "stream",
     "text": [
      "22/12/13 17:41:50 WARN DAGScheduler: Broadcasting large task binary with size 1624.5 KiB\n",
      "22/12/13 17:41:51 WARN DAGScheduler: Broadcasting large task binary with size 1623.5 KiB\n"
     ]
    },
    {
     "name": "stderr",
     "output_type": "stream",
     "text": [
      "1/1 [==============================] - 1s 1s/step                  (0 + 1) / 16]\n",
      "1/1 [==============================] - 1s 1s/step                  (1 + 1) / 16]\n",
      "1/1 [==============================] - 1s 1s/step                  (2 + 1) / 16]\n",
      "1/1 [==============================] - 1s 1s/step                  (3 + 1) / 16]\n",
      "1/1 [==============================] - 1s 1s/step                  (4 + 1) / 16]\n",
      "1/1 [==============================] - 1s 1s/step                  (5 + 1) / 16]\n",
      "1/1 [==============================] - 1s 1s/step                  (6 + 1) / 16]\n",
      "1/1 [==============================] - 1s 1s/step                  (7 + 1) / 16]\n",
      "1/1 [==============================] - 1s 1s/step                  (8 + 1) / 16]\n",
      "1/1 [==============================] - 1s 1s/step                  (9 + 1) / 16]\n",
      "1/1 [==============================] - 1s 1s/step                 (10 + 1) / 16]\n",
      "1/1 [==============================] - 2s 2s/step                 (11 + 1) / 16]\n",
      "1/1 [==============================] - 2s 2s/step===>             (12 + 1) / 16]\n",
      "1/1 [==============================] - 2s 2s/step======>          (13 + 1) / 16]\n",
      "1/1 [==============================] - 2s 2s/step==========>      (14 + 1) / 16]\n",
      "1/1 [==============================] - 2s 2s/step=============>   (15 + 1) / 16]\n"
     ]
    },
    {
     "name": "stdout",
     "output_type": "stream",
     "text": [
      "22/12/13 17:42:50 WARN DAGScheduler: Broadcasting large task binary with size 1624.5 KiB\n"
     ]
    },
    {
     "name": "stderr",
     "output_type": "stream",
     "text": [
      "                                                                                \r"
     ]
    },
    {
     "name": "stdout",
     "output_type": "stream",
     "text": [
      "22/12/13 17:42:50 WARN DAGScheduler: Broadcasting large task binary with size 1623.5 KiB\n"
     ]
    },
    {
     "name": "stderr",
     "output_type": "stream",
     "text": [
      "1/1 [==============================] - 2s 2s/step                  (0 + 1) / 16]\n",
      "1/1 [==============================] - 2s 2s/step                  (1 + 1) / 16]\n",
      "1/1 [==============================] - 2s 2s/step                  (2 + 1) / 16]\n",
      "1/1 [==============================] - 2s 2s/step                  (3 + 1) / 16]\n",
      "1/1 [==============================] - 4s 4s/step                  (4 + 1) / 16]\n",
      "1/1 [==============================] - 2s 2s/step                  (5 + 1) / 16]\n"
     ]
    },
    {
     "name": "stdout",
     "output_type": "stream",
     "text": [
      "22/12/13 17:44:17 WARN NettyRpcEnv: Ignored failure: java.util.concurrent.TimeoutException: Cannot receive any reply from ip-172-31-38-162.eu-west-3.compute.internal:40069 in 10000 milliseconds\n"
     ]
    },
    {
     "name": "stderr",
     "output_type": "stream",
     "text": [
      "1/1 [==============================] - 2s 2s/step                  (6 + 1) / 16]\n",
      "[Stage 78:=====================>                                   (6 + 1) / 16]\r"
     ]
    },
    {
     "name": "stdout",
     "output_type": "stream",
     "text": [
      "22/12/13 17:47:47 WARN HeartbeatReceiver: Removing executor driver with no recent heartbeats: 185091 ms exceeds timeout 120000 ms\n",
      "22/12/13 17:55:07 WARN Executor: Issue communicating with driver in heartbeater\n",
      "org.apache.spark.rpc.RpcTimeoutException: Futures timed out after [10000 milliseconds]. This timeout is controlled by spark.executor.heartbeatInterval\n",
      "\tat org.apache.spark.rpc.RpcTimeout.org$apache$spark$rpc$RpcTimeout$$createRpcTimeoutException(RpcTimeout.scala:47)\n",
      "\tat org.apache.spark.rpc.RpcTimeout$$anonfun$addMessageIfTimeout$1.applyOrElse(RpcTimeout.scala:62)\n",
      "\tat org.apache.spark.rpc.RpcTimeout$$anonfun$addMessageIfTimeout$1.applyOrElse(RpcTimeout.scala:58)\n",
      "\tat scala.runtime.AbstractPartialFunction.apply(AbstractPartialFunction.scala:38)\n",
      "\tat org.apache.spark.rpc.RpcTimeout.awaitResult(RpcTimeout.scala:76)\n",
      "\tat org.apache.spark.rpc.RpcEndpointRef.askSync(RpcEndpointRef.scala:103)\n",
      "\tat org.apache.spark.executor.Executor.reportHeartBeat(Executor.scala:1053)\n",
      "\tat org.apache.spark.executor.Executor.$anonfun$heartbeater$1(Executor.scala:238)\n",
      "\tat scala.runtime.java8.JFunction0$mcV$sp.apply(JFunction0$mcV$sp.java:23)\n",
      "\tat org.apache.spark.util.Utils$.logUncaughtExceptions(Utils.scala:2066)\n",
      "\tat org.apache.spark.Heartbeater$$anon$1.run(Heartbeater.scala:46)\n",
      "\tat java.util.concurrent.Executors$RunnableAdapter.call(Executors.java:511)\n",
      "\tat java.util.concurrent.FutureTask.runAndReset(FutureTask.java:308)\n",
      "\tat java.util.concurrent.ScheduledThreadPoolExecutor$ScheduledFutureTask.access$301(ScheduledThreadPoolExecutor.java:180)\n",
      "\tat java.util.concurrent.ScheduledThreadPoolExecutor$ScheduledFutureTask.run(ScheduledThreadPoolExecutor.java:294)\n",
      "\tat java.util.concurrent.ThreadPoolExecutor.runWorker(ThreadPoolExecutor.java:1142)\n",
      "\tat java.util.concurrent.ThreadPoolExecutor$Worker.run(ThreadPoolExecutor.java:617)\n",
      "\tat java.lang.Thread.run(Thread.java:745)\n",
      "Caused by: java.util.concurrent.TimeoutException: Futures timed out after [10000 milliseconds]\n",
      "\tat scala.concurrent.impl.Promise$DefaultPromise.ready(Promise.scala:259)\n",
      "\tat scala.concurrent.impl.Promise$DefaultPromise.result(Promise.scala:263)\n",
      "\tat org.apache.spark.util.ThreadUtils$.awaitResult(ThreadUtils.scala:293)\n",
      "\tat org.apache.spark.rpc.RpcTimeout.awaitResult(RpcTimeout.scala:75)\n",
      "\t... 13 more\n",
      "22/12/13 17:55:07 WARN NettyRpcEnv: Ignored message: true\n",
      "22/12/13 17:55:07 WARN NettyRpcEnv: Ignored message: true\n",
      "22/12/13 17:55:07 WARN NettyRpcEnv: Ignored message: true\n",
      "22/12/13 17:55:07 WARN NettyRpcEnv: Ignored message: HeartbeatResponse(true)\n",
      "22/12/13 17:55:07 WARN NettyRpcEnv: Ignored message: true\n",
      "22/12/13 17:55:07 WARN NettyRpcEnv: Ignored message: true\n",
      "22/12/13 17:55:07 WARN NettyRpcEnv: Ignored message: true\n",
      "22/12/13 17:55:07 WARN SparkContext: Killing executors is not supported by current scheduler.\n"
     ]
    },
    {
     "name": "stderr",
     "output_type": "stream",
     "text": [
      "2022-12-13 17:55:08.222547: I tensorflow/core/platform/cpu_feature_guard.cc:193] This TensorFlow binary is optimized with oneAPI Deep Neural Network Library (oneDNN) to use the following CPU instructions in performance-critical operations:  AVX2 FMA\n",
      "To enable them in other operations, rebuild TensorFlow with the appropriate compiler flags.\n",
      "2022-12-13 17:55:09.683369: W tensorflow/compiler/xla/stream_executor/platform/default/dso_loader.cc:64] Could not load dynamic library 'libcudart.so.11.0'; dlerror: libcudart.so.11.0: cannot open shared object file: No such file or directory\n",
      "2022-12-13 17:55:09.683409: I tensorflow/compiler/xla/stream_executor/cuda/cudart_stub.cc:29] Ignore above cudart dlerror if you do not have a GPU set up on your machine.\n",
      "2022-12-13 17:55:12.320418: W tensorflow/compiler/xla/stream_executor/platform/default/dso_loader.cc:64] Could not load dynamic library 'libnvinfer.so.7'; dlerror: libnvinfer.so.7: cannot open shared object file: No such file or directory\n",
      "2022-12-13 17:55:12.320521: W tensorflow/compiler/xla/stream_executor/platform/default/dso_loader.cc:64] Could not load dynamic library 'libnvinfer_plugin.so.7'; dlerror: libnvinfer_plugin.so.7: cannot open shared object file: No such file or directory\n",
      "2022-12-13 17:55:12.320559: W tensorflow/compiler/tf2tensorrt/utils/py_utils.cc:38] TF-TRT Warning: Cannot dlopen some TensorRT libraries. If you would like to use Nvidia GPU with TensorRT, please make sure the missing libraries mentioned above are installed properly.\n",
      "2022-12-13 17:55:15.287130: W tensorflow/compiler/xla/stream_executor/platform/default/dso_loader.cc:64] Could not load dynamic library 'libcuda.so.1'; dlerror: libcuda.so.1: cannot open shared object file: No such file or directory\n",
      "2022-12-13 17:55:15.287170: W tensorflow/compiler/xla/stream_executor/cuda/cuda_driver.cc:265] failed call to cuInit: UNKNOWN ERROR (303)\n",
      "2022-12-13 17:55:15.287195: I tensorflow/compiler/xla/stream_executor/cuda/cuda_diagnostics.cc:156] kernel driver does not appear to be running on this host (ip-172-31-38-162.eu-west-3.compute.internal): /proc/driver/nvidia/version does not exist\n",
      "2022-12-13 17:55:15.287453: I tensorflow/core/platform/cpu_feature_guard.cc:193] This TensorFlow binary is optimized with oneAPI Deep Neural Network Library (oneDNN) to use the following CPU instructions in performance-critical operations:  AVX2 FMA\n",
      "To enable them in other operations, rebuild TensorFlow with the appropriate compiler flags.\n",
      "1/1 [==============================] - 2s 2s/step\n",
      "1/1 [==============================] - 1s 1s/step                  (8 + 1) / 16]\n",
      "1/1 [==============================] - 1s 1s/step                  (9 + 1) / 16]\n",
      "1/1 [==============================] - 1s 1s/step                 (10 + 1) / 16]\n",
      "WARNING:tensorflow:5 out of the last 5 calls to <function Model.make_predict_function.<locals>.predict_function at 0x7f4f1c3e7820> triggered tf.function retracing. Tracing is expensive and the excessive number of tracings could be due to (1) creating @tf.function repeatedly in a loop, (2) passing tensors with different shapes, (3) passing Python objects instead of tensors. For (1), please define your @tf.function outside of the loop. For (2), @tf.function has reduce_retracing=True option that can avoid unnecessary retracing. For (3), please refer to https://www.tensorflow.org/guide/function#controlling_retracing and https://www.tensorflow.org/api_docs/python/tf/function for  more details.\n",
      "1/1 [==============================] - 1s 1s/step\n",
      "WARNING:tensorflow:6 out of the last 6 calls to <function Model.make_predict_function.<locals>.predict_function at 0x7f4f1e5385e0> triggered tf.function retracing. Tracing is expensive and the excessive number of tracings could be due to (1) creating @tf.function repeatedly in a loop, (2) passing tensors with different shapes, (3) passing Python objects instead of tensors. For (1), please define your @tf.function outside of the loop. For (2), @tf.function has reduce_retracing=True option that can avoid unnecessary retracing. For (3), please refer to https://www.tensorflow.org/guide/function#controlling_retracing and https://www.tensorflow.org/api_docs/python/tf/function for  more details.\n",
      "1/1 [==============================] - 1s 1s/step\n",
      "1/1 [==============================] - 1s 1s/step======>          (13 + 1) / 16]\n",
      "1/1 [==============================] - 1s 1s/step==========>      (14 + 1) / 16]\n",
      "1/1 [==============================] - 1s 1s/step=============>   (15 + 1) / 16]\n"
     ]
    },
    {
     "name": "stdout",
     "output_type": "stream",
     "text": [
      "22/12/13 17:55:47 WARN DAGScheduler: Broadcasting large task binary with size 1624.5 KiB\n",
      "22/12/13 17:55:47 WARN DAGScheduler: Broadcasting large task binary with size 1623.5 KiB\n"
     ]
    },
    {
     "name": "stderr",
     "output_type": "stream",
     "text": [
      "1/1 [==============================] - 1s 1s/step                  (0 + 1) / 16]\n",
      "1/1 [==============================] - 1s 1s/step                  (1 + 1) / 16]\n",
      "1/1 [==============================] - 1s 1s/step                  (2 + 1) / 16]\n",
      "1/1 [==============================] - 1s 1s/step                  (3 + 1) / 16]\n",
      "1/1 [==============================] - 1s 1s/step                  (4 + 1) / 16]\n",
      "1/1 [==============================] - 1s 1s/step                  (5 + 1) / 16]\n",
      "1/1 [==============================] - 1s 1s/step                  (6 + 1) / 16]\n",
      "1/1 [==============================] - 1s 1s/step                  (7 + 1) / 16]\n",
      "1/1 [==============================] - 1s 1s/step                  (8 + 1) / 16]\n",
      "1/1 [==============================] - 1s 1s/step                  (9 + 1) / 16]\n",
      "1/1 [==============================] - 1s 1s/step                 (10 + 1) / 16]\n",
      "1/1 [==============================] - 1s 1s/step                 (11 + 1) / 16]\n",
      "1/1 [==============================] - 1s 1s/step===>             (12 + 1) / 16]\n",
      "1/1 [==============================] - 1s 1s/step======>          (13 + 1) / 16]\n",
      "1/1 [==============================] - 1s 1s/step==========>      (14 + 1) / 16]\n",
      "1/1 [==============================] - 1s 1s/step=============>   (15 + 1) / 16]\n"
     ]
    },
    {
     "name": "stdout",
     "output_type": "stream",
     "text": [
      "22/12/13 17:56:40 WARN DAGScheduler: Broadcasting large task binary with size 1624.5 KiB\n",
      "22/12/13 17:56:41 WARN DAGScheduler: Broadcasting large task binary with size 1623.5 KiB\n"
     ]
    },
    {
     "name": "stderr",
     "output_type": "stream",
     "text": [
      "1/1 [==============================] - 1s 1s/step                  (0 + 1) / 16]\n",
      "1/1 [==============================] - 1s 1s/step                  (1 + 1) / 16]\n",
      "1/1 [==============================] - 1s 1s/step                  (2 + 1) / 16]\n",
      "1/1 [==============================] - 1s 1s/step                  (3 + 1) / 16]\n",
      "1/1 [==============================] - 1s 1s/step                  (4 + 1) / 16]\n",
      "1/1 [==============================] - 1s 1s/step                  (5 + 1) / 16]\n",
      "1/1 [==============================] - 1s 1s/step                  (6 + 1) / 16]\n",
      "1/1 [==============================] - 1s 1s/step                  (7 + 1) / 16]\n",
      "1/1 [==============================] - 1s 1s/step                  (8 + 1) / 16]\n",
      "1/1 [==============================] - 1s 1s/step                  (9 + 1) / 16]\n",
      "1/1 [==============================] - 1s 1s/step                 (10 + 1) / 16]\n",
      "1/1 [==============================] - 1s 1s/step                 (11 + 1) / 16]\n",
      "1/1 [==============================] - 1s 1s/step===>             (12 + 1) / 16]\n",
      "1/1 [==============================] - 1s 1s/step======>          (13 + 1) / 16]\n",
      "1/1 [==============================] - 1s 1s/step==========>      (14 + 1) / 16]\n",
      "1/1 [==============================] - 1s 1s/step=============>   (15 + 1) / 16]\n"
     ]
    },
    {
     "name": "stdout",
     "output_type": "stream",
     "text": [
      "22/12/13 17:57:35 WARN DAGScheduler: Broadcasting large task binary with size 1624.5 KiB\n",
      "22/12/13 17:57:35 WARN DAGScheduler: Broadcasting large task binary with size 1623.5 KiB\n"
     ]
    },
    {
     "name": "stderr",
     "output_type": "stream",
     "text": [
      "1/1 [==============================] - 1s 1s/step                  (0 + 1) / 16]\n",
      "1/1 [==============================] - 1s 1s/step                  (1 + 1) / 16]\n",
      "1/1 [==============================] - 1s 1s/step                  (2 + 1) / 16]\n",
      "1/1 [==============================] - 1s 1s/step                  (3 + 1) / 16]\n",
      "1/1 [==============================] - 1s 1s/step                  (4 + 1) / 16]\n",
      "1/1 [==============================] - 1s 1s/step                  (5 + 1) / 16]\n",
      "1/1 [==============================] - 1s 1s/step                  (6 + 1) / 16]\n",
      "1/1 [==============================] - 1s 1s/step                  (7 + 1) / 16]\n",
      "1/1 [==============================] - 1s 1s/step                  (8 + 1) / 16]\n",
      "1/1 [==============================] - 1s 1s/step                  (9 + 1) / 16]\n",
      "1/1 [==============================] - 1s 1s/step                 (10 + 1) / 16]\n",
      "1/1 [==============================] - 1s 1s/step                 (11 + 1) / 16]\n",
      "1/1 [==============================] - 1s 1s/step===>             (12 + 1) / 16]\n",
      "1/1 [==============================] - 1s 1s/step======>          (13 + 1) / 16]\n",
      "1/1 [==============================] - 1s 1s/step==========>      (14 + 1) / 16]\n",
      "1/1 [==============================] - 1s 1s/step=============>   (15 + 1) / 16]\n"
     ]
    },
    {
     "name": "stdout",
     "output_type": "stream",
     "text": [
      "22/12/13 17:58:28 WARN DAGScheduler: Broadcasting large task binary with size 1624.5 KiB\n",
      "22/12/13 17:58:29 WARN DAGScheduler: Broadcasting large task binary with size 1623.5 KiB\n"
     ]
    },
    {
     "name": "stderr",
     "output_type": "stream",
     "text": [
      "1/1 [==============================] - 1s 1s/step                  (0 + 1) / 16]\n",
      "1/1 [==============================] - 1s 1s/step                  (1 + 1) / 16]\n",
      "1/1 [==============================] - 1s 1s/step                  (2 + 1) / 16]\n",
      "1/1 [==============================] - 1s 1s/step                  (3 + 1) / 16]\n",
      "1/1 [==============================] - 1s 1s/step                  (4 + 1) / 16]\n",
      "1/1 [==============================] - 1s 1s/step                  (5 + 1) / 16]\n",
      "1/1 [==============================] - 1s 1s/step                  (6 + 1) / 16]\n",
      "1/1 [==============================] - 1s 1s/step                  (7 + 1) / 16]\n",
      "1/1 [==============================] - 1s 1s/step                  (8 + 1) / 16]\n",
      "1/1 [==============================] - 1s 1s/step                  (9 + 1) / 16]\n",
      "1/1 [==============================] - 1s 1s/step                 (10 + 1) / 16]\n",
      "1/1 [==============================] - 1s 1s/step                 (11 + 1) / 16]\n",
      "1/1 [==============================] - 1s 1s/step===>             (12 + 1) / 16]\n",
      "1/1 [==============================] - 1s 1s/step======>          (13 + 1) / 16]\n",
      "1/1 [==============================] - 1s 1s/step==========>      (14 + 1) / 16]\n",
      "1/1 [==============================] - 1s 1s/step=============>   (15 + 1) / 16]\n"
     ]
    },
    {
     "name": "stdout",
     "output_type": "stream",
     "text": [
      "22/12/13 17:59:23 WARN DAGScheduler: Broadcasting large task binary with size 1624.5 KiB\n",
      "22/12/13 17:59:23 WARN DAGScheduler: Broadcasting large task binary with size 1623.5 KiB\n"
     ]
    },
    {
     "name": "stderr",
     "output_type": "stream",
     "text": [
      "1/1 [==============================] - 1s 1s/step                  (0 + 1) / 16]\n",
      "1/1 [==============================] - 1s 1s/step                  (1 + 1) / 16]\n",
      "1/1 [==============================] - 1s 1s/step                  (2 + 1) / 16]\n",
      "1/1 [==============================] - 1s 1s/step                  (3 + 1) / 16]\n",
      "1/1 [==============================] - 1s 1s/step                  (4 + 1) / 16]\n",
      "1/1 [==============================] - 1s 1s/step                  (5 + 1) / 16]\n",
      "1/1 [==============================] - 1s 1s/step                  (6 + 1) / 16]\n",
      "1/1 [==============================] - 1s 1s/step                  (7 + 1) / 16]\n",
      "1/1 [==============================] - 1s 1s/step                  (8 + 1) / 16]\n",
      "1/1 [==============================] - 1s 1s/step                  (9 + 1) / 16]\n",
      "1/1 [==============================] - 1s 1s/step                 (10 + 1) / 16]\n",
      "1/1 [==============================] - 1s 1s/step                 (11 + 1) / 16]\n",
      "1/1 [==============================] - 1s 1s/step===>             (12 + 1) / 16]\n",
      "1/1 [==============================] - 1s 1s/step======>          (13 + 1) / 16]\n",
      "1/1 [==============================] - 1s 1s/step==========>      (14 + 1) / 16]\n",
      "1/1 [==============================] - 1s 1s/step=============>   (15 + 1) / 16]\n"
     ]
    },
    {
     "name": "stdout",
     "output_type": "stream",
     "text": [
      "22/12/13 18:00:18 WARN DAGScheduler: Broadcasting large task binary with size 1624.5 KiB\n",
      "22/12/13 18:00:18 WARN DAGScheduler: Broadcasting large task binary with size 1623.5 KiB\n"
     ]
    },
    {
     "name": "stderr",
     "output_type": "stream",
     "text": [
      "1/1 [==============================] - 1s 1s/step                  (0 + 1) / 16]\n",
      "1/1 [==============================] - 1s 1s/step                  (1 + 1) / 16]\n",
      "1/1 [==============================] - 1s 1s/step                  (2 + 1) / 16]\n",
      "1/1 [==============================] - 1s 1s/step                  (3 + 1) / 16]\n",
      "1/1 [==============================] - 1s 1s/step                  (4 + 1) / 16]\n",
      "1/1 [==============================] - 1s 1s/step                  (5 + 1) / 16]\n",
      "1/1 [==============================] - 1s 1s/step                  (6 + 1) / 16]\n",
      "1/1 [==============================] - 1s 1s/step                  (7 + 1) / 16]\n",
      "1/1 [==============================] - 1s 1s/step                  (8 + 1) / 16]\n",
      "1/1 [==============================] - 1s 1s/step                  (9 + 1) / 16]\n",
      "1/1 [==============================] - 1s 1s/step                 (10 + 1) / 16]\n",
      "1/1 [==============================] - 1s 1s/step                 (11 + 1) / 16]\n",
      "1/1 [==============================] - 1s 1s/step===>             (12 + 1) / 16]\n",
      "1/1 [==============================] - 1s 1s/step======>          (13 + 1) / 16]\n",
      "1/1 [==============================] - 1s 1s/step==========>      (14 + 1) / 16]\n",
      "1/1 [==============================] - 1s 1s/step=============>   (15 + 1) / 16]\n"
     ]
    },
    {
     "name": "stdout",
     "output_type": "stream",
     "text": [
      "22/12/13 18:01:13 WARN DAGScheduler: Broadcasting large task binary with size 1624.5 KiB\n",
      "22/12/13 18:01:13 WARN DAGScheduler: Broadcasting large task binary with size 1623.5 KiB\n"
     ]
    },
    {
     "name": "stderr",
     "output_type": "stream",
     "text": [
      "1/1 [==============================] - 1s 1s/step                  (0 + 1) / 16]\n",
      "1/1 [==============================] - 1s 1s/step                  (1 + 1) / 16]\n",
      "1/1 [==============================] - 1s 1s/step                  (2 + 1) / 16]\n",
      "1/1 [==============================] - 1s 1s/step                  (3 + 1) / 16]\n",
      "1/1 [==============================] - 1s 1s/step                  (4 + 1) / 16]\n",
      "1/1 [==============================] - 1s 1s/step                  (5 + 1) / 16]\n",
      "1/1 [==============================] - 1s 1s/step                  (6 + 1) / 16]\n",
      "1/1 [==============================] - 1s 1s/step                  (7 + 1) / 16]\n",
      "1/1 [==============================] - 1s 1s/step                  (8 + 1) / 16]\n",
      "1/1 [==============================] - 1s 1s/step                  (9 + 1) / 16]\n",
      "1/1 [==============================] - 1s 1s/step                 (10 + 1) / 16]\n",
      "1/1 [==============================] - 1s 1s/step                 (11 + 1) / 16]\n",
      "1/1 [==============================] - 1s 1s/step===>             (12 + 1) / 16]\n",
      "1/1 [==============================] - 1s 1s/step======>          (13 + 1) / 16]\n",
      "1/1 [==============================] - 1s 1s/step==========>      (14 + 1) / 16]\n",
      "1/1 [==============================] - 1s 1s/step=============>   (15 + 1) / 16]\n"
     ]
    },
    {
     "name": "stdout",
     "output_type": "stream",
     "text": [
      "22/12/13 18:02:08 WARN DAGScheduler: Broadcasting large task binary with size 1624.5 KiB\n",
      "22/12/13 18:02:08 WARN DAGScheduler: Broadcasting large task binary with size 1623.5 KiB\n"
     ]
    },
    {
     "name": "stderr",
     "output_type": "stream",
     "text": [
      "1/1 [==============================] - 1s 1s/step                  (0 + 1) / 16]\n",
      "1/1 [==============================] - 1s 1s/step                  (1 + 1) / 16]\n",
      "1/1 [==============================] - 1s 1s/step                  (2 + 1) / 16]\n",
      "1/1 [==============================] - 1s 1s/step                  (3 + 1) / 16]\n",
      "1/1 [==============================] - 1s 1s/step                  (4 + 1) / 16]\n",
      "1/1 [==============================] - 1s 1s/step                  (5 + 1) / 16]\n",
      "1/1 [==============================] - 1s 1s/step                  (6 + 1) / 16]\n",
      "1/1 [==============================] - 1s 1s/step                  (7 + 1) / 16]\n",
      "1/1 [==============================] - 1s 1s/step                  (8 + 1) / 16]\n",
      "1/1 [==============================] - 1s 1s/step                  (9 + 1) / 16]\n",
      "1/1 [==============================] - 1s 1s/step                 (10 + 1) / 16]\n",
      "1/1 [==============================] - 1s 1s/step                 (11 + 1) / 16]\n",
      "1/1 [==============================] - 1s 1s/step===>             (12 + 1) / 16]\n",
      "1/1 [==============================] - 1s 1s/step======>          (13 + 1) / 16]\n",
      "1/1 [==============================] - 1s 1s/step==========>      (14 + 1) / 16]\n",
      "1/1 [==============================] - 1s 1s/step=============>   (15 + 1) / 16]\n"
     ]
    },
    {
     "name": "stdout",
     "output_type": "stream",
     "text": [
      "22/12/13 18:03:02 WARN DAGScheduler: Broadcasting large task binary with size 1624.5 KiB\n",
      "22/12/13 18:03:02 WARN DAGScheduler: Broadcasting large task binary with size 1623.5 KiB\n"
     ]
    },
    {
     "name": "stderr",
     "output_type": "stream",
     "text": [
      "1/1 [==============================] - 1s 1s/step                  (0 + 1) / 16]\n",
      "1/1 [==============================] - 1s 1s/step                  (1 + 1) / 16]\n",
      "1/1 [==============================] - 1s 1s/step                  (2 + 1) / 16]\n",
      "1/1 [==============================] - 1s 1s/step                  (3 + 1) / 16]\n",
      "1/1 [==============================] - 1s 1s/step                  (4 + 1) / 16]\n",
      "1/1 [==============================] - 1s 1s/step                  (5 + 1) / 16]\n",
      "1/1 [==============================] - 1s 1s/step                  (6 + 1) / 16]\n",
      "1/1 [==============================] - 1s 1s/step                  (7 + 1) / 16]\n",
      "1/1 [==============================] - 1s 1s/step                  (8 + 1) / 16]\n",
      "1/1 [==============================] - 1s 1s/step                  (9 + 1) / 16]\n",
      "1/1 [==============================] - 1s 1s/step                 (10 + 1) / 16]\n",
      "1/1 [==============================] - 1s 1s/step                 (11 + 1) / 16]\n",
      "1/1 [==============================] - 1s 1s/step===>             (12 + 1) / 16]\n",
      "1/1 [==============================] - 1s 1s/step======>          (13 + 1) / 16]\n",
      "1/1 [==============================] - 1s 1s/step==========>      (14 + 1) / 16]\n",
      "1/1 [==============================] - 1s 1s/step=============>   (15 + 1) / 16]\n"
     ]
    },
    {
     "name": "stdout",
     "output_type": "stream",
     "text": [
      "22/12/13 18:03:57 WARN DAGScheduler: Broadcasting large task binary with size 1624.5 KiB\n",
      "22/12/13 18:03:57 WARN DAGScheduler: Broadcasting large task binary with size 1623.5 KiB\n"
     ]
    },
    {
     "name": "stderr",
     "output_type": "stream",
     "text": [
      "1/1 [==============================] - 1s 1s/step                  (0 + 1) / 16]\n",
      "1/1 [==============================] - 1s 1s/step                  (1 + 1) / 16]\n",
      "1/1 [==============================] - 1s 1s/step                  (2 + 1) / 16]\n",
      "1/1 [==============================] - 1s 1s/step                  (3 + 1) / 16]\n",
      "1/1 [==============================] - 1s 1s/step                  (4 + 1) / 16]\n",
      "1/1 [==============================] - 1s 1s/step                  (5 + 1) / 16]\n",
      "1/1 [==============================] - 1s 1s/step                  (6 + 1) / 16]\n",
      "1/1 [==============================] - 1s 1s/step                  (7 + 1) / 16]\n",
      "1/1 [==============================] - 1s 1s/step                  (8 + 1) / 16]\n",
      "1/1 [==============================] - 1s 1s/step                  (9 + 1) / 16]\n",
      "1/1 [==============================] - 1s 1s/step                 (10 + 1) / 16]\n",
      "1/1 [==============================] - 1s 1s/step                 (11 + 1) / 16]\n",
      "1/1 [==============================] - 1s 1s/step===>             (12 + 1) / 16]\n",
      "1/1 [==============================] - 1s 1s/step======>          (13 + 1) / 16]\n",
      "1/1 [==============================] - 1s 1s/step==========>      (14 + 1) / 16]\n",
      "1/1 [==============================] - 1s 1s/step=============>   (15 + 1) / 16]\n"
     ]
    },
    {
     "name": "stdout",
     "output_type": "stream",
     "text": [
      "22/12/13 18:04:51 WARN DAGScheduler: Broadcasting large task binary with size 1624.5 KiB\n",
      "22/12/13 18:04:51 WARN DAGScheduler: Broadcasting large task binary with size 1623.5 KiB\n"
     ]
    },
    {
     "name": "stderr",
     "output_type": "stream",
     "text": [
      "1/1 [==============================] - 1s 1s/step                  (0 + 1) / 16]\n",
      "1/1 [==============================] - 1s 1s/step                  (1 + 1) / 16]\n",
      "1/1 [==============================] - 1s 1s/step                  (2 + 1) / 16]\n",
      "1/1 [==============================] - 1s 1s/step                  (3 + 1) / 16]\n",
      "1/1 [==============================] - 1s 1s/step                  (4 + 1) / 16]\n",
      "1/1 [==============================] - 1s 1s/step                  (5 + 1) / 16]\n",
      "1/1 [==============================] - 1s 1s/step                  (6 + 1) / 16]\n",
      "1/1 [==============================] - 1s 1s/step                  (7 + 1) / 16]\n",
      "1/1 [==============================] - 1s 1s/step                  (8 + 1) / 16]\n",
      "1/1 [==============================] - 1s 1s/step                  (9 + 1) / 16]\n",
      "1/1 [==============================] - 1s 1s/step                 (10 + 1) / 16]\n",
      "1/1 [==============================] - 1s 1s/step                 (11 + 1) / 16]\n",
      "1/1 [==============================] - 1s 1s/step===>             (12 + 1) / 16]\n",
      "1/1 [==============================] - 1s 1s/step======>          (13 + 1) / 16]\n",
      "1/1 [==============================] - 1s 1s/step==========>      (14 + 1) / 16]\n",
      "1/1 [==============================] - 1s 1s/step=============>   (15 + 1) / 16]\n"
     ]
    },
    {
     "name": "stdout",
     "output_type": "stream",
     "text": [
      "22/12/13 18:05:45 WARN DAGScheduler: Broadcasting large task binary with size 1624.5 KiB\n",
      "22/12/13 18:05:45 WARN DAGScheduler: Broadcasting large task binary with size 1623.5 KiB\n"
     ]
    },
    {
     "name": "stderr",
     "output_type": "stream",
     "text": [
      "1/1 [==============================] - 1s 1s/step                  (0 + 1) / 16]\n",
      "1/1 [==============================] - 1s 1s/step                  (1 + 1) / 16]\n",
      "1/1 [==============================] - 1s 1s/step                  (2 + 1) / 16]\n",
      "1/1 [==============================] - 1s 1s/step                  (3 + 1) / 16]\n",
      "1/1 [==============================] - 1s 1s/step                  (4 + 1) / 16]\n",
      "1/1 [==============================] - 1s 1s/step                  (5 + 1) / 16]\n",
      "1/1 [==============================] - 1s 1s/step                  (6 + 1) / 16]\n",
      "1/1 [==============================] - 1s 1s/step                  (7 + 1) / 16]\n",
      "1/1 [==============================] - 1s 1s/step                  (8 + 1) / 16]\n",
      "1/1 [==============================] - 1s 1s/step                  (9 + 1) / 16]\n",
      "1/1 [==============================] - 1s 1s/step                 (10 + 1) / 16]\n",
      "1/1 [==============================] - 1s 1s/step                 (11 + 1) / 16]\n",
      "1/1 [==============================] - 1s 1s/step===>             (12 + 1) / 16]\n",
      "1/1 [==============================] - 1s 1s/step======>          (13 + 1) / 16]\n",
      "1/1 [==============================] - 1s 1s/step==========>      (14 + 1) / 16]\n",
      "1/1 [==============================] - 1s 1s/step=============>   (15 + 1) / 16]\n"
     ]
    },
    {
     "name": "stdout",
     "output_type": "stream",
     "text": [
      "22/12/13 18:06:39 WARN DAGScheduler: Broadcasting large task binary with size 1624.5 KiB\n",
      "22/12/13 18:06:39 WARN DAGScheduler: Broadcasting large task binary with size 1623.5 KiB\n"
     ]
    },
    {
     "name": "stderr",
     "output_type": "stream",
     "text": [
      "1/1 [==============================] - 1s 1s/step                  (0 + 1) / 16]\n",
      "1/1 [==============================] - 1s 1s/step                  (1 + 1) / 16]\n",
      "1/1 [==============================] - 1s 1s/step                  (2 + 1) / 16]\n",
      "1/1 [==============================] - 1s 1s/step                  (3 + 1) / 16]\n",
      "1/1 [==============================] - 1s 1s/step                  (4 + 1) / 16]\n",
      "1/1 [==============================] - 1s 1s/step                  (5 + 1) / 16]\n",
      "1/1 [==============================] - 1s 1s/step                  (6 + 1) / 16]\n",
      "1/1 [==============================] - 1s 1s/step                  (7 + 1) / 16]\n",
      "1/1 [==============================] - 1s 1s/step                  (8 + 1) / 16]\n",
      "1/1 [==============================] - 1s 1s/step                  (9 + 1) / 16]\n",
      "1/1 [==============================] - 1s 1s/step                 (10 + 1) / 16]\n",
      "1/1 [==============================] - 1s 1s/step                 (11 + 1) / 16]\n",
      "1/1 [==============================] - 1s 1s/step===>             (12 + 1) / 16]\n",
      "1/1 [==============================] - 1s 1s/step======>          (13 + 1) / 16]\n",
      "1/1 [==============================] - 1s 1s/step==========>      (14 + 1) / 16]\n",
      "1/1 [==============================] - 1s 1s/step=============>   (15 + 1) / 16]\n"
     ]
    },
    {
     "name": "stdout",
     "output_type": "stream",
     "text": [
      "22/12/13 18:07:32 WARN DAGScheduler: Broadcasting large task binary with size 1624.5 KiB\n"
     ]
    },
    {
     "name": "stderr",
     "output_type": "stream",
     "text": [
      "                                                                                \r"
     ]
    },
    {
     "name": "stdout",
     "output_type": "stream",
     "text": [
      "22/12/13 18:07:32 WARN DAGScheduler: Broadcasting large task binary with size 1623.5 KiB\n"
     ]
    },
    {
     "name": "stderr",
     "output_type": "stream",
     "text": [
      "1/1 [==============================] - 1s 1s/step                  (0 + 1) / 16]\n",
      "1/1 [==============================] - 1s 1s/step                  (1 + 1) / 16]\n",
      "1/1 [==============================] - 1s 1s/step                  (2 + 1) / 16]\n",
      "1/1 [==============================] - 1s 1s/step                  (3 + 1) / 16]\n",
      "1/1 [==============================] - 1s 1s/step                  (4 + 1) / 16]\n",
      "1/1 [==============================] - 1s 1s/step                  (5 + 1) / 16]\n",
      "1/1 [==============================] - 1s 1s/step                  (6 + 1) / 16]\n",
      "1/1 [==============================] - 1s 1s/step                  (7 + 1) / 16]\n",
      "1/1 [==============================] - 1s 1s/step                  (8 + 1) / 16]\n",
      "1/1 [==============================] - 1s 1s/step                  (9 + 1) / 16]\n",
      "1/1 [==============================] - 1s 1s/step                 (10 + 1) / 16]\n",
      "1/1 [==============================] - 1s 1s/step                 (11 + 1) / 16]\n",
      "1/1 [==============================] - 1s 1s/step===>             (12 + 1) / 16]\n",
      "1/1 [==============================] - 1s 1s/step======>          (13 + 1) / 16]\n",
      "1/1 [==============================] - 1s 1s/step==========>      (14 + 1) / 16]\n",
      "1/1 [==============================] - 1s 1s/step=============>   (15 + 1) / 16]\n"
     ]
    },
    {
     "name": "stdout",
     "output_type": "stream",
     "text": [
      "22/12/13 18:08:26 WARN DAGScheduler: Broadcasting large task binary with size 1624.5 KiB\n",
      "22/12/13 18:08:26 WARN DAGScheduler: Broadcasting large task binary with size 1623.5 KiB\n"
     ]
    },
    {
     "name": "stderr",
     "output_type": "stream",
     "text": [
      "1/1 [==============================] - 1s 1s/step                  (0 + 1) / 16]\n",
      "1/1 [==============================] - 1s 1s/step                  (1 + 1) / 16]\n",
      "1/1 [==============================] - 1s 1s/step                  (2 + 1) / 16]\n",
      "1/1 [==============================] - 1s 1s/step                  (3 + 1) / 16]\n",
      "1/1 [==============================] - 1s 1s/step                  (4 + 1) / 16]\n",
      "1/1 [==============================] - 1s 1s/step                  (5 + 1) / 16]\n",
      "1/1 [==============================] - 1s 1s/step                  (6 + 1) / 16]\n",
      "1/1 [==============================] - 1s 1s/step                  (7 + 1) / 16]\n",
      "1/1 [==============================] - 1s 1s/step                  (8 + 1) / 16]\n",
      "1/1 [==============================] - 1s 1s/step                  (9 + 1) / 16]\n",
      "1/1 [==============================] - 1s 1s/step                 (10 + 1) / 16]\n",
      "1/1 [==============================] - 1s 1s/step                 (11 + 1) / 16]\n",
      "1/1 [==============================] - 1s 1s/step===>             (12 + 1) / 16]\n",
      "1/1 [==============================] - 1s 1s/step======>          (13 + 1) / 16]\n",
      "1/1 [==============================] - 1s 1s/step==========>      (14 + 1) / 16]\n",
      "1/1 [==============================] - 1s 1s/step=============>   (15 + 1) / 16]\n"
     ]
    },
    {
     "name": "stdout",
     "output_type": "stream",
     "text": [
      "22/12/13 18:09:19 WARN DAGScheduler: Broadcasting large task binary with size 1624.5 KiB\n",
      "22/12/13 18:09:20 WARN DAGScheduler: Broadcasting large task binary with size 1623.5 KiB\n"
     ]
    },
    {
     "name": "stderr",
     "output_type": "stream",
     "text": [
      "1/1 [==============================] - 1s 1s/step                  (0 + 1) / 16]\n",
      "1/1 [==============================] - 1s 1s/step                  (1 + 1) / 16]\n",
      "1/1 [==============================] - 1s 1s/step                  (2 + 1) / 16]\n",
      "1/1 [==============================] - 1s 1s/step                  (3 + 1) / 16]\n",
      "1/1 [==============================] - 1s 1s/step                  (4 + 1) / 16]\n",
      "1/1 [==============================] - 1s 1s/step                  (5 + 1) / 16]\n",
      "1/1 [==============================] - 1s 1s/step                  (6 + 1) / 16]\n",
      "1/1 [==============================] - 1s 1s/step                  (7 + 1) / 16]\n",
      "1/1 [==============================] - 1s 1s/step                  (8 + 1) / 16]\n",
      "1/1 [==============================] - 1s 1s/step                  (9 + 1) / 16]\n",
      "1/1 [==============================] - 1s 1s/step                 (10 + 1) / 16]\n",
      "1/1 [==============================] - 1s 1s/step                 (11 + 1) / 16]\n",
      "1/1 [==============================] - 1s 1s/step===>             (12 + 1) / 16]\n",
      "1/1 [==============================] - 1s 1s/step======>          (13 + 1) / 16]\n",
      "1/1 [==============================] - 1s 1s/step==========>      (14 + 1) / 16]\n",
      "1/1 [==============================] - 1s 1s/step=============>   (15 + 1) / 16]\n"
     ]
    },
    {
     "name": "stdout",
     "output_type": "stream",
     "text": [
      "22/12/13 18:10:13 WARN DAGScheduler: Broadcasting large task binary with size 1624.5 KiB\n",
      "22/12/13 18:10:13 WARN DAGScheduler: Broadcasting large task binary with size 1623.5 KiB\n"
     ]
    },
    {
     "name": "stderr",
     "output_type": "stream",
     "text": [
      "1/1 [==============================] - 2s 2s/step                  (0 + 1) / 16]\n",
      "1/1 [==============================] - 2s 2s/step                  (1 + 1) / 16]\n",
      "1/1 [==============================] - 2s 2s/step                  (2 + 1) / 16]\n",
      "1/1 [==============================] - 2s 2s/step                  (3 + 1) / 16]\n",
      "1/1 [==============================] - 2s 2s/step                  (4 + 1) / 16]\n",
      "1/1 [==============================] - 2s 2s/step                  (5 + 1) / 16]\n",
      "1/1 [==============================] - 2s 2s/step                  (6 + 1) / 16]\n",
      "1/1 [==============================] - 2s 2s/step                  (7 + 1) / 16]\n",
      "1/1 [==============================] - 2s 2s/step                  (8 + 1) / 16]\n",
      "1/1 [==============================] - 2s 2s/step                  (9 + 1) / 16]\n",
      "1/1 [==============================] - 1s 1s/step                 (10 + 1) / 16]\n",
      "1/1 [==============================] - 1s 1s/step                 (11 + 1) / 16]\n",
      "1/1 [==============================] - 1s 1s/step===>             (12 + 1) / 16]\n",
      "1/1 [==============================] - 1s 1s/step======>          (13 + 1) / 16]\n",
      "1/1 [==============================] - 1s 1s/step==========>      (14 + 1) / 16]\n",
      "1/1 [==============================] - 1s 1s/step=============>   (15 + 1) / 16]\n"
     ]
    },
    {
     "name": "stdout",
     "output_type": "stream",
     "text": [
      "22/12/13 18:11:12 WARN DAGScheduler: Broadcasting large task binary with size 1624.5 KiB\n",
      "22/12/13 18:11:12 WARN DAGScheduler: Broadcasting large task binary with size 1623.5 KiB\n"
     ]
    },
    {
     "name": "stderr",
     "output_type": "stream",
     "text": [
      "1/1 [==============================] - 1s 1s/step                  (0 + 1) / 16]\n",
      "1/1 [==============================] - 1s 1s/step                  (1 + 1) / 16]\n",
      "1/1 [==============================] - 1s 1s/step                  (2 + 1) / 16]\n",
      "1/1 [==============================] - 1s 1s/step                  (3 + 1) / 16]\n",
      "1/1 [==============================] - 1s 1s/step                  (4 + 1) / 16]\n",
      "1/1 [==============================] - 1s 1s/step                  (5 + 1) / 16]\n",
      "1/1 [==============================] - 1s 1s/step                  (6 + 1) / 16]\n",
      "1/1 [==============================] - 1s 1s/step                  (7 + 1) / 16]\n",
      "1/1 [==============================] - 1s 1s/step                  (8 + 1) / 16]\n",
      "1/1 [==============================] - 1s 1s/step                  (9 + 1) / 16]\n",
      "1/1 [==============================] - 1s 1s/step                 (10 + 1) / 16]\n",
      "1/1 [==============================] - 1s 1s/step                 (11 + 1) / 16]\n",
      "1/1 [==============================] - 1s 1s/step===>             (12 + 1) / 16]\n",
      "1/1 [==============================] - 1s 1s/step======>          (13 + 1) / 16]\n",
      "1/1 [==============================] - 1s 1s/step==========>      (14 + 1) / 16]\n",
      "1/1 [==============================] - 1s 1s/step=============>   (15 + 1) / 16]\n"
     ]
    },
    {
     "name": "stdout",
     "output_type": "stream",
     "text": [
      "22/12/13 18:12:06 WARN DAGScheduler: Broadcasting large task binary with size 1624.5 KiB\n",
      "22/12/13 18:12:06 WARN DAGScheduler: Broadcasting large task binary with size 1623.5 KiB\n"
     ]
    },
    {
     "name": "stderr",
     "output_type": "stream",
     "text": [
      "1/1 [==============================] - 1s 1s/step                  (0 + 1) / 16]\n",
      "1/1 [==============================] - 1s 1s/step                  (1 + 1) / 16]\n",
      "1/1 [==============================] - 1s 1s/step                  (2 + 1) / 16]\n",
      "1/1 [==============================] - 1s 1s/step                  (3 + 1) / 16]\n",
      "1/1 [==============================] - 1s 1s/step                  (4 + 1) / 16]\n",
      "1/1 [==============================] - 1s 1s/step                  (5 + 1) / 16]\n",
      "1/1 [==============================] - 1s 1s/step                  (6 + 1) / 16]\n",
      "1/1 [==============================] - 1s 1s/step                  (7 + 1) / 16]\n",
      "1/1 [==============================] - 1s 1s/step                  (8 + 1) / 16]\n",
      "1/1 [==============================] - 1s 1s/step                  (9 + 1) / 16]\n",
      "1/1 [==============================] - 1s 1s/step                 (10 + 1) / 16]\n",
      "1/1 [==============================] - 1s 1s/step                 (11 + 1) / 16]\n",
      "1/1 [==============================] - 1s 1s/step===>             (12 + 1) / 16]\n",
      "1/1 [==============================] - 1s 1s/step======>          (13 + 1) / 16]\n",
      "1/1 [==============================] - 1s 1s/step==========>      (14 + 1) / 16]\n",
      "1/1 [==============================] - 1s 1s/step=============>   (15 + 1) / 16]\n"
     ]
    },
    {
     "name": "stdout",
     "output_type": "stream",
     "text": [
      "22/12/13 18:13:01 WARN DAGScheduler: Broadcasting large task binary with size 1624.5 KiB\n",
      "22/12/13 18:13:01 WARN DAGScheduler: Broadcasting large task binary with size 1623.5 KiB\n"
     ]
    },
    {
     "name": "stderr",
     "output_type": "stream",
     "text": [
      "1/1 [==============================] - 1s 1s/step                  (0 + 1) / 16]\n",
      "1/1 [==============================] - 1s 1s/step                  (1 + 1) / 16]\n",
      "1/1 [==============================] - 1s 1s/step                  (2 + 1) / 16]\n",
      "1/1 [==============================] - 1s 1s/step                  (3 + 1) / 16]\n",
      "1/1 [==============================] - 1s 1s/step                  (4 + 1) / 16]\n",
      "1/1 [==============================] - 1s 1s/step                  (5 + 1) / 16]\n",
      "1/1 [==============================] - 1s 1s/step                  (6 + 1) / 16]\n",
      "1/1 [==============================] - 1s 1s/step                  (7 + 1) / 16]\n",
      "1/1 [==============================] - 1s 1s/step                  (8 + 1) / 16]\n",
      "1/1 [==============================] - 1s 1s/step                  (9 + 1) / 16]\n",
      "1/1 [==============================] - 1s 1s/step                 (10 + 1) / 16]\n",
      "1/1 [==============================] - 1s 1s/step                 (11 + 1) / 16]\n",
      "1/1 [==============================] - 1s 1s/step===>             (12 + 1) / 16]\n",
      "1/1 [==============================] - 1s 1s/step======>          (13 + 1) / 16]\n",
      "1/1 [==============================] - 1s 1s/step==========>      (14 + 1) / 16]\n",
      "1/1 [==============================] - 1s 1s/step=============>   (15 + 1) / 16]\n"
     ]
    },
    {
     "name": "stdout",
     "output_type": "stream",
     "text": [
      "22/12/13 18:13:55 WARN DAGScheduler: Broadcasting large task binary with size 1624.5 KiB\n",
      "22/12/13 18:13:55 WARN DAGScheduler: Broadcasting large task binary with size 1623.5 KiB\n"
     ]
    },
    {
     "name": "stderr",
     "output_type": "stream",
     "text": [
      "1/1 [==============================] - 1s 1s/step                  (0 + 1) / 16]\n",
      "1/1 [==============================] - 1s 1s/step                  (1 + 1) / 16]\n",
      "1/1 [==============================] - 1s 1s/step                  (2 + 1) / 16]\n",
      "1/1 [==============================] - 1s 1s/step                  (3 + 1) / 16]\n",
      "1/1 [==============================] - 1s 1s/step                  (4 + 1) / 16]\n",
      "1/1 [==============================] - 1s 1s/step                  (5 + 1) / 16]\n",
      "1/1 [==============================] - 1s 1s/step                  (6 + 1) / 16]\n",
      "1/1 [==============================] - 1s 1s/step                  (7 + 1) / 16]\n",
      "1/1 [==============================] - 1s 1s/step                  (8 + 1) / 16]\n",
      "1/1 [==============================] - 1s 1s/step                  (9 + 1) / 16]\n",
      "1/1 [==============================] - 1s 1s/step                 (10 + 1) / 16]\n",
      "1/1 [==============================] - 1s 1s/step                 (11 + 1) / 16]\n",
      "1/1 [==============================] - 1s 1s/step===>             (12 + 1) / 16]\n",
      "1/1 [==============================] - 1s 1s/step======>          (13 + 1) / 16]\n",
      "1/1 [==============================] - 1s 1s/step==========>      (14 + 1) / 16]\n",
      "1/1 [==============================] - 1s 1s/step=============>   (15 + 1) / 16]\n"
     ]
    },
    {
     "name": "stdout",
     "output_type": "stream",
     "text": [
      "22/12/13 18:14:48 WARN DAGScheduler: Broadcasting large task binary with size 1624.5 KiB\n",
      "22/12/13 18:14:48 WARN DAGScheduler: Broadcasting large task binary with size 1623.5 KiB\n"
     ]
    },
    {
     "name": "stderr",
     "output_type": "stream",
     "text": [
      "1/1 [==============================] - 1s 1s/step                  (0 + 1) / 16]\n",
      "1/1 [==============================] - 1s 1s/step                  (1 + 1) / 16]\n",
      "1/1 [==============================] - 1s 1s/step                  (2 + 1) / 16]\n",
      "1/1 [==============================] - 1s 1s/step                  (3 + 1) / 16]\n",
      "1/1 [==============================] - 1s 1s/step                  (4 + 1) / 16]\n",
      "1/1 [==============================] - 1s 1s/step                  (5 + 1) / 16]\n",
      "1/1 [==============================] - 1s 1s/step                  (6 + 1) / 16]\n",
      "1/1 [==============================] - 1s 1s/step                  (7 + 1) / 16]\n",
      "1/1 [==============================] - 1s 1s/step                  (8 + 1) / 16]\n",
      "1/1 [==============================] - 1s 1s/step                  (9 + 1) / 16]\n",
      "1/1 [==============================] - 1s 1s/step                 (10 + 1) / 16]\n",
      "1/1 [==============================] - 1s 1s/step                 (11 + 1) / 16]\n",
      "1/1 [==============================] - 1s 1s/step===>             (12 + 1) / 16]\n",
      "1/1 [==============================] - 1s 1s/step======>          (13 + 1) / 16]\n",
      "1/1 [==============================] - 1s 1s/step==========>      (14 + 1) / 16]\n",
      "1/1 [==============================] - 1s 1s/step=============>   (15 + 1) / 16]\n"
     ]
    },
    {
     "name": "stdout",
     "output_type": "stream",
     "text": [
      "22/12/13 18:15:41 WARN DAGScheduler: Broadcasting large task binary with size 1624.5 KiB\n",
      "22/12/13 18:15:41 WARN DAGScheduler: Broadcasting large task binary with size 1623.5 KiB\n"
     ]
    },
    {
     "name": "stderr",
     "output_type": "stream",
     "text": [
      "1/1 [==============================] - 1s 1s/step                  (0 + 1) / 16]\n",
      "1/1 [==============================] - 1s 1s/step                  (1 + 1) / 16]\n",
      "1/1 [==============================] - 1s 1s/step                  (2 + 1) / 16]\n",
      "1/1 [==============================] - 1s 1s/step                  (3 + 1) / 16]\n",
      "1/1 [==============================] - 1s 1s/step                  (4 + 1) / 16]\n",
      "1/1 [==============================] - 1s 1s/step                  (5 + 1) / 16]\n",
      "1/1 [==============================] - 1s 1s/step                  (6 + 1) / 16]\n",
      "1/1 [==============================] - 1s 1s/step                  (7 + 1) / 16]\n",
      "1/1 [==============================] - 1s 1s/step                  (8 + 1) / 16]\n",
      "1/1 [==============================] - 1s 1s/step                  (9 + 1) / 16]\n",
      "1/1 [==============================] - 1s 1s/step                 (10 + 1) / 16]\n",
      "1/1 [==============================] - 1s 1s/step                 (11 + 1) / 16]\n",
      "1/1 [==============================] - 1s 1s/step===>             (12 + 1) / 16]\n",
      "1/1 [==============================] - 1s 1s/step======>          (13 + 1) / 16]\n",
      "1/1 [==============================] - 1s 1s/step==========>      (14 + 1) / 16]\n",
      "1/1 [==============================] - 1s 1s/step=============>   (15 + 1) / 16]\n"
     ]
    },
    {
     "name": "stdout",
     "output_type": "stream",
     "text": [
      "22/12/13 18:16:35 WARN DAGScheduler: Broadcasting large task binary with size 1624.5 KiB\n",
      "22/12/13 18:16:35 WARN DAGScheduler: Broadcasting large task binary with size 1623.5 KiB\n"
     ]
    },
    {
     "name": "stderr",
     "output_type": "stream",
     "text": [
      "1/1 [==============================] - 1s 1s/step                  (0 + 1) / 16]\n",
      "1/1 [==============================] - 1s 1s/step                  (1 + 1) / 16]\n",
      "1/1 [==============================] - 1s 1s/step                  (2 + 1) / 16]\n",
      "1/1 [==============================] - 1s 1s/step                  (3 + 1) / 16]\n",
      "1/1 [==============================] - 1s 1s/step                  (4 + 1) / 16]\n",
      "1/1 [==============================] - 1s 1s/step                  (5 + 1) / 16]\n",
      "1/1 [==============================] - 1s 1s/step                  (6 + 1) / 16]\n",
      "1/1 [==============================] - 1s 1s/step                  (7 + 1) / 16]\n",
      "1/1 [==============================] - 1s 1s/step                  (8 + 1) / 16]\n",
      "1/1 [==============================] - 1s 1s/step                  (9 + 1) / 16]\n",
      "1/1 [==============================] - 1s 1s/step                 (10 + 1) / 16]\n",
      "1/1 [==============================] - 1s 1s/step                 (11 + 1) / 16]\n",
      "1/1 [==============================] - 1s 1s/step===>             (12 + 1) / 16]\n",
      "1/1 [==============================] - 1s 1s/step======>          (13 + 1) / 16]\n",
      "1/1 [==============================] - 1s 1s/step==========>      (14 + 1) / 16]\n",
      "1/1 [==============================] - 1s 1s/step=============>   (15 + 1) / 16]\n"
     ]
    },
    {
     "name": "stdout",
     "output_type": "stream",
     "text": [
      "22/12/13 18:17:28 WARN DAGScheduler: Broadcasting large task binary with size 1624.5 KiB\n",
      "22/12/13 18:17:29 WARN DAGScheduler: Broadcasting large task binary with size 1623.5 KiB\n"
     ]
    },
    {
     "name": "stderr",
     "output_type": "stream",
     "text": [
      "1/1 [==============================] - 1s 1s/step                  (0 + 1) / 16]\n",
      "1/1 [==============================] - 1s 1s/step                  (1 + 1) / 16]\n",
      "1/1 [==============================] - 1s 1s/step                  (2 + 1) / 16]\n",
      "1/1 [==============================] - 1s 1s/step                  (3 + 1) / 16]\n",
      "1/1 [==============================] - 1s 1s/step                  (4 + 1) / 16]\n",
      "1/1 [==============================] - 1s 1s/step                  (5 + 1) / 16]\n",
      "1/1 [==============================] - 1s 1s/step                  (6 + 1) / 16]\n",
      "1/1 [==============================] - 1s 1s/step                  (7 + 1) / 16]\n",
      "1/1 [==============================] - 1s 1s/step                  (8 + 1) / 16]\n",
      "1/1 [==============================] - 1s 1s/step                  (9 + 1) / 16]\n",
      "1/1 [==============================] - 1s 1s/step                 (10 + 1) / 16]\n",
      "1/1 [==============================] - 1s 1s/step                 (11 + 1) / 16]\n",
      "1/1 [==============================] - 1s 1s/step===>             (12 + 1) / 16]\n",
      "1/1 [==============================] - 1s 1s/step======>          (13 + 1) / 16]\n",
      "1/1 [==============================] - 1s 1s/step==========>      (14 + 1) / 16]\n",
      "1/1 [==============================] - 1s 1s/step=============>   (15 + 1) / 16]\n"
     ]
    },
    {
     "name": "stdout",
     "output_type": "stream",
     "text": [
      "22/12/13 18:18:22 WARN DAGScheduler: Broadcasting large task binary with size 1624.5 KiB\n",
      "22/12/13 18:18:22 WARN DAGScheduler: Broadcasting large task binary with size 1623.5 KiB\n"
     ]
    },
    {
     "name": "stderr",
     "output_type": "stream",
     "text": [
      "1/1 [==============================] - 1s 1s/step                  (0 + 1) / 16]\n",
      "1/1 [==============================] - 1s 1s/step                  (1 + 1) / 16]\n",
      "1/1 [==============================] - 1s 1s/step                  (2 + 1) / 16]\n",
      "1/1 [==============================] - 1s 1s/step                  (3 + 1) / 16]\n",
      "1/1 [==============================] - 1s 1s/step                  (4 + 1) / 16]\n",
      "1/1 [==============================] - 1s 1s/step                  (5 + 1) / 16]\n",
      "1/1 [==============================] - 1s 1s/step                  (6 + 1) / 16]\n",
      "1/1 [==============================] - 1s 1s/step                  (7 + 1) / 16]\n",
      "1/1 [==============================] - 1s 1s/step                  (8 + 1) / 16]\n",
      "1/1 [==============================] - 1s 1s/step                  (9 + 1) / 16]\n",
      "1/1 [==============================] - 1s 1s/step                 (10 + 1) / 16]\n",
      "1/1 [==============================] - 1s 1s/step                 (11 + 1) / 16]\n",
      "1/1 [==============================] - 1s 1s/step===>             (12 + 1) / 16]\n",
      "1/1 [==============================] - 1s 1s/step======>          (13 + 1) / 16]\n",
      "1/1 [==============================] - 1s 1s/step==========>      (14 + 1) / 16]\n",
      "1/1 [==============================] - 1s 1s/step=============>   (15 + 1) / 16]\n"
     ]
    },
    {
     "name": "stdout",
     "output_type": "stream",
     "text": [
      "22/12/13 18:19:16 WARN DAGScheduler: Broadcasting large task binary with size 1624.5 KiB\n",
      "22/12/13 18:19:16 WARN DAGScheduler: Broadcasting large task binary with size 1623.5 KiB\n"
     ]
    },
    {
     "name": "stderr",
     "output_type": "stream",
     "text": [
      "1/1 [==============================] - 1s 1s/step                  (0 + 1) / 16]\n",
      "1/1 [==============================] - 1s 1s/step                  (1 + 1) / 16]\n",
      "1/1 [==============================] - 1s 1s/step                  (2 + 1) / 16]\n",
      "1/1 [==============================] - 1s 1s/step                  (3 + 1) / 16]\n",
      "1/1 [==============================] - 1s 1s/step                  (4 + 1) / 16]\n",
      "1/1 [==============================] - 1s 1s/step                  (5 + 1) / 16]\n",
      "1/1 [==============================] - 1s 1s/step                  (6 + 1) / 16]\n",
      "1/1 [==============================] - 1s 1s/step                  (7 + 1) / 16]\n",
      "1/1 [==============================] - 1s 1s/step                  (8 + 1) / 16]\n",
      "1/1 [==============================] - 1s 1s/step                  (9 + 1) / 16]\n",
      "1/1 [==============================] - 1s 1s/step                 (10 + 1) / 16]\n",
      "1/1 [==============================] - 1s 1s/step                 (11 + 1) / 16]\n",
      "1/1 [==============================] - 1s 1s/step===>             (12 + 1) / 16]\n",
      "1/1 [==============================] - 1s 1s/step======>          (13 + 1) / 16]\n",
      "1/1 [==============================] - 1s 1s/step==========>      (14 + 1) / 16]\n",
      "1/1 [==============================] - 1s 1s/step=============>   (15 + 1) / 16]\n"
     ]
    },
    {
     "name": "stdout",
     "output_type": "stream",
     "text": [
      "22/12/13 18:20:09 WARN DAGScheduler: Broadcasting large task binary with size 1624.5 KiB\n",
      "22/12/13 18:20:09 WARN DAGScheduler: Broadcasting large task binary with size 1623.5 KiB\n"
     ]
    },
    {
     "name": "stderr",
     "output_type": "stream",
     "text": [
      "1/1 [==============================] - 1s 1s/step                  (0 + 1) / 16]\n",
      "1/1 [==============================] - 1s 1s/step                  (1 + 1) / 16]\n",
      "1/1 [==============================] - 1s 1s/step                  (2 + 1) / 16]\n",
      "1/1 [==============================] - 1s 1s/step                  (3 + 1) / 16]\n",
      "1/1 [==============================] - 1s 1s/step                  (4 + 1) / 16]\n",
      "1/1 [==============================] - 1s 1s/step                  (5 + 1) / 16]\n",
      "1/1 [==============================] - 1s 1s/step                  (6 + 1) / 16]\n",
      "1/1 [==============================] - 1s 1s/step                  (7 + 1) / 16]\n",
      "1/1 [==============================] - 1s 1s/step                  (8 + 1) / 16]\n",
      "1/1 [==============================] - 1s 1s/step                  (9 + 1) / 16]\n",
      "1/1 [==============================] - 1s 1s/step                 (10 + 1) / 16]\n",
      "1/1 [==============================] - 1s 1s/step                 (11 + 1) / 16]\n",
      "1/1 [==============================] - 1s 1s/step===>             (12 + 1) / 16]\n",
      "1/1 [==============================] - 1s 1s/step======>          (13 + 1) / 16]\n",
      "1/1 [==============================] - 1s 1s/step==========>      (14 + 1) / 16]\n",
      "1/1 [==============================] - 1s 1s/step=============>   (15 + 1) / 16]\n"
     ]
    },
    {
     "name": "stdout",
     "output_type": "stream",
     "text": [
      "22/12/13 18:21:02 WARN DAGScheduler: Broadcasting large task binary with size 1624.5 KiB\n",
      "22/12/13 18:21:03 WARN DAGScheduler: Broadcasting large task binary with size 1623.5 KiB\n"
     ]
    },
    {
     "name": "stderr",
     "output_type": "stream",
     "text": [
      "1/1 [==============================] - 1s 1s/step                  (0 + 1) / 16]\n",
      "1/1 [==============================] - 1s 1s/step                  (1 + 1) / 16]\n",
      "1/1 [==============================] - 1s 1s/step                  (2 + 1) / 16]\n",
      "1/1 [==============================] - 1s 1s/step                  (3 + 1) / 16]\n",
      "1/1 [==============================] - 1s 1s/step                  (4 + 1) / 16]\n",
      "1/1 [==============================] - 1s 1s/step                  (5 + 1) / 16]\n",
      "1/1 [==============================] - 1s 1s/step                  (6 + 1) / 16]\n",
      "1/1 [==============================] - 1s 1s/step                  (7 + 1) / 16]\n",
      "1/1 [==============================] - 1s 1s/step                  (8 + 1) / 16]\n",
      "1/1 [==============================] - 1s 1s/step                  (9 + 1) / 16]\n",
      "1/1 [==============================] - 1s 1s/step                 (10 + 1) / 16]\n",
      "1/1 [==============================] - 1s 1s/step                 (11 + 1) / 16]\n",
      "1/1 [==============================] - 1s 1s/step===>             (12 + 1) / 16]\n",
      "1/1 [==============================] - 1s 1s/step======>          (13 + 1) / 16]\n",
      "1/1 [==============================] - 1s 1s/step==========>      (14 + 1) / 16]\n",
      "1/1 [==============================] - 1s 1s/step=============>   (15 + 1) / 16]\n"
     ]
    },
    {
     "name": "stdout",
     "output_type": "stream",
     "text": [
      "22/12/13 18:21:55 WARN DAGScheduler: Broadcasting large task binary with size 1624.5 KiB\n",
      "22/12/13 18:21:56 WARN DAGScheduler: Broadcasting large task binary with size 1623.5 KiB\n"
     ]
    },
    {
     "name": "stderr",
     "output_type": "stream",
     "text": [
      "1/1 [==============================] - 1s 1s/step                  (0 + 1) / 16]\n",
      "1/1 [==============================] - 1s 1s/step                  (1 + 1) / 16]\n",
      "1/1 [==============================] - 1s 1s/step                  (2 + 1) / 16]\n",
      "1/1 [==============================] - 1s 1s/step                  (3 + 1) / 16]\n",
      "1/1 [==============================] - 1s 1s/step                  (4 + 1) / 16]\n",
      "1/1 [==============================] - 1s 1s/step                  (5 + 1) / 16]\n",
      "1/1 [==============================] - 1s 1s/step                  (6 + 1) / 16]\n",
      "1/1 [==============================] - 1s 1s/step                  (7 + 1) / 16]\n",
      "1/1 [==============================] - 1s 1s/step                  (8 + 1) / 16]\n",
      "1/1 [==============================] - 1s 1s/step                  (9 + 1) / 16]\n",
      "1/1 [==============================] - 1s 1s/step                 (10 + 1) / 16]\n",
      "1/1 [==============================] - 1s 1s/step                 (11 + 1) / 16]\n",
      "1/1 [==============================] - 1s 1s/step===>             (12 + 1) / 16]\n",
      "1/1 [==============================] - 1s 1s/step======>          (13 + 1) / 16]\n",
      "1/1 [==============================] - 1s 1s/step==========>      (14 + 1) / 16]\n",
      "1/1 [==============================] - 1s 1s/step=============>   (15 + 1) / 16]\n"
     ]
    },
    {
     "name": "stdout",
     "output_type": "stream",
     "text": [
      "22/12/13 18:22:49 WARN DAGScheduler: Broadcasting large task binary with size 1624.5 KiB\n",
      "22/12/13 18:22:50 WARN DAGScheduler: Broadcasting large task binary with size 1623.5 KiB\n"
     ]
    },
    {
     "name": "stderr",
     "output_type": "stream",
     "text": [
      "1/1 [==============================] - 1s 1s/step                  (0 + 1) / 16]\n",
      "1/1 [==============================] - 1s 1s/step                  (1 + 1) / 16]\n",
      "1/1 [==============================] - 1s 1s/step                  (2 + 1) / 16]\n",
      "1/1 [==============================] - 1s 1s/step                  (3 + 1) / 16]\n",
      "1/1 [==============================] - 1s 1s/step                  (4 + 1) / 16]\n",
      "1/1 [==============================] - 1s 1s/step                  (5 + 1) / 16]\n",
      "1/1 [==============================] - 1s 1s/step                  (6 + 1) / 16]\n",
      "1/1 [==============================] - 1s 1s/step                  (7 + 1) / 16]\n",
      "1/1 [==============================] - 1s 1s/step                  (8 + 1) / 16]\n",
      "1/1 [==============================] - 1s 1s/step                  (9 + 1) / 16]\n",
      "1/1 [==============================] - 1s 1s/step                 (10 + 1) / 16]\n",
      "1/1 [==============================] - 1s 1s/step                 (11 + 1) / 16]\n",
      "1/1 [==============================] - 1s 1s/step===>             (12 + 1) / 16]\n",
      "1/1 [==============================] - 1s 1s/step======>          (13 + 1) / 16]\n",
      "1/1 [==============================] - 1s 1s/step==========>      (14 + 1) / 16]\n",
      "1/1 [==============================] - 1s 1s/step=============>   (15 + 1) / 16]\n"
     ]
    },
    {
     "name": "stdout",
     "output_type": "stream",
     "text": [
      "22/12/13 18:23:43 WARN DAGScheduler: Broadcasting large task binary with size 1624.5 KiB\n",
      "22/12/13 18:23:43 WARN DAGScheduler: Broadcasting large task binary with size 1623.5 KiB\n"
     ]
    },
    {
     "name": "stderr",
     "output_type": "stream",
     "text": [
      "1/1 [==============================] - 1s 1s/step                  (0 + 1) / 16]\n",
      "1/1 [==============================] - 1s 1s/step                  (1 + 1) / 16]\n",
      "1/1 [==============================] - 1s 1s/step                  (2 + 1) / 16]\n",
      "1/1 [==============================] - 1s 1s/step                  (3 + 1) / 16]\n",
      "1/1 [==============================] - 1s 1s/step                  (4 + 1) / 16]\n",
      "1/1 [==============================] - 1s 1s/step                  (5 + 1) / 16]\n",
      "1/1 [==============================] - 1s 1s/step                  (6 + 1) / 16]\n",
      "1/1 [==============================] - 1s 1s/step                  (7 + 1) / 16]\n",
      "1/1 [==============================] - 1s 1s/step                  (8 + 1) / 16]\n",
      "1/1 [==============================] - 1s 1s/step                  (9 + 1) / 16]\n",
      "1/1 [==============================] - 1s 1s/step                 (10 + 1) / 16]\n",
      "1/1 [==============================] - 1s 1s/step                 (11 + 1) / 16]\n",
      "1/1 [==============================] - 1s 1s/step===>             (12 + 1) / 16]\n",
      "1/1 [==============================] - 1s 1s/step======>          (13 + 1) / 16]\n",
      "1/1 [==============================] - 1s 1s/step==========>      (14 + 1) / 16]\n",
      "1/1 [==============================] - 1s 1s/step=============>   (15 + 1) / 16]\n"
     ]
    },
    {
     "name": "stdout",
     "output_type": "stream",
     "text": [
      "22/12/13 18:24:36 WARN DAGScheduler: Broadcasting large task binary with size 1624.5 KiB\n",
      "22/12/13 18:24:37 WARN DAGScheduler: Broadcasting large task binary with size 1623.5 KiB\n"
     ]
    },
    {
     "name": "stderr",
     "output_type": "stream",
     "text": [
      "1/1 [==============================] - 1s 1s/step                  (0 + 1) / 16]\n",
      "1/1 [==============================] - 1s 1s/step                  (1 + 1) / 16]\n",
      "1/1 [==============================] - 1s 1s/step                  (2 + 1) / 16]\n",
      "1/1 [==============================] - 1s 1s/step                  (3 + 1) / 16]\n",
      "1/1 [==============================] - 1s 1s/step                  (4 + 1) / 16]\n",
      "1/1 [==============================] - 1s 1s/step                  (5 + 1) / 16]\n",
      "1/1 [==============================] - 1s 1s/step                  (6 + 1) / 16]\n",
      "1/1 [==============================] - 1s 1s/step                  (7 + 1) / 16]\n",
      "1/1 [==============================] - 1s 1s/step                  (8 + 1) / 16]\n",
      "1/1 [==============================] - 1s 1s/step                  (9 + 1) / 16]\n",
      "1/1 [==============================] - 1s 1s/step                 (10 + 1) / 16]\n",
      "1/1 [==============================] - 1s 1s/step                 (11 + 1) / 16]\n",
      "1/1 [==============================] - 1s 1s/step===>             (12 + 1) / 16]\n",
      "1/1 [==============================] - 1s 1s/step======>          (13 + 1) / 16]\n",
      "1/1 [==============================] - 1s 1s/step==========>      (14 + 1) / 16]\n",
      "1/1 [==============================] - 1s 1s/step=============>   (15 + 1) / 16]\n"
     ]
    },
    {
     "name": "stdout",
     "output_type": "stream",
     "text": [
      "22/12/13 18:25:30 WARN DAGScheduler: Broadcasting large task binary with size 1624.5 KiB\n",
      "22/12/13 18:25:30 WARN DAGScheduler: Broadcasting large task binary with size 1623.5 KiB\n"
     ]
    },
    {
     "name": "stderr",
     "output_type": "stream",
     "text": [
      "1/1 [==============================] - 1s 1s/step                  (0 + 1) / 16]\n",
      "1/1 [==============================] - 1s 1s/step                  (1 + 1) / 16]\n",
      "1/1 [==============================] - 1s 1s/step                  (2 + 1) / 16]\n",
      "1/1 [==============================] - 1s 1s/step                  (3 + 1) / 16]\n",
      "1/1 [==============================] - 2s 2s/step                  (4 + 1) / 16]\n",
      "1/1 [==============================] - 2s 2s/step                  (5 + 1) / 16]\n",
      "1/1 [==============================] - 1s 1s/step                  (6 + 1) / 16]\n",
      "1/1 [==============================] - 1s 1s/step                  (7 + 1) / 16]\n",
      "1/1 [==============================] - 1s 1s/step                  (8 + 1) / 16]\n",
      "1/1 [==============================] - 2s 2s/step                  (9 + 1) / 16]\n",
      "1/1 [==============================] - 1s 1s/step                 (10 + 1) / 16]\n",
      "1/1 [==============================] - 1s 1s/step                 (11 + 1) / 16]\n",
      "1/1 [==============================] - 1s 1s/step===>             (12 + 1) / 16]\n",
      "1/1 [==============================] - 1s 1s/step======>          (13 + 1) / 16]\n",
      "1/1 [==============================] - 2s 2s/step==========>      (14 + 1) / 16]\n",
      "1/1 [==============================] - 3s 3s/step=============>   (15 + 1) / 16]\n"
     ]
    },
    {
     "name": "stdout",
     "output_type": "stream",
     "text": [
      "22/12/13 18:26:32 WARN DAGScheduler: Broadcasting large task binary with size 1624.5 KiB\n",
      "22/12/13 18:26:32 WARN DAGScheduler: Broadcasting large task binary with size 1623.5 KiB\n"
     ]
    },
    {
     "name": "stderr",
     "output_type": "stream",
     "text": [
      "1/1 [==============================] - 2s 2s/step                  (0 + 1) / 16]\n",
      "1/1 [==============================] - 1s 1s/step                  (1 + 1) / 16]\n",
      "1/1 [==============================] - 1s 1s/step                  (2 + 1) / 16]\n",
      "1/1 [==============================] - 1s 1s/step                  (3 + 1) / 16]\n",
      "1/1 [==============================] - 1s 1s/step                  (4 + 1) / 16]\n",
      "1/1 [==============================] - 5s 5s/step                  (5 + 1) / 16]\n",
      "1/1 [==============================] - 2s 2s/step                  (6 + 1) / 16]\n",
      "1/1 [==============================] - 2s 2s/step                  (7 + 1) / 16]\n",
      "2022-12-13 18:31:08.080019: I tensorflow/core/platform/cpu_feature_guard.cc:193] This TensorFlow binary is optimized with oneAPI Deep Neural Network Library (oneDNN) to use the following CPU instructions in performance-critical operations:  AVX2 FMA\n",
      "To enable them in other operations, rebuild TensorFlow with the appropriate compiler flags.\n",
      "2022-12-13 18:31:09.912386: W tensorflow/compiler/xla/stream_executor/platform/default/dso_loader.cc:64] Could not load dynamic library 'libcudart.so.11.0'; dlerror: libcudart.so.11.0: cannot open shared object file: No such file or directory\n",
      "2022-12-13 18:31:09.912436: I tensorflow/compiler/xla/stream_executor/cuda/cudart_stub.cc:29] Ignore above cudart dlerror if you do not have a GPU set up on your machine.\n",
      "2022-12-13 18:31:12.608234: W tensorflow/compiler/xla/stream_executor/platform/default/dso_loader.cc:64] Could not load dynamic library 'libnvinfer.so.7'; dlerror: libnvinfer.so.7: cannot open shared object file: No such file or directory\n",
      "2022-12-13 18:31:12.608382: W tensorflow/compiler/xla/stream_executor/platform/default/dso_loader.cc:64] Could not load dynamic library 'libnvinfer_plugin.so.7'; dlerror: libnvinfer_plugin.so.7: cannot open shared object file: No such file or directory\n",
      "2022-12-13 18:31:12.608432: W tensorflow/compiler/tf2tensorrt/utils/py_utils.cc:38] TF-TRT Warning: Cannot dlopen some TensorRT libraries. If you would like to use Nvidia GPU with TensorRT, please make sure the missing libraries mentioned above are installed properly.\n",
      "2022-12-13 18:31:15.865712: W tensorflow/compiler/xla/stream_executor/platform/default/dso_loader.cc:64] Could not load dynamic library 'libcuda.so.1'; dlerror: libcuda.so.1: cannot open shared object file: No such file or directory\n",
      "2022-12-13 18:31:15.865763: W tensorflow/compiler/xla/stream_executor/cuda/cuda_driver.cc:265] failed call to cuInit: UNKNOWN ERROR (303)\n",
      "2022-12-13 18:31:15.865794: I tensorflow/compiler/xla/stream_executor/cuda/cuda_diagnostics.cc:156] kernel driver does not appear to be running on this host (ip-172-31-38-162.eu-west-3.compute.internal): /proc/driver/nvidia/version does not exist\n",
      "2022-12-13 18:31:15.866093: I tensorflow/core/platform/cpu_feature_guard.cc:193] This TensorFlow binary is optimized with oneAPI Deep Neural Network Library (oneDNN) to use the following CPU instructions in performance-critical operations:  AVX2 FMA\n",
      "To enable them in other operations, rebuild TensorFlow with the appropriate compiler flags.\n",
      "1/1 [==============================] - 2s 2s/step\n",
      "1/1 [==============================] - 1s 1s/step                  (9 + 1) / 16]\n",
      "1/1 [==============================] - 1s 1s/step                 (10 + 1) / 16]\n",
      "1/1 [==============================] - 1s 1s/step                 (11 + 1) / 16]\n",
      "WARNING:tensorflow:5 out of the last 5 calls to <function Model.make_predict_function.<locals>.predict_function at 0x7f4f1c3e8820> triggered tf.function retracing. Tracing is expensive and the excessive number of tracings could be due to (1) creating @tf.function repeatedly in a loop, (2) passing tensors with different shapes, (3) passing Python objects instead of tensors. For (1), please define your @tf.function outside of the loop. For (2), @tf.function has reduce_retracing=True option that can avoid unnecessary retracing. For (3), please refer to https://www.tensorflow.org/guide/function#controlling_retracing and https://www.tensorflow.org/api_docs/python/tf/function for  more details.\n",
      "1/1 [==============================] - 1s 1s/step\n",
      "WARNING:tensorflow:6 out of the last 6 calls to <function Model.make_predict_function.<locals>.predict_function at 0x7f4f1e5395e0> triggered tf.function retracing. Tracing is expensive and the excessive number of tracings could be due to (1) creating @tf.function repeatedly in a loop, (2) passing tensors with different shapes, (3) passing Python objects instead of tensors. For (1), please define your @tf.function outside of the loop. For (2), @tf.function has reduce_retracing=True option that can avoid unnecessary retracing. For (3), please refer to https://www.tensorflow.org/guide/function#controlling_retracing and https://www.tensorflow.org/api_docs/python/tf/function for  more details.\n",
      "1/1 [==============================] - 1s 1s/step\n",
      "1/1 [==============================] - 1s 1s/step==========>      (14 + 1) / 16]\n",
      "1/1 [==============================] - 1s 1s/step=============>   (15 + 1) / 16]\n"
     ]
    },
    {
     "name": "stdout",
     "output_type": "stream",
     "text": [
      "22/12/13 18:31:47 WARN DAGScheduler: Broadcasting large task binary with size 1624.5 KiB\n",
      "22/12/13 18:31:47 WARN DAGScheduler: Broadcasting large task binary with size 1623.5 KiB\n"
     ]
    },
    {
     "name": "stderr",
     "output_type": "stream",
     "text": [
      "1/1 [==============================] - 2s 2s/step                  (0 + 1) / 16]\n",
      "1/1 [==============================] - 1s 1s/step                  (1 + 1) / 16]\n",
      "1/1 [==============================] - 1s 1s/step                  (2 + 1) / 16]\n",
      "1/1 [==============================] - 1s 1s/step                  (3 + 1) / 16]\n",
      "1/1 [==============================] - 1s 1s/step                  (4 + 1) / 16]\n",
      "1/1 [==============================] - 1s 1s/step                  (5 + 1) / 16]\n",
      "1/1 [==============================] - 1s 1s/step                  (6 + 1) / 16]\n",
      "1/1 [==============================] - 1s 1s/step                  (7 + 1) / 16]\n",
      "1/1 [==============================] - 2s 2s/step                  (8 + 1) / 16]\n",
      "1/1 [==============================] - 1s 1s/step                  (9 + 1) / 16]\n",
      "1/1 [==============================] - 1s 1s/step                 (10 + 1) / 16]\n",
      "1/1 [==============================] - 1s 1s/step                 (11 + 1) / 16]\n",
      "1/1 [==============================] - 1s 1s/step===>             (12 + 1) / 16]\n",
      "1/1 [==============================] - 1s 1s/step======>          (13 + 1) / 16]\n",
      "1/1 [==============================] - 1s 1s/step==========>      (14 + 1) / 16]\n",
      "1/1 [==============================] - 1s 1s/step=============>   (15 + 1) / 16]\n"
     ]
    },
    {
     "name": "stdout",
     "output_type": "stream",
     "text": [
      "22/12/13 18:32:47 WARN DAGScheduler: Broadcasting large task binary with size 1624.5 KiB\n",
      "22/12/13 18:32:47 WARN DAGScheduler: Broadcasting large task binary with size 1623.5 KiB\n"
     ]
    },
    {
     "name": "stderr",
     "output_type": "stream",
     "text": [
      "1/1 [==============================] - 1s 1s/step                  (0 + 1) / 16]\n",
      "1/1 [==============================] - 1s 1s/step                  (1 + 1) / 16]\n",
      "1/1 [==============================] - 1s 1s/step                  (2 + 1) / 16]\n",
      "1/1 [==============================] - 1s 1s/step                  (3 + 1) / 16]\n",
      "1/1 [==============================] - 1s 1s/step                  (4 + 1) / 16]\n",
      "1/1 [==============================] - 1s 1s/step                  (5 + 1) / 16]\n",
      "1/1 [==============================] - 1s 1s/step                  (6 + 1) / 16]\n",
      "1/1 [==============================] - 1s 1s/step                  (7 + 1) / 16]\n",
      "1/1 [==============================] - 1s 1s/step                  (8 + 1) / 16]\n",
      "1/1 [==============================] - 1s 1s/step                  (9 + 1) / 16]\n",
      "1/1 [==============================] - 1s 1s/step                 (10 + 1) / 16]\n",
      "1/1 [==============================] - 1s 1s/step                 (11 + 1) / 16]\n",
      "1/1 [==============================] - 1s 1s/step===>             (12 + 1) / 16]\n",
      "1/1 [==============================] - 1s 1s/step======>          (13 + 1) / 16]\n",
      "1/1 [==============================] - 1s 1s/step==========>      (14 + 1) / 16]\n",
      "1/1 [==============================] - 1s 1s/step=============>   (15 + 1) / 16]\n"
     ]
    },
    {
     "name": "stdout",
     "output_type": "stream",
     "text": [
      "22/12/13 18:33:46 WARN DAGScheduler: Broadcasting large task binary with size 1624.5 KiB\n",
      "22/12/13 18:33:46 WARN DAGScheduler: Broadcasting large task binary with size 1623.5 KiB\n"
     ]
    },
    {
     "name": "stderr",
     "output_type": "stream",
     "text": [
      "1/1 [==============================] - 2s 2s/step                  (0 + 1) / 16]\n",
      "1/1 [==============================] - 1s 1s/step                  (1 + 1) / 16]\n",
      "1/1 [==============================] - 1s 1s/step                  (2 + 1) / 16]\n",
      "1/1 [==============================] - 1s 1s/step                  (3 + 1) / 16]\n",
      "1/1 [==============================] - 1s 1s/step                  (4 + 1) / 16]\n",
      "1/1 [==============================] - 1s 1s/step                  (5 + 1) / 16]\n",
      "1/1 [==============================] - 1s 1s/step                  (6 + 1) / 16]\n",
      "1/1 [==============================] - 1s 1s/step                  (7 + 1) / 16]\n",
      "1/1 [==============================] - 1s 1s/step                  (8 + 1) / 16]\n",
      "1/1 [==============================] - 1s 1s/step                  (9 + 1) / 16]\n",
      "1/1 [==============================] - 1s 1s/step                 (10 + 1) / 16]\n",
      "1/1 [==============================] - 1s 1s/step                 (11 + 1) / 16]\n",
      "1/1 [==============================] - 1s 1s/step===>             (12 + 1) / 16]\n",
      "1/1 [==============================] - 1s 1s/step======>          (13 + 1) / 16]\n",
      "1/1 [==============================] - 1s 1s/step==========>      (14 + 1) / 16]\n",
      "1/1 [==============================] - 1s 1s/step=============>   (15 + 1) / 16]\n"
     ]
    },
    {
     "name": "stdout",
     "output_type": "stream",
     "text": [
      "22/12/13 18:34:46 WARN DAGScheduler: Broadcasting large task binary with size 1624.5 KiB\n",
      "22/12/13 18:34:46 WARN DAGScheduler: Broadcasting large task binary with size 1623.5 KiB\n"
     ]
    },
    {
     "name": "stderr",
     "output_type": "stream",
     "text": [
      "1/1 [==============================] - 2s 2s/step                  (0 + 1) / 16]\n",
      "1/1 [==============================] - 1s 1s/step                  (1 + 1) / 16]\n",
      "1/1 [==============================] - 1s 1s/step                  (2 + 1) / 16]\n",
      "1/1 [==============================] - 1s 1s/step                  (3 + 1) / 16]\n",
      "1/1 [==============================] - 1s 1s/step                  (4 + 1) / 16]\n",
      "1/1 [==============================] - 1s 1s/step                  (5 + 1) / 16]\n",
      "1/1 [==============================] - 1s 1s/step                  (6 + 1) / 16]\n",
      "1/1 [==============================] - 1s 1s/step                  (7 + 1) / 16]\n",
      "1/1 [==============================] - 1s 1s/step                  (8 + 1) / 16]\n",
      "1/1 [==============================] - 1s 1s/step                  (9 + 1) / 16]\n",
      "1/1 [==============================] - 2s 2s/step                 (10 + 1) / 16]\n",
      "1/1 [==============================] - 1s 1s/step                 (11 + 1) / 16]\n",
      "1/1 [==============================] - 1s 1s/step===>             (12 + 1) / 16]\n",
      "1/1 [==============================] - 1s 1s/step======>          (13 + 1) / 16]\n",
      "1/1 [==============================] - 1s 1s/step==========>      (14 + 1) / 16]\n",
      "1/1 [==============================] - 1s 1s/step=============>   (15 + 1) / 16]\n"
     ]
    },
    {
     "name": "stdout",
     "output_type": "stream",
     "text": [
      "22/12/13 18:35:46 WARN DAGScheduler: Broadcasting large task binary with size 1624.5 KiB\n",
      "22/12/13 18:35:46 WARN DAGScheduler: Broadcasting large task binary with size 1623.5 KiB\n"
     ]
    },
    {
     "name": "stderr",
     "output_type": "stream",
     "text": [
      "1/1 [==============================] - 2s 2s/step                  (0 + 1) / 16]\n",
      "1/1 [==============================] - 1s 1s/step                  (1 + 1) / 16]\n",
      "1/1 [==============================] - 1s 1s/step                  (2 + 1) / 16]\n",
      "1/1 [==============================] - 1s 1s/step                  (3 + 1) / 16]\n",
      "1/1 [==============================] - 1s 1s/step                  (4 + 1) / 16]\n",
      "1/1 [==============================] - 1s 1s/step                  (5 + 1) / 16]\n",
      "1/1 [==============================] - 1s 1s/step                  (6 + 1) / 16]\n",
      "1/1 [==============================] - 1s 1s/step                  (7 + 1) / 16]\n",
      "1/1 [==============================] - 1s 1s/step                  (8 + 1) / 16]\n",
      "1/1 [==============================] - 1s 1s/step                  (9 + 1) / 16]\n",
      "1/1 [==============================] - 1s 1s/step                 (10 + 1) / 16]\n",
      "1/1 [==============================] - 1s 1s/step                 (11 + 1) / 16]\n",
      "1/1 [==============================] - 1s 1s/step===>             (12 + 1) / 16]\n",
      "1/1 [==============================] - 1s 1s/step======>          (13 + 1) / 16]\n",
      "1/1 [==============================] - 1s 1s/step==========>      (14 + 1) / 16]\n",
      "1/1 [==============================] - 1s 1s/step=============>   (15 + 1) / 16]\n"
     ]
    },
    {
     "name": "stdout",
     "output_type": "stream",
     "text": [
      "22/12/13 18:36:45 WARN DAGScheduler: Broadcasting large task binary with size 1624.5 KiB\n",
      "22/12/13 18:36:45 WARN DAGScheduler: Broadcasting large task binary with size 1623.5 KiB\n"
     ]
    },
    {
     "name": "stderr",
     "output_type": "stream",
     "text": [
      "1/1 [==============================] - 1s 1s/step                  (0 + 1) / 16]\n",
      "1/1 [==============================] - 1s 1s/step                  (1 + 1) / 16]\n",
      "1/1 [==============================] - 1s 1s/step                  (2 + 1) / 16]\n",
      "1/1 [==============================] - 1s 1s/step                  (3 + 1) / 16]\n",
      "1/1 [==============================] - 1s 1s/step                  (4 + 1) / 16]\n",
      "1/1 [==============================] - 1s 1s/step                  (5 + 1) / 16]\n",
      "1/1 [==============================] - 1s 1s/step                  (6 + 1) / 16]\n",
      "1/1 [==============================] - 1s 1s/step                  (7 + 1) / 16]\n",
      "1/1 [==============================] - 1s 1s/step                  (8 + 1) / 16]\n",
      "1/1 [==============================] - 1s 1s/step                  (9 + 1) / 16]\n",
      "1/1 [==============================] - 1s 1s/step                 (10 + 1) / 16]\n",
      "1/1 [==============================] - 1s 1s/step                 (11 + 1) / 16]\n",
      "1/1 [==============================] - 1s 1s/step===>             (12 + 1) / 16]\n",
      "1/1 [==============================] - 1s 1s/step======>          (13 + 1) / 16]\n",
      "1/1 [==============================] - 1s 1s/step==========>      (14 + 1) / 16]\n",
      "1/1 [==============================] - 1s 1s/step=============>   (15 + 1) / 16]\n"
     ]
    },
    {
     "name": "stdout",
     "output_type": "stream",
     "text": [
      "22/12/13 18:37:44 WARN DAGScheduler: Broadcasting large task binary with size 1624.5 KiB\n",
      "22/12/13 18:37:44 WARN DAGScheduler: Broadcasting large task binary with size 1623.5 KiB\n"
     ]
    },
    {
     "name": "stderr",
     "output_type": "stream",
     "text": [
      "1/1 [==============================] - 2s 2s/step                  (0 + 1) / 16]\n",
      "1/1 [==============================] - 1s 1s/step                  (1 + 1) / 16]\n",
      "1/1 [==============================] - 1s 1s/step                  (2 + 1) / 16]\n",
      "1/1 [==============================] - 1s 1s/step                  (3 + 1) / 16]\n",
      "1/1 [==============================] - 1s 1s/step                  (4 + 1) / 16]\n",
      "1/1 [==============================] - 1s 1s/step                  (5 + 1) / 16]\n",
      "1/1 [==============================] - 1s 1s/step                  (6 + 1) / 16]\n",
      "1/1 [==============================] - 1s 1s/step                  (7 + 1) / 16]\n",
      "1/1 [==============================] - 1s 1s/step                  (8 + 1) / 16]\n",
      "1/1 [==============================] - 1s 1s/step                  (9 + 1) / 16]\n",
      "1/1 [==============================] - 1s 1s/step                 (10 + 1) / 16]\n",
      "1/1 [==============================] - 1s 1s/step                 (11 + 1) / 16]\n",
      "1/1 [==============================] - 1s 1s/step===>             (12 + 1) / 16]\n",
      "1/1 [==============================] - 1s 1s/step======>          (13 + 1) / 16]\n",
      "1/1 [==============================] - 1s 1s/step==========>      (14 + 1) / 16]\n",
      "1/1 [==============================] - 1s 1s/step=============>   (15 + 1) / 16]\n"
     ]
    },
    {
     "name": "stdout",
     "output_type": "stream",
     "text": [
      "22/12/13 18:38:45 WARN DAGScheduler: Broadcasting large task binary with size 1624.5 KiB\n",
      "22/12/13 18:38:45 WARN DAGScheduler: Broadcasting large task binary with size 1623.5 KiB\n"
     ]
    },
    {
     "name": "stderr",
     "output_type": "stream",
     "text": [
      "1/1 [==============================] - 1s 1s/step                  (0 + 1) / 16]\n",
      "1/1 [==============================] - 1s 1s/step                  (1 + 1) / 16]\n",
      "1/1 [==============================] - 1s 1s/step                  (2 + 1) / 16]\n",
      "1/1 [==============================] - 1s 1s/step                  (3 + 1) / 16]\n",
      "1/1 [==============================] - 1s 1s/step                  (4 + 1) / 16]\n",
      "1/1 [==============================] - 1s 1s/step                  (5 + 1) / 16]\n",
      "1/1 [==============================] - 1s 1s/step                  (6 + 1) / 16]\n",
      "1/1 [==============================] - 1s 1s/step                  (7 + 1) / 16]\n",
      "1/1 [==============================] - 1s 1s/step                  (8 + 1) / 16]\n",
      "1/1 [==============================] - 1s 1s/step                  (9 + 1) / 16]\n",
      "1/1 [==============================] - 1s 1s/step                 (10 + 1) / 16]\n",
      "1/1 [==============================] - 1s 1s/step                 (11 + 1) / 16]\n",
      "1/1 [==============================] - 1s 1s/step===>             (12 + 1) / 16]\n",
      "1/1 [==============================] - 1s 1s/step======>          (13 + 1) / 16]\n",
      "1/1 [==============================] - 1s 1s/step==========>      (14 + 1) / 16]\n",
      "1/1 [==============================] - 1s 1s/step=============>   (15 + 1) / 16]\n"
     ]
    },
    {
     "name": "stdout",
     "output_type": "stream",
     "text": [
      "22/12/13 18:39:44 WARN DAGScheduler: Broadcasting large task binary with size 1624.5 KiB\n",
      "22/12/13 18:39:44 WARN DAGScheduler: Broadcasting large task binary with size 1623.5 KiB\n"
     ]
    },
    {
     "name": "stderr",
     "output_type": "stream",
     "text": [
      "1/1 [==============================] - 2s 2s/step                  (0 + 1) / 16]\n",
      "1/1 [==============================] - 1s 1s/step                  (1 + 1) / 16]\n",
      "1/1 [==============================] - 1s 1s/step                  (2 + 1) / 16]\n",
      "1/1 [==============================] - 1s 1s/step                  (3 + 1) / 16]\n",
      "1/1 [==============================] - 1s 1s/step                  (4 + 1) / 16]\n",
      "1/1 [==============================] - 1s 1s/step                  (5 + 1) / 16]\n",
      "1/1 [==============================] - 1s 1s/step                  (6 + 1) / 16]\n",
      "1/1 [==============================] - 1s 1s/step                  (7 + 1) / 16]\n",
      "1/1 [==============================] - 1s 1s/step                  (8 + 1) / 16]\n",
      "1/1 [==============================] - 1s 1s/step                  (9 + 1) / 16]\n",
      "1/1 [==============================] - 1s 1s/step                 (10 + 1) / 16]\n",
      "1/1 [==============================] - 1s 1s/step                 (11 + 1) / 16]\n",
      "1/1 [==============================] - 1s 1s/step===>             (12 + 1) / 16]\n",
      "1/1 [==============================] - 1s 1s/step======>          (13 + 1) / 16]\n",
      "1/1 [==============================] - 1s 1s/step==========>      (14 + 1) / 16]\n",
      "1/1 [==============================] - 1s 1s/step=============>   (15 + 1) / 16]\n"
     ]
    },
    {
     "name": "stdout",
     "output_type": "stream",
     "text": [
      "22/12/13 18:40:43 WARN DAGScheduler: Broadcasting large task binary with size 1624.5 KiB\n",
      "22/12/13 18:40:44 WARN DAGScheduler: Broadcasting large task binary with size 1623.5 KiB\n"
     ]
    },
    {
     "name": "stderr",
     "output_type": "stream",
     "text": [
      "1/1 [==============================] - 2s 2s/step                  (0 + 1) / 16]\n",
      "1/1 [==============================] - 1s 1s/step                  (1 + 1) / 16]\n",
      "1/1 [==============================] - 1s 1s/step                  (2 + 1) / 16]\n",
      "1/1 [==============================] - 1s 1s/step                  (3 + 1) / 16]\n",
      "1/1 [==============================] - 1s 1s/step                  (4 + 1) / 16]\n",
      "1/1 [==============================] - 1s 1s/step                  (5 + 1) / 16]\n",
      "1/1 [==============================] - 1s 1s/step                  (6 + 1) / 16]\n",
      "1/1 [==============================] - 1s 1s/step                  (7 + 1) / 16]\n",
      "1/1 [==============================] - 1s 1s/step                  (8 + 1) / 16]\n",
      "1/1 [==============================] - 1s 1s/step                  (9 + 1) / 16]\n",
      "1/1 [==============================] - 1s 1s/step                 (10 + 1) / 16]\n",
      "1/1 [==============================] - 1s 1s/step                 (11 + 1) / 16]\n",
      "1/1 [==============================] - 1s 1s/step===>             (12 + 1) / 16]\n",
      "1/1 [==============================] - 1s 1s/step======>          (13 + 1) / 16]\n",
      "1/1 [==============================] - 1s 1s/step==========>      (14 + 1) / 16]\n",
      "1/1 [==============================] - 1s 1s/step=============>   (15 + 1) / 16]\n"
     ]
    },
    {
     "name": "stdout",
     "output_type": "stream",
     "text": [
      "22/12/13 18:41:43 WARN DAGScheduler: Broadcasting large task binary with size 1624.5 KiB\n",
      "22/12/13 18:41:43 WARN DAGScheduler: Broadcasting large task binary with size 1623.5 KiB\n"
     ]
    },
    {
     "name": "stderr",
     "output_type": "stream",
     "text": [
      "1/1 [==============================] - 2s 2s/step                  (0 + 1) / 16]\n",
      "1/1 [==============================] - 1s 1s/step                  (1 + 1) / 16]\n",
      "1/1 [==============================] - 1s 1s/step                  (2 + 1) / 16]\n",
      "1/1 [==============================] - 1s 1s/step                  (3 + 1) / 16]\n",
      "1/1 [==============================] - 1s 1s/step                  (4 + 1) / 16]\n",
      "1/1 [==============================] - 1s 1s/step                  (5 + 1) / 16]\n",
      "1/1 [==============================] - 1s 1s/step                  (6 + 1) / 16]\n",
      "1/1 [==============================] - 1s 1s/step                  (7 + 1) / 16]\n",
      "1/1 [==============================] - 1s 1s/step                  (8 + 1) / 16]\n",
      "1/1 [==============================] - 1s 1s/step                  (9 + 1) / 16]\n",
      "1/1 [==============================] - 1s 1s/step                 (10 + 1) / 16]\n",
      "1/1 [==============================] - 1s 1s/step                 (11 + 1) / 16]\n",
      "1/1 [==============================] - 1s 1s/step===>             (12 + 1) / 16]\n",
      "1/1 [==============================] - 1s 1s/step======>          (13 + 1) / 16]\n",
      "1/1 [==============================] - 1s 1s/step==========>      (14 + 1) / 16]\n",
      "1/1 [==============================] - 1s 1s/step=============>   (15 + 1) / 16]\n"
     ]
    },
    {
     "name": "stdout",
     "output_type": "stream",
     "text": [
      "22/12/13 18:42:43 WARN DAGScheduler: Broadcasting large task binary with size 1624.5 KiB\n",
      "22/12/13 18:42:43 WARN DAGScheduler: Broadcasting large task binary with size 1623.5 KiB\n"
     ]
    },
    {
     "name": "stderr",
     "output_type": "stream",
     "text": [
      "1/1 [==============================] - 2s 2s/step                  (0 + 1) / 16]\n",
      "1/1 [==============================] - 1s 1s/step                  (1 + 1) / 16]\n",
      "1/1 [==============================] - 1s 1s/step                  (2 + 1) / 16]\n",
      "1/1 [==============================] - 1s 1s/step                  (3 + 1) / 16]\n",
      "1/1 [==============================] - 1s 1s/step                  (4 + 1) / 16]\n",
      "1/1 [==============================] - 1s 1s/step                  (5 + 1) / 16]\n",
      "1/1 [==============================] - 1s 1s/step                  (6 + 1) / 16]\n",
      "1/1 [==============================] - 1s 1s/step                  (7 + 1) / 16]\n",
      "1/1 [==============================] - 1s 1s/step                  (8 + 1) / 16]\n",
      "1/1 [==============================] - 1s 1s/step                  (9 + 1) / 16]\n",
      "1/1 [==============================] - 1s 1s/step                 (10 + 1) / 16]\n",
      "1/1 [==============================] - 1s 1s/step                 (11 + 1) / 16]\n",
      "1/1 [==============================] - 1s 1s/step===>             (12 + 1) / 16]\n",
      "1/1 [==============================] - 1s 1s/step======>          (13 + 1) / 16]\n",
      "1/1 [==============================] - 1s 1s/step==========>      (14 + 1) / 16]\n",
      "1/1 [==============================] - 1s 1s/step=============>   (15 + 1) / 16]\n"
     ]
    },
    {
     "name": "stdout",
     "output_type": "stream",
     "text": [
      "22/12/13 18:43:42 WARN DAGScheduler: Broadcasting large task binary with size 1624.5 KiB\n",
      "22/12/13 18:43:42 WARN DAGScheduler: Broadcasting large task binary with size 1623.5 KiB\n"
     ]
    },
    {
     "name": "stderr",
     "output_type": "stream",
     "text": [
      "1/1 [==============================] - 2s 2s/step                  (0 + 1) / 16]\n",
      "1/1 [==============================] - 1s 1s/step                  (1 + 1) / 16]\n",
      "1/1 [==============================] - 1s 1s/step                  (2 + 1) / 16]\n",
      "1/1 [==============================] - 1s 1s/step                  (3 + 1) / 16]\n",
      "1/1 [==============================] - 1s 1s/step                  (4 + 1) / 16]\n",
      "1/1 [==============================] - 1s 1s/step                  (5 + 1) / 16]\n",
      "1/1 [==============================] - 1s 1s/step                  (6 + 1) / 16]\n",
      "1/1 [==============================] - 1s 1s/step                  (7 + 1) / 16]\n",
      "1/1 [==============================] - 1s 1s/step                  (8 + 1) / 16]\n",
      "1/1 [==============================] - 1s 1s/step                  (9 + 1) / 16]\n",
      "1/1 [==============================] - 1s 1s/step                 (10 + 1) / 16]\n",
      "1/1 [==============================] - 1s 1s/step                 (11 + 1) / 16]\n",
      "1/1 [==============================] - 1s 1s/step===>             (12 + 1) / 16]\n",
      "1/1 [==============================] - 1s 1s/step======>          (13 + 1) / 16]\n",
      "1/1 [==============================] - 1s 1s/step==========>      (14 + 1) / 16]\n",
      "1/1 [==============================] - 1s 1s/step=============>   (15 + 1) / 16]\n"
     ]
    },
    {
     "name": "stdout",
     "output_type": "stream",
     "text": [
      "22/12/13 18:44:41 WARN DAGScheduler: Broadcasting large task binary with size 1624.5 KiB\n",
      "22/12/13 18:44:41 WARN DAGScheduler: Broadcasting large task binary with size 1623.5 KiB\n"
     ]
    },
    {
     "name": "stderr",
     "output_type": "stream",
     "text": [
      "1/1 [==============================] - 2s 2s/step                  (0 + 1) / 16]\n",
      "1/1 [==============================] - 1s 1s/step                  (1 + 1) / 16]\n",
      "1/1 [==============================] - 1s 1s/step                  (2 + 1) / 16]\n",
      "1/1 [==============================] - 1s 1s/step                  (3 + 1) / 16]\n",
      "1/1 [==============================] - 1s 1s/step                  (4 + 1) / 16]\n",
      "1/1 [==============================] - 1s 1s/step                  (5 + 1) / 16]\n",
      "1/1 [==============================] - 1s 1s/step                  (6 + 1) / 16]\n",
      "1/1 [==============================] - 1s 1s/step                  (7 + 1) / 16]\n",
      "1/1 [==============================] - 1s 1s/step                  (8 + 1) / 16]\n",
      "1/1 [==============================] - 1s 1s/step                  (9 + 1) / 16]\n",
      "1/1 [==============================] - 1s 1s/step                 (10 + 1) / 16]\n",
      "1/1 [==============================] - 1s 1s/step                 (11 + 1) / 16]\n",
      "1/1 [==============================] - 1s 1s/step===>             (12 + 1) / 16]\n",
      "1/1 [==============================] - 1s 1s/step======>          (13 + 1) / 16]\n",
      "1/1 [==============================] - 1s 1s/step==========>      (14 + 1) / 16]\n",
      "1/1 [==============================] - 1s 1s/step=============>   (15 + 1) / 16]\n"
     ]
    },
    {
     "name": "stdout",
     "output_type": "stream",
     "text": [
      "22/12/13 18:45:40 WARN DAGScheduler: Broadcasting large task binary with size 1624.5 KiB\n",
      "22/12/13 18:45:41 WARN DAGScheduler: Broadcasting large task binary with size 1623.5 KiB\n"
     ]
    },
    {
     "name": "stderr",
     "output_type": "stream",
     "text": [
      "1/1 [==============================] - 2s 2s/step                  (0 + 1) / 16]\n",
      "1/1 [==============================] - 1s 1s/step                  (1 + 1) / 16]\n",
      "1/1 [==============================] - 1s 1s/step                  (2 + 1) / 16]\n",
      "1/1 [==============================] - 1s 1s/step                  (3 + 1) / 16]\n",
      "1/1 [==============================] - 1s 1s/step                  (4 + 1) / 16]\n",
      "1/1 [==============================] - 1s 1s/step                  (5 + 1) / 16]\n",
      "1/1 [==============================] - 1s 1s/step                  (6 + 1) / 16]\n",
      "1/1 [==============================] - 1s 1s/step                  (7 + 1) / 16]\n",
      "1/1 [==============================] - 1s 1s/step                  (8 + 1) / 16]\n",
      "1/1 [==============================] - 1s 1s/step                  (9 + 1) / 16]\n",
      "1/1 [==============================] - 1s 1s/step                 (10 + 1) / 16]\n",
      "1/1 [==============================] - 1s 1s/step                 (11 + 1) / 16]\n",
      "1/1 [==============================] - 1s 1s/step===>             (12 + 1) / 16]\n",
      "1/1 [==============================] - 1s 1s/step======>          (13 + 1) / 16]\n",
      "1/1 [==============================] - 1s 1s/step==========>      (14 + 1) / 16]\n",
      "1/1 [==============================] - 1s 1s/step=============>   (15 + 1) / 16]\n"
     ]
    },
    {
     "name": "stdout",
     "output_type": "stream",
     "text": [
      "22/12/13 18:46:40 WARN DAGScheduler: Broadcasting large task binary with size 1624.5 KiB\n",
      "22/12/13 18:46:40 WARN DAGScheduler: Broadcasting large task binary with size 1623.5 KiB\n"
     ]
    },
    {
     "name": "stderr",
     "output_type": "stream",
     "text": [
      "1/1 [==============================] - 2s 2s/step                  (0 + 1) / 16]\n",
      "1/1 [==============================] - 1s 1s/step                  (1 + 1) / 16]\n",
      "1/1 [==============================] - 1s 1s/step                  (2 + 1) / 16]\n",
      "1/1 [==============================] - 1s 1s/step                  (3 + 1) / 16]\n",
      "1/1 [==============================] - 1s 1s/step                  (4 + 1) / 16]\n",
      "1/1 [==============================] - 1s 1s/step                  (5 + 1) / 16]\n",
      "1/1 [==============================] - 1s 1s/step                  (6 + 1) / 16]\n",
      "1/1 [==============================] - 1s 1s/step                  (7 + 1) / 16]\n",
      "1/1 [==============================] - 1s 1s/step                  (8 + 1) / 16]\n",
      "1/1 [==============================] - 1s 1s/step                  (9 + 1) / 16]\n",
      "1/1 [==============================] - 1s 1s/step                 (10 + 1) / 16]\n",
      "1/1 [==============================] - 1s 1s/step                 (11 + 1) / 16]\n",
      "1/1 [==============================] - 1s 1s/step===>             (12 + 1) / 16]\n",
      "1/1 [==============================] - 1s 1s/step======>          (13 + 1) / 16]\n",
      "1/1 [==============================] - 1s 1s/step==========>      (14 + 1) / 16]\n",
      "1/1 [==============================] - 1s 1s/step=============>   (15 + 1) / 16]\n"
     ]
    },
    {
     "name": "stdout",
     "output_type": "stream",
     "text": [
      "22/12/13 18:47:40 WARN DAGScheduler: Broadcasting large task binary with size 1624.5 KiB\n",
      "22/12/13 18:47:40 WARN DAGScheduler: Broadcasting large task binary with size 1623.5 KiB\n"
     ]
    },
    {
     "name": "stderr",
     "output_type": "stream",
     "text": [
      "1/1 [==============================] - 2s 2s/step                  (0 + 1) / 16]\n",
      "1/1 [==============================] - 1s 1s/step                  (1 + 1) / 16]\n",
      "1/1 [==============================] - 1s 1s/step                  (2 + 1) / 16]\n",
      "1/1 [==============================] - 1s 1s/step                  (3 + 1) / 16]\n",
      "1/1 [==============================] - 1s 1s/step                  (4 + 1) / 16]\n",
      "1/1 [==============================] - 1s 1s/step                  (5 + 1) / 16]\n",
      "1/1 [==============================] - 1s 1s/step                  (6 + 1) / 16]\n",
      "1/1 [==============================] - 1s 1s/step                  (7 + 1) / 16]\n",
      "1/1 [==============================] - 1s 1s/step                  (8 + 1) / 16]\n",
      "1/1 [==============================] - 1s 1s/step                  (9 + 1) / 16]\n",
      "1/1 [==============================] - 1s 1s/step                 (10 + 1) / 16]\n",
      "1/1 [==============================] - 1s 1s/step                 (11 + 1) / 16]\n",
      "1/1 [==============================] - 1s 1s/step===>             (12 + 1) / 16]\n",
      "1/1 [==============================] - 1s 1s/step======>          (13 + 1) / 16]\n",
      "1/1 [==============================] - 1s 1s/step==========>      (14 + 1) / 16]\n",
      "1/1 [==============================] - 1s 1s/step=============>   (15 + 1) / 16]\n"
     ]
    },
    {
     "name": "stdout",
     "output_type": "stream",
     "text": [
      "22/12/13 18:48:39 WARN DAGScheduler: Broadcasting large task binary with size 1624.5 KiB\n",
      "22/12/13 18:48:39 WARN DAGScheduler: Broadcasting large task binary with size 1623.5 KiB\n"
     ]
    },
    {
     "name": "stderr",
     "output_type": "stream",
     "text": [
      "1/1 [==============================] - 2s 2s/step                  (0 + 1) / 16]\n",
      "1/1 [==============================] - 1s 1s/step                  (1 + 1) / 16]\n",
      "1/1 [==============================] - 1s 1s/step                  (2 + 1) / 16]\n",
      "1/1 [==============================] - 1s 1s/step                  (3 + 1) / 16]\n",
      "1/1 [==============================] - 1s 1s/step                  (4 + 1) / 16]\n",
      "1/1 [==============================] - 1s 1s/step                  (5 + 1) / 16]\n",
      "1/1 [==============================] - 1s 1s/step                  (6 + 1) / 16]\n",
      "1/1 [==============================] - 1s 1s/step                  (7 + 1) / 16]\n",
      "1/1 [==============================] - 1s 1s/step                  (8 + 1) / 16]\n",
      "1/1 [==============================] - 1s 1s/step                  (9 + 1) / 16]\n",
      "1/1 [==============================] - 1s 1s/step                 (10 + 1) / 16]\n",
      "1/1 [==============================] - 1s 1s/step                 (11 + 1) / 16]\n",
      "1/1 [==============================] - 1s 1s/step===>             (12 + 1) / 16]\n",
      "1/1 [==============================] - 1s 1s/step======>          (13 + 1) / 16]\n",
      "1/1 [==============================] - 1s 1s/step==========>      (14 + 1) / 16]\n",
      "1/1 [==============================] - 1s 1s/step=============>   (15 + 1) / 16]\n"
     ]
    },
    {
     "name": "stdout",
     "output_type": "stream",
     "text": [
      "22/12/13 18:49:38 WARN DAGScheduler: Broadcasting large task binary with size 1624.5 KiB\n",
      "22/12/13 18:49:38 WARN DAGScheduler: Broadcasting large task binary with size 1623.5 KiB\n"
     ]
    },
    {
     "name": "stderr",
     "output_type": "stream",
     "text": [
      "1/1 [==============================] - 2s 2s/step                  (0 + 1) / 16]\n",
      "1/1 [==============================] - 1s 1s/step                  (1 + 1) / 16]\n",
      "1/1 [==============================] - 1s 1s/step                  (2 + 1) / 16]\n",
      "1/1 [==============================] - 1s 1s/step                  (3 + 1) / 16]\n",
      "1/1 [==============================] - 1s 1s/step                  (4 + 1) / 16]\n",
      "1/1 [==============================] - 1s 1s/step                  (5 + 1) / 16]\n",
      "1/1 [==============================] - 1s 1s/step                  (6 + 1) / 16]\n",
      "1/1 [==============================] - 1s 1s/step                  (7 + 1) / 16]\n",
      "1/1 [==============================] - 1s 1s/step                  (8 + 1) / 16]\n",
      "1/1 [==============================] - 1s 1s/step                  (9 + 1) / 16]\n",
      "1/1 [==============================] - 1s 1s/step                 (10 + 1) / 16]\n",
      "1/1 [==============================] - 1s 1s/step                 (11 + 1) / 16]\n",
      "1/1 [==============================] - 1s 1s/step===>             (12 + 1) / 16]\n",
      "1/1 [==============================] - 1s 1s/step======>          (13 + 1) / 16]\n",
      "1/1 [==============================] - 1s 1s/step==========>      (14 + 1) / 16]\n",
      "1/1 [==============================] - 1s 1s/step=============>   (15 + 1) / 16]\n"
     ]
    },
    {
     "name": "stdout",
     "output_type": "stream",
     "text": [
      "22/12/13 18:50:38 WARN DAGScheduler: Broadcasting large task binary with size 1624.5 KiB\n",
      "22/12/13 18:50:38 WARN DAGScheduler: Broadcasting large task binary with size 1623.5 KiB\n"
     ]
    },
    {
     "name": "stderr",
     "output_type": "stream",
     "text": [
      "1/1 [==============================] - 2s 2s/step                  (0 + 1) / 16]\n",
      "1/1 [==============================] - 1s 1s/step                  (1 + 1) / 16]\n",
      "1/1 [==============================] - 1s 1s/step                  (2 + 1) / 16]\n",
      "1/1 [==============================] - 1s 1s/step                  (3 + 1) / 16]\n",
      "1/1 [==============================] - 1s 1s/step                  (4 + 1) / 16]\n",
      "1/1 [==============================] - 1s 1s/step                  (5 + 1) / 16]\n",
      "1/1 [==============================] - 1s 1s/step                  (6 + 1) / 16]\n",
      "1/1 [==============================] - 1s 1s/step                  (7 + 1) / 16]\n",
      "1/1 [==============================] - 1s 1s/step                  (8 + 1) / 16]\n",
      "1/1 [==============================] - 1s 1s/step                  (9 + 1) / 16]\n",
      "1/1 [==============================] - 1s 1s/step                 (10 + 1) / 16]\n",
      "1/1 [==============================] - 1s 1s/step                 (11 + 1) / 16]\n",
      "1/1 [==============================] - 1s 1s/step===>             (12 + 1) / 16]\n",
      "1/1 [==============================] - 1s 1s/step======>          (13 + 1) / 16]\n",
      "1/1 [==============================] - 1s 1s/step==========>      (14 + 1) / 16]\n",
      "1/1 [==============================] - 1s 1s/step=============>   (15 + 1) / 16]\n"
     ]
    },
    {
     "name": "stdout",
     "output_type": "stream",
     "text": [
      "22/12/13 18:51:37 WARN DAGScheduler: Broadcasting large task binary with size 1624.5 KiB\n",
      "22/12/13 18:51:37 WARN DAGScheduler: Broadcasting large task binary with size 1623.5 KiB\n"
     ]
    },
    {
     "name": "stderr",
     "output_type": "stream",
     "text": [
      "1/1 [==============================] - 2s 2s/step                  (0 + 1) / 16]\n",
      "1/1 [==============================] - 1s 1s/step                  (1 + 1) / 16]\n",
      "1/1 [==============================] - 1s 1s/step                  (2 + 1) / 16]\n",
      "1/1 [==============================] - 1s 1s/step                  (3 + 1) / 16]\n",
      "1/1 [==============================] - 1s 1s/step                  (4 + 1) / 16]\n",
      "1/1 [==============================] - 1s 1s/step                  (5 + 1) / 16]\n",
      "1/1 [==============================] - 1s 1s/step                  (6 + 1) / 16]\n",
      "1/1 [==============================] - 1s 1s/step                  (7 + 1) / 16]\n",
      "1/1 [==============================] - 1s 1s/step                  (8 + 1) / 16]\n",
      "1/1 [==============================] - 1s 1s/step                  (9 + 1) / 16]\n",
      "1/1 [==============================] - 1s 1s/step                 (10 + 1) / 16]\n",
      "1/1 [==============================] - 1s 1s/step                 (11 + 1) / 16]\n",
      "1/1 [==============================] - 1s 1s/step===>             (12 + 1) / 16]\n",
      "1/1 [==============================] - 1s 1s/step======>          (13 + 1) / 16]\n",
      "1/1 [==============================] - 1s 1s/step==========>      (14 + 1) / 16]\n",
      "1/1 [==============================] - 1s 1s/step=============>   (15 + 1) / 16]\n"
     ]
    },
    {
     "name": "stdout",
     "output_type": "stream",
     "text": [
      "22/12/13 18:52:37 WARN DAGScheduler: Broadcasting large task binary with size 1624.5 KiB\n",
      "22/12/13 18:52:37 WARN DAGScheduler: Broadcasting large task binary with size 1623.5 KiB\n"
     ]
    },
    {
     "name": "stderr",
     "output_type": "stream",
     "text": [
      "1/1 [==============================] - 2s 2s/step                  (0 + 1) / 16]\n",
      "1/1 [==============================] - 1s 1s/step                  (1 + 1) / 16]\n",
      "1/1 [==============================] - 1s 1s/step                  (2 + 1) / 16]\n",
      "1/1 [==============================] - 1s 1s/step                  (3 + 1) / 16]\n",
      "1/1 [==============================] - 1s 1s/step                  (4 + 1) / 16]\n",
      "1/1 [==============================] - 1s 1s/step                  (5 + 1) / 16]\n",
      "1/1 [==============================] - 1s 1s/step                  (6 + 1) / 16]\n",
      "1/1 [==============================] - 1s 1s/step                  (7 + 1) / 16]\n",
      "1/1 [==============================] - 1s 1s/step                  (8 + 1) / 16]\n",
      "1/1 [==============================] - 1s 1s/step                  (9 + 1) / 16]\n",
      "1/1 [==============================] - 1s 1s/step                 (10 + 1) / 16]\n",
      "1/1 [==============================] - 1s 1s/step                 (11 + 1) / 16]\n",
      "1/1 [==============================] - 1s 1s/step===>             (12 + 1) / 16]\n",
      "1/1 [==============================] - 1s 1s/step======>          (13 + 1) / 16]\n",
      "1/1 [==============================] - 1s 1s/step==========>      (14 + 1) / 16]\n",
      "1/1 [==============================] - 1s 1s/step=============>   (15 + 1) / 16]\n"
     ]
    },
    {
     "name": "stdout",
     "output_type": "stream",
     "text": [
      "22/12/13 18:53:36 WARN DAGScheduler: Broadcasting large task binary with size 1624.5 KiB\n",
      "22/12/13 18:53:36 WARN DAGScheduler: Broadcasting large task binary with size 1623.5 KiB\n"
     ]
    },
    {
     "name": "stderr",
     "output_type": "stream",
     "text": [
      "1/1 [==============================] - 2s 2s/step                  (0 + 1) / 16]\n",
      "1/1 [==============================] - 1s 1s/step                  (1 + 1) / 16]\n",
      "1/1 [==============================] - 1s 1s/step                  (2 + 1) / 16]\n",
      "1/1 [==============================] - 1s 1s/step                  (3 + 1) / 16]\n",
      "1/1 [==============================] - 1s 1s/step                  (4 + 1) / 16]\n",
      "1/1 [==============================] - 1s 1s/step                  (5 + 1) / 16]\n",
      "1/1 [==============================] - 1s 1s/step                  (6 + 1) / 16]\n",
      "1/1 [==============================] - 1s 1s/step                  (7 + 1) / 16]\n",
      "1/1 [==============================] - 1s 1s/step                  (8 + 1) / 16]\n",
      "1/1 [==============================] - 1s 1s/step                  (9 + 1) / 16]\n",
      "1/1 [==============================] - 1s 1s/step                 (10 + 1) / 16]\n",
      "1/1 [==============================] - 1s 1s/step                 (11 + 1) / 16]\n",
      "1/1 [==============================] - 1s 1s/step===>             (12 + 1) / 16]\n",
      "1/1 [==============================] - 1s 1s/step======>          (13 + 1) / 16]\n",
      "1/1 [==============================] - 1s 1s/step==========>      (14 + 1) / 16]\n",
      "1/1 [==============================] - 1s 1s/step=============>   (15 + 1) / 16]\n"
     ]
    },
    {
     "name": "stdout",
     "output_type": "stream",
     "text": [
      "22/12/13 18:54:35 WARN DAGScheduler: Broadcasting large task binary with size 1624.5 KiB\n",
      "22/12/13 18:54:36 WARN DAGScheduler: Broadcasting large task binary with size 1623.5 KiB\n"
     ]
    },
    {
     "name": "stderr",
     "output_type": "stream",
     "text": [
      "1/1 [==============================] - 2s 2s/step                  (0 + 1) / 16]\n",
      "1/1 [==============================] - 1s 1s/step                  (1 + 1) / 16]\n",
      "1/1 [==============================] - 1s 1s/step                  (2 + 1) / 16]\n",
      "1/1 [==============================] - 1s 1s/step                  (3 + 1) / 16]\n",
      "1/1 [==============================] - 1s 1s/step                  (4 + 1) / 16]\n",
      "1/1 [==============================] - 1s 1s/step                  (5 + 1) / 16]\n",
      "1/1 [==============================] - 1s 1s/step                  (6 + 1) / 16]\n",
      "1/1 [==============================] - 1s 1s/step                  (7 + 1) / 16]\n",
      "1/1 [==============================] - 1s 1s/step                  (8 + 1) / 16]\n",
      "1/1 [==============================] - 2s 2s/step                  (9 + 1) / 16]\n",
      "1/1 [==============================] - 1s 1s/step                 (10 + 1) / 16]\n",
      "1/1 [==============================] - 1s 1s/step                 (11 + 1) / 16]\n",
      "1/1 [==============================] - 1s 1s/step===>             (12 + 1) / 16]\n",
      "1/1 [==============================] - 1s 1s/step======>          (13 + 1) / 16]\n",
      "1/1 [==============================] - 1s 1s/step==========>      (14 + 1) / 16]\n",
      "1/1 [==============================] - 1s 1s/step=============>   (15 + 1) / 16]\n"
     ]
    },
    {
     "name": "stdout",
     "output_type": "stream",
     "text": [
      "22/12/13 18:55:35 WARN DAGScheduler: Broadcasting large task binary with size 1624.5 KiB\n",
      "22/12/13 18:55:36 WARN DAGScheduler: Broadcasting large task binary with size 1623.5 KiB\n"
     ]
    },
    {
     "name": "stderr",
     "output_type": "stream",
     "text": [
      "1/1 [==============================] - 2s 2s/step                  (0 + 1) / 16]\n",
      "1/1 [==============================] - 1s 1s/step                  (1 + 1) / 16]\n",
      "1/1 [==============================] - 1s 1s/step                  (2 + 1) / 16]\n",
      "1/1 [==============================] - 1s 1s/step                  (3 + 1) / 16]\n",
      "1/1 [==============================] - 1s 1s/step                  (4 + 1) / 16]\n",
      "1/1 [==============================] - 1s 1s/step                  (5 + 1) / 16]\n",
      "1/1 [==============================] - 1s 1s/step                  (6 + 1) / 16]\n",
      "1/1 [==============================] - 1s 1s/step                  (7 + 1) / 16]\n",
      "1/1 [==============================] - 1s 1s/step                  (8 + 1) / 16]\n",
      "1/1 [==============================] - 1s 1s/step                  (9 + 1) / 16]\n",
      "1/1 [==============================] - 1s 1s/step                 (10 + 1) / 16]\n",
      "1/1 [==============================] - 1s 1s/step                 (11 + 1) / 16]\n",
      "1/1 [==============================] - 1s 1s/step===>             (12 + 1) / 16]\n",
      "1/1 [==============================] - 1s 1s/step======>          (13 + 1) / 16]\n",
      "1/1 [==============================] - 1s 1s/step==========>      (14 + 1) / 16]\n",
      "1/1 [==============================] - 1s 1s/step=============>   (15 + 1) / 16]\n"
     ]
    },
    {
     "name": "stdout",
     "output_type": "stream",
     "text": [
      "22/12/13 18:56:36 WARN DAGScheduler: Broadcasting large task binary with size 1624.5 KiB\n",
      "22/12/13 18:56:36 WARN DAGScheduler: Broadcasting large task binary with size 1623.5 KiB\n"
     ]
    },
    {
     "name": "stderr",
     "output_type": "stream",
     "text": [
      "1/1 [==============================] - 2s 2s/step                  (0 + 1) / 16]\n",
      "1/1 [==============================] - 1s 1s/step                  (1 + 1) / 16]\n",
      "1/1 [==============================] - 1s 1s/step                  (2 + 1) / 16]\n",
      "1/1 [==============================] - 1s 1s/step                  (3 + 1) / 16]\n",
      "1/1 [==============================] - 1s 1s/step                  (4 + 1) / 16]\n",
      "1/1 [==============================] - 1s 1s/step                  (5 + 1) / 16]\n",
      "1/1 [==============================] - 1s 1s/step                  (6 + 1) / 16]\n",
      "1/1 [==============================] - 1s 1s/step                  (7 + 1) / 16]\n",
      "1/1 [==============================] - 1s 1s/step                  (8 + 1) / 16]\n",
      "1/1 [==============================] - 1s 1s/step                  (9 + 1) / 16]\n",
      "1/1 [==============================] - 1s 1s/step                 (10 + 1) / 16]\n",
      "1/1 [==============================] - 1s 1s/step                 (11 + 1) / 16]\n",
      "1/1 [==============================] - 1s 1s/step===>             (12 + 1) / 16]\n",
      "1/1 [==============================] - 1s 1s/step======>          (13 + 1) / 16]\n",
      "1/1 [==============================] - 1s 1s/step==========>      (14 + 1) / 16]\n",
      "1/1 [==============================] - 1s 1s/step=============>   (15 + 1) / 16]\n"
     ]
    },
    {
     "name": "stdout",
     "output_type": "stream",
     "text": [
      "22/12/13 18:57:35 WARN DAGScheduler: Broadcasting large task binary with size 1624.5 KiB\n",
      "22/12/13 18:57:35 WARN DAGScheduler: Broadcasting large task binary with size 1623.5 KiB\n"
     ]
    },
    {
     "name": "stderr",
     "output_type": "stream",
     "text": [
      "1/1 [==============================] - 2s 2s/step                  (0 + 1) / 16]\n",
      "1/1 [==============================] - 1s 1s/step                  (1 + 1) / 16]\n",
      "1/1 [==============================] - 1s 1s/step                  (2 + 1) / 16]\n",
      "1/1 [==============================] - 1s 1s/step                  (3 + 1) / 16]\n",
      "1/1 [==============================] - 1s 1s/step                  (4 + 1) / 16]\n",
      "1/1 [==============================] - 1s 1s/step                  (5 + 1) / 16]\n",
      "1/1 [==============================] - 1s 1s/step                  (6 + 1) / 16]\n",
      "1/1 [==============================] - 1s 1s/step                  (7 + 1) / 16]\n",
      "1/1 [==============================] - 1s 1s/step                  (8 + 1) / 16]\n",
      "1/1 [==============================] - 1s 1s/step                  (9 + 1) / 16]\n",
      "1/1 [==============================] - 1s 1s/step                 (10 + 1) / 16]\n",
      "1/1 [==============================] - 1s 1s/step                 (11 + 1) / 16]\n",
      "1/1 [==============================] - 1s 1s/step===>             (12 + 1) / 16]\n",
      "1/1 [==============================] - 1s 1s/step======>          (13 + 1) / 16]\n",
      "1/1 [==============================] - 1s 1s/step==========>      (14 + 1) / 16]\n",
      "1/1 [==============================] - 1s 1s/step=============>   (15 + 1) / 16]\n"
     ]
    },
    {
     "name": "stdout",
     "output_type": "stream",
     "text": [
      "22/12/13 18:58:34 WARN DAGScheduler: Broadcasting large task binary with size 1624.5 KiB\n",
      "22/12/13 18:58:34 WARN DAGScheduler: Broadcasting large task binary with size 1623.5 KiB\n"
     ]
    },
    {
     "name": "stderr",
     "output_type": "stream",
     "text": [
      "1/1 [==============================] - 2s 2s/step                  (0 + 1) / 16]\n",
      "1/1 [==============================] - 1s 1s/step                  (1 + 1) / 16]\n",
      "1/1 [==============================] - 1s 1s/step                  (2 + 1) / 16]\n",
      "1/1 [==============================] - 1s 1s/step                  (3 + 1) / 16]\n",
      "1/1 [==============================] - 1s 1s/step                  (4 + 1) / 16]\n",
      "1/1 [==============================] - 1s 1s/step                  (5 + 1) / 16]\n",
      "1/1 [==============================] - 1s 1s/step                  (6 + 1) / 16]\n",
      "1/1 [==============================] - 1s 1s/step                  (7 + 1) / 16]\n",
      "1/1 [==============================] - 1s 1s/step                  (8 + 1) / 16]\n",
      "1/1 [==============================] - 1s 1s/step                  (9 + 1) / 16]\n",
      "1/1 [==============================] - 1s 1s/step                 (10 + 1) / 16]\n",
      "1/1 [==============================] - 1s 1s/step                 (11 + 1) / 16]\n",
      "1/1 [==============================] - 1s 1s/step===>             (12 + 1) / 16]\n",
      "1/1 [==============================] - 1s 1s/step======>          (13 + 1) / 16]\n",
      "1/1 [==============================] - 1s 1s/step==========>      (14 + 1) / 16]\n",
      "1/1 [==============================] - 1s 1s/step=============>   (15 + 1) / 16]\n"
     ]
    },
    {
     "name": "stdout",
     "output_type": "stream",
     "text": [
      "22/12/13 18:59:35 WARN DAGScheduler: Broadcasting large task binary with size 1624.5 KiB\n",
      "22/12/13 18:59:35 WARN DAGScheduler: Broadcasting large task binary with size 1623.5 KiB\n"
     ]
    },
    {
     "name": "stderr",
     "output_type": "stream",
     "text": [
      "1/1 [==============================] - 2s 2s/step                  (0 + 1) / 16]\n",
      "1/1 [==============================] - 1s 1s/step                  (1 + 1) / 16]\n",
      "1/1 [==============================] - 1s 1s/step                  (2 + 1) / 16]\n",
      "1/1 [==============================] - 1s 1s/step                  (3 + 1) / 16]\n",
      "1/1 [==============================] - 1s 1s/step                  (4 + 1) / 16]\n",
      "1/1 [==============================] - 1s 1s/step                  (5 + 1) / 16]\n",
      "1/1 [==============================] - 1s 1s/step                  (6 + 1) / 16]\n",
      "1/1 [==============================] - 1s 1s/step                  (7 + 1) / 16]\n",
      "1/1 [==============================] - 1s 1s/step                  (8 + 1) / 16]\n",
      "1/1 [==============================] - 1s 1s/step                  (9 + 1) / 16]\n",
      "1/1 [==============================] - 1s 1s/step                 (10 + 1) / 16]\n",
      "1/1 [==============================] - 1s 1s/step                 (11 + 1) / 16]\n",
      "1/1 [==============================] - 1s 1s/step===>             (12 + 1) / 16]\n",
      "1/1 [==============================] - 1s 1s/step======>          (13 + 1) / 16]\n",
      "1/1 [==============================] - 1s 1s/step==========>      (14 + 1) / 16]\n",
      "1/1 [==============================] - 1s 1s/step=============>   (15 + 1) / 16]\n"
     ]
    },
    {
     "name": "stdout",
     "output_type": "stream",
     "text": [
      "22/12/13 19:00:36 WARN DAGScheduler: Broadcasting large task binary with size 1624.5 KiB\n",
      "22/12/13 19:00:36 WARN DAGScheduler: Broadcasting large task binary with size 1623.5 KiB\n"
     ]
    },
    {
     "name": "stderr",
     "output_type": "stream",
     "text": [
      "1/1 [==============================] - 2s 2s/step                  (0 + 1) / 16]\n",
      "1/1 [==============================] - 1s 1s/step                  (1 + 1) / 16]\n",
      "1/1 [==============================] - 1s 1s/step                  (2 + 1) / 16]\n",
      "1/1 [==============================] - 1s 1s/step                  (3 + 1) / 16]\n",
      "1/1 [==============================] - 1s 1s/step                  (4 + 1) / 16]\n",
      "1/1 [==============================] - 1s 1s/step                  (5 + 1) / 16]\n",
      "1/1 [==============================] - 2s 2s/step                  (6 + 1) / 16]\n",
      "1/1 [==============================] - 1s 1s/step                  (7 + 1) / 16]\n",
      "1/1 [==============================] - 1s 1s/step                  (8 + 1) / 16]\n",
      "1/1 [==============================] - 1s 1s/step                  (9 + 1) / 16]\n",
      "1/1 [==============================] - 1s 1s/step                 (10 + 1) / 16]\n",
      "1/1 [==============================] - 1s 1s/step                 (11 + 1) / 16]\n",
      "1/1 [==============================] - 1s 1s/step===>             (12 + 1) / 16]\n",
      "1/1 [==============================] - 1s 1s/step======>          (13 + 1) / 16]\n",
      "1/1 [==============================] - 1s 1s/step==========>      (14 + 1) / 16]\n",
      "1/1 [==============================] - 1s 1s/step=============>   (15 + 1) / 16]\n"
     ]
    },
    {
     "name": "stdout",
     "output_type": "stream",
     "text": [
      "22/12/13 19:01:35 WARN DAGScheduler: Broadcasting large task binary with size 1624.5 KiB\n",
      "22/12/13 19:01:36 WARN DAGScheduler: Broadcasting large task binary with size 1623.5 KiB\n"
     ]
    },
    {
     "name": "stderr",
     "output_type": "stream",
     "text": [
      "1/1 [==============================] - 2s 2s/step                  (0 + 1) / 16]\n",
      "1/1 [==============================] - 1s 1s/step                  (1 + 1) / 16]\n",
      "1/1 [==============================] - 1s 1s/step                  (2 + 1) / 16]\n",
      "1/1 [==============================] - 1s 1s/step                  (3 + 1) / 16]\n",
      "1/1 [==============================] - 1s 1s/step                  (4 + 1) / 16]\n",
      "1/1 [==============================] - 1s 1s/step                  (5 + 1) / 16]\n",
      "1/1 [==============================] - 2s 2s/step                  (6 + 1) / 16]\n",
      "1/1 [==============================] - 2s 2s/step                  (7 + 1) / 16]\n",
      "1/1 [==============================] - 5s 5s/step                  (8 + 1) / 16]\n",
      "1/1 [==============================] - 5s 5s/step                  (9 + 1) / 16]\n",
      "1/1 [==============================] - 5s 5s/step                 (10 + 1) / 16]\n",
      "1/1 [==============================] - 5s 5s/step                 (11 + 1) / 16]\n",
      "1/1 [==============================] - 5s 5s/step===>             (12 + 1) / 16]\n",
      "1/1 [==============================] - 5s 5s/step======>          (13 + 1) / 16]\n",
      "1/1 [==============================] - 5s 5s/step==========>      (14 + 1) / 16]\n",
      "1/1 [==============================] - 5s 5s/step=============>   (15 + 1) / 16]\n"
     ]
    },
    {
     "name": "stdout",
     "output_type": "stream",
     "text": [
      "22/12/13 19:03:46 WARN DAGScheduler: Broadcasting large task binary with size 1624.5 KiB\n"
     ]
    },
    {
     "name": "stderr",
     "output_type": "stream",
     "text": [
      "                                                                                \r"
     ]
    },
    {
     "name": "stdout",
     "output_type": "stream",
     "text": [
      "22/12/13 19:03:47 WARN DAGScheduler: Broadcasting large task binary with size 1623.5 KiB\n"
     ]
    },
    {
     "name": "stderr",
     "output_type": "stream",
     "text": [
      "1/1 [==============================] - 5s 5s/step                  (0 + 1) / 16]\n",
      "1/1 [==============================] - 5s 5s/step                  (1 + 1) / 16]\n",
      "1/1 [==============================] - 5s 5s/step                  (2 + 1) / 16]\n",
      "1/1 [==============================] - 5s 5s/step                  (3 + 1) / 16]\n",
      "1/1 [==============================] - 5s 5s/step                  (4 + 1) / 16]\n",
      "1/1 [==============================] - 5s 5s/step                  (5 + 1) / 16]\n",
      "1/1 [==============================] - 1s 1s/step                  (6 + 1) / 16]\n",
      "1/1 [==============================] - 1s 1s/step                  (7 + 1) / 16]\n",
      "1/1 [==============================] - 1s 1s/step                  (8 + 1) / 16]\n",
      "1/1 [==============================] - 1s 1s/step                  (9 + 1) / 16]\n",
      "1/1 [==============================] - 1s 1s/step                 (10 + 1) / 16]\n",
      "1/1 [==============================] - 1s 1s/step                 (11 + 1) / 16]\n",
      "1/1 [==============================] - 1s 1s/step===>             (12 + 1) / 16]\n",
      "1/1 [==============================] - 1s 1s/step======>          (13 + 1) / 16]\n",
      "1/1 [==============================] - 1s 1s/step==========>      (14 + 1) / 16]\n",
      "1/1 [==============================] - 1s 1s/step=============>   (15 + 1) / 16]\n"
     ]
    },
    {
     "name": "stdout",
     "output_type": "stream",
     "text": [
      "22/12/13 19:05:46 WARN DAGScheduler: Broadcasting large task binary with size 1624.5 KiB\n",
      "22/12/13 19:05:46 WARN DAGScheduler: Broadcasting large task binary with size 1623.5 KiB\n"
     ]
    },
    {
     "name": "stderr",
     "output_type": "stream",
     "text": [
      "1/1 [==============================] - 2s 2s/step                  (0 + 1) / 16]\n",
      "1/1 [==============================] - 1s 1s/step                  (1 + 1) / 16]\n",
      "1/1 [==============================] - 1s 1s/step                  (2 + 1) / 16]\n",
      "1/1 [==============================] - 2s 2s/step                  (3 + 1) / 16]\n",
      "1/1 [==============================] - 2s 2s/step                  (4 + 1) / 16]\n",
      "1/1 [==============================] - 5s 5s/step                  (5 + 1) / 16]\n",
      "1/1 [==============================] - 5s 5s/step                  (6 + 1) / 16]\n",
      "1/1 [==============================] - 5s 5s/step                  (7 + 1) / 16]\n",
      "1/1 [==============================] - 5s 5s/step                  (8 + 1) / 16]\n",
      "1/1 [==============================] - 5s 5s/step                  (9 + 1) / 16]\n",
      "1/1 [==============================] - 5s 5s/step                 (10 + 1) / 16]\n",
      "1/1 [==============================] - 5s 5s/step                 (11 + 1) / 16]\n",
      "1/1 [==============================] - 5s 5s/step===>             (12 + 1) / 16]\n",
      "1/1 [==============================] - 5s 5s/step======>          (13 + 1) / 16]\n",
      "1/1 [==============================] - 5s 5s/step==========>      (14 + 1) / 16]\n",
      "1/1 [==============================] - 5s 5s/step=============>   (15 + 1) / 16]\n"
     ]
    },
    {
     "name": "stdout",
     "output_type": "stream",
     "text": [
      "22/12/13 19:08:23 WARN DAGScheduler: Broadcasting large task binary with size 1624.5 KiB\n"
     ]
    },
    {
     "name": "stderr",
     "output_type": "stream",
     "text": [
      "                                                                                \r"
     ]
    },
    {
     "name": "stdout",
     "output_type": "stream",
     "text": [
      "22/12/13 19:08:23 WARN DAGScheduler: Broadcasting large task binary with size 1623.5 KiB\n"
     ]
    },
    {
     "name": "stderr",
     "output_type": "stream",
     "text": [
      "1/1 [==============================] - 5s 5s/step                  (0 + 1) / 16]\n",
      "1/1 [==============================] - 5s 5s/step                  (1 + 1) / 16]\n",
      "1/1 [==============================] - 5s 5s/step                  (2 + 1) / 16]\n",
      "1/1 [==============================] - 5s 5s/step                  (3 + 1) / 16]\n",
      "1/1 [==============================] - 5s 5s/step                  (4 + 1) / 16]\n",
      "1/1 [==============================] - 5s 5s/step                  (5 + 1) / 16]\n",
      "1/1 [==============================] - 5s 5s/step                  (6 + 1) / 16]\n",
      "1/1 [==============================] - 5s 5s/step                  (7 + 1) / 16]\n",
      "1/1 [==============================] - 1s 1s/step                  (8 + 1) / 16]\n",
      "1/1 [==============================] - 1s 1s/step                  (9 + 1) / 16]\n",
      "1/1 [==============================] - 2s 2s/step                 (10 + 1) / 16]\n",
      "1/1 [==============================] - 2s 2s/step                 (11 + 1) / 16]\n",
      "1/1 [==============================] - 1s 1s/step===>             (12 + 1) / 16]\n",
      "1/1 [==============================] - 1s 1s/step======>          (13 + 1) / 16]\n",
      "1/1 [==============================] - 2s 2s/step==========>      (14 + 1) / 16]\n",
      "1/1 [==============================] - 1s 1s/step=============>   (15 + 1) / 16]\n"
     ]
    },
    {
     "name": "stdout",
     "output_type": "stream",
     "text": [
      "22/12/13 19:10:39 WARN DAGScheduler: Broadcasting large task binary with size 1624.5 KiB\n",
      "22/12/13 19:10:40 WARN DAGScheduler: Broadcasting large task binary with size 1623.5 KiB\n"
     ]
    },
    {
     "name": "stderr",
     "output_type": "stream",
     "text": [
      "1/1 [==============================] - 2s 2s/step                  (0 + 1) / 16]\n",
      "1/1 [==============================] - 1s 1s/step                  (1 + 1) / 16]\n",
      "1/1 [==============================] - 1s 1s/step                  (2 + 1) / 16]\n",
      "1/1 [==============================] - 2s 2s/step                  (3 + 1) / 16]\n",
      "1/1 [==============================] - 1s 1s/step                  (4 + 1) / 16]\n",
      "1/1 [==============================] - 2s 2s/step                  (5 + 1) / 16]\n",
      "1/1 [==============================] - 2s 2s/step                  (6 + 1) / 16]\n",
      "1/1 [==============================] - 5s 5s/step                  (7 + 1) / 16]\n",
      "1/1 [==============================] - 5s 5s/step                  (8 + 1) / 16]\n",
      "1/1 [==============================] - 5s 5s/step                  (9 + 1) / 16]\n",
      "1/1 [==============================] - 5s 5s/step                 (10 + 1) / 16]\n",
      "1/1 [==============================] - 5s 5s/step                 (11 + 1) / 16]\n",
      "1/1 [==============================] - 5s 5s/step===>             (12 + 1) / 16]\n",
      "1/1 [==============================] - 5s 5s/step======>          (13 + 1) / 16]\n",
      "1/1 [==============================] - 5s 5s/step==========>      (14 + 1) / 16]\n",
      "1/1 [==============================] - 5s 5s/step=============>   (15 + 1) / 16]\n"
     ]
    },
    {
     "name": "stdout",
     "output_type": "stream",
     "text": [
      "22/12/13 19:13:06 WARN DAGScheduler: Broadcasting large task binary with size 1624.5 KiB\n"
     ]
    },
    {
     "name": "stderr",
     "output_type": "stream",
     "text": [
      "                                                                                \r"
     ]
    },
    {
     "name": "stdout",
     "output_type": "stream",
     "text": [
      "22/12/13 19:13:06 WARN DAGScheduler: Broadcasting large task binary with size 1623.5 KiB\n"
     ]
    },
    {
     "name": "stderr",
     "output_type": "stream",
     "text": [
      "1/1 [==============================] - 6s 6s/step                  (0 + 1) / 16]\n",
      "1/1 [==============================] - 5s 5s/step                  (1 + 1) / 16]\n",
      "1/1 [==============================] - 5s 5s/step                  (2 + 1) / 16]\n",
      "1/1 [==============================] - 5s 5s/step                  (3 + 1) / 16]\n",
      "1/1 [==============================] - 5s 5s/step                  (4 + 1) / 16]\n",
      "1/1 [==============================] - 5s 5s/step                  (5 + 1) / 16]\n",
      "1/1 [==============================] - 5s 5s/step                  (6 + 1) / 16]\n",
      "1/1 [==============================] - 5s 5s/step                  (7 + 1) / 16]\n",
      "1/1 [==============================] - 5s 5s/step                  (8 + 1) / 16]\n",
      "1/1 [==============================] - 1s 1s/step                  (9 + 1) / 16]\n",
      "1/1 [==============================] - 2s 2s/step                 (10 + 1) / 16]\n",
      "1/1 [==============================] - 2s 2s/step                 (11 + 1) / 16]\n",
      "1/1 [==============================] - 2s 2s/step===>             (12 + 1) / 16]\n",
      "1/1 [==============================] - 1s 1s/step======>          (13 + 1) / 16]\n",
      "1/1 [==============================] - 1s 1s/step==========>      (14 + 1) / 16]\n",
      "1/1 [==============================] - 2s 2s/step=============>   (15 + 1) / 16]\n"
     ]
    },
    {
     "name": "stdout",
     "output_type": "stream",
     "text": [
      "22/12/13 19:15:36 WARN DAGScheduler: Broadcasting large task binary with size 1624.5 KiB\n"
     ]
    },
    {
     "name": "stderr",
     "output_type": "stream",
     "text": [
      "                                                                                \r"
     ]
    },
    {
     "name": "stdout",
     "output_type": "stream",
     "text": [
      "22/12/13 19:15:36 WARN DAGScheduler: Broadcasting large task binary with size 1623.5 KiB\n"
     ]
    },
    {
     "name": "stderr",
     "output_type": "stream",
     "text": [
      "1/1 [==============================] - 2s 2s/step                  (0 + 1) / 16]\n",
      "1/1 [==============================] - 1s 1s/step                  (1 + 1) / 16]\n",
      "1/1 [==============================] - 1s 1s/step                  (2 + 1) / 16]\n",
      "1/1 [==============================] - 1s 1s/step                  (3 + 1) / 16]\n",
      "1/1 [==============================] - 1s 1s/step                  (4 + 1) / 16]\n",
      "1/1 [==============================] - 1s 1s/step                  (5 + 1) / 16]\n",
      "1/1 [==============================] - 2s 2s/step                  (6 + 1) / 16]\n",
      "1/1 [==============================] - 2s 2s/step                  (7 + 1) / 16]\n",
      "1/1 [==============================] - 5s 5s/step                  (8 + 1) / 16]\n",
      "1/1 [==============================] - 5s 5s/step                  (9 + 1) / 16]\n",
      "1/1 [==============================] - 5s 5s/step                 (10 + 1) / 16]\n",
      "1/1 [==============================] - 5s 5s/step                 (11 + 1) / 16]\n",
      "1/1 [==============================] - 5s 5s/step===>             (12 + 1) / 16]\n",
      "1/1 [==============================] - 5s 5s/step======>          (13 + 1) / 16]\n",
      "1/1 [==============================] - 5s 5s/step==========>      (14 + 1) / 16]\n",
      "1/1 [==============================] - 5s 5s/step=============>   (15 + 1) / 16]\n"
     ]
    },
    {
     "name": "stdout",
     "output_type": "stream",
     "text": [
      "22/12/13 19:17:54 WARN DAGScheduler: Broadcasting large task binary with size 1624.5 KiB\n"
     ]
    },
    {
     "name": "stderr",
     "output_type": "stream",
     "text": [
      "                                                                                \r"
     ]
    },
    {
     "name": "stdout",
     "output_type": "stream",
     "text": [
      "22/12/13 19:17:55 WARN DAGScheduler: Broadcasting large task binary with size 1623.5 KiB\n"
     ]
    },
    {
     "name": "stderr",
     "output_type": "stream",
     "text": [
      "1/1 [==============================] - 6s 6s/step                  (0 + 1) / 16]\n",
      "1/1 [==============================] - 5s 5s/step                  (1 + 1) / 16]\n",
      "1/1 [==============================] - 5s 5s/step                  (2 + 1) / 16]\n",
      "1/1 [==============================] - 5s 5s/step                  (3 + 1) / 16]\n",
      "1/1 [==============================] - 5s 5s/step                  (4 + 1) / 16]\n",
      "1/1 [==============================] - 5s 5s/step                  (5 + 1) / 16]\n",
      "1/1 [==============================] - 5s 5s/step                  (6 + 1) / 16]\n",
      "1/1 [==============================] - 5s 5s/step                  (7 + 1) / 16]\n",
      "1/1 [==============================] - 5s 5s/step                  (8 + 1) / 16]\n",
      "1/1 [==============================] - 5s 5s/step                  (9 + 1) / 16]\n",
      "1/1 [==============================] - 1s 1s/step                 (10 + 1) / 16]\n",
      "1/1 [==============================] - 1s 1s/step                 (11 + 1) / 16]\n",
      "1/1 [==============================] - 2s 2s/step===>             (12 + 1) / 16]\n",
      "1/1 [==============================] - 1s 1s/step======>          (13 + 1) / 16]\n",
      "1/1 [==============================] - 1s 1s/step==========>      (14 + 1) / 16]\n",
      "1/1 [==============================] - 2s 2s/step=============>   (15 + 1) / 16]\n"
     ]
    },
    {
     "name": "stdout",
     "output_type": "stream",
     "text": [
      "22/12/13 19:20:34 WARN DAGScheduler: Broadcasting large task binary with size 1624.5 KiB\n"
     ]
    },
    {
     "name": "stderr",
     "output_type": "stream",
     "text": [
      "                                                                                \r"
     ]
    },
    {
     "name": "stdout",
     "output_type": "stream",
     "text": [
      "22/12/13 19:20:34 WARN DAGScheduler: Broadcasting large task binary with size 1623.5 KiB\n"
     ]
    },
    {
     "name": "stderr",
     "output_type": "stream",
     "text": [
      "1/1 [==============================] - 2s 2s/step                  (0 + 1) / 16]\n",
      "1/1 [==============================] - 1s 1s/step                  (1 + 1) / 16]\n",
      "1/1 [==============================] - 1s 1s/step                  (2 + 1) / 16]\n",
      "1/1 [==============================] - 1s 1s/step                  (3 + 1) / 16]\n",
      "1/1 [==============================] - 1s 1s/step                  (4 + 1) / 16]\n",
      "1/1 [==============================] - 1s 1s/step                  (5 + 1) / 16]\n",
      "1/1 [==============================] - 2s 2s/step                  (6 + 1) / 16]\n",
      "1/1 [==============================] - 2s 2s/step                  (7 + 1) / 16]\n",
      "1/1 [==============================] - 5s 5s/step                  (8 + 1) / 16]\n",
      "1/1 [==============================] - 5s 5s/step                  (9 + 1) / 16]\n",
      "1/1 [==============================] - 5s 5s/step                 (10 + 1) / 16]\n",
      "1/1 [==============================] - 5s 5s/step                 (11 + 1) / 16]\n",
      "1/1 [==============================] - 5s 5s/step===>             (12 + 1) / 16]\n",
      "1/1 [==============================] - 5s 5s/step======>          (13 + 1) / 16]\n",
      "1/1 [==============================] - 5s 5s/step==========>      (14 + 1) / 16]\n",
      "1/1 [==============================] - 5s 5s/step=============>   (15 + 1) / 16]\n"
     ]
    },
    {
     "name": "stdout",
     "output_type": "stream",
     "text": [
      "22/12/13 19:22:48 WARN DAGScheduler: Broadcasting large task binary with size 1624.5 KiB\n"
     ]
    },
    {
     "name": "stderr",
     "output_type": "stream",
     "text": [
      "                                                                                \r"
     ]
    },
    {
     "name": "stdout",
     "output_type": "stream",
     "text": [
      "22/12/13 19:22:49 WARN DAGScheduler: Broadcasting large task binary with size 1623.5 KiB\n"
     ]
    },
    {
     "name": "stderr",
     "output_type": "stream",
     "text": [
      "1/1 [==============================] - 6s 6s/step                  (0 + 1) / 16]\n",
      "1/1 [==============================] - 5s 5s/step                  (1 + 1) / 16]\n",
      "1/1 [==============================] - 5s 5s/step                  (2 + 1) / 16]\n",
      "1/1 [==============================] - 5s 5s/step                  (3 + 1) / 16]\n",
      "1/1 [==============================] - 5s 5s/step                  (4 + 1) / 16]\n",
      "1/1 [==============================] - 5s 5s/step                  (5 + 1) / 16]\n",
      "1/1 [==============================] - 5s 5s/step                  (6 + 1) / 16]\n",
      "1/1 [==============================] - 5s 5s/step                  (7 + 1) / 16]\n",
      "1/1 [==============================] - 5s 5s/step                  (8 + 1) / 16]\n",
      "1/1 [==============================] - 5s 5s/step                  (9 + 1) / 16]\n",
      "1/1 [==============================] - 3s 3s/step                 (10 + 1) / 16]\n",
      "1/1 [==============================] - 1s 1s/step                 (11 + 1) / 16]\n",
      "1/1 [==============================] - 1s 1s/step===>             (12 + 1) / 16]\n",
      "1/1 [==============================] - 2s 2s/step======>          (13 + 1) / 16]\n",
      "1/1 [==============================] - 1s 1s/step==========>      (14 + 1) / 16]\n",
      "1/1 [==============================] - 1s 1s/step=============>   (15 + 1) / 16]\n"
     ]
    },
    {
     "name": "stdout",
     "output_type": "stream",
     "text": [
      "22/12/13 19:25:30 WARN DAGScheduler: Broadcasting large task binary with size 1624.5 KiB\n",
      "22/12/13 19:25:30 WARN DAGScheduler: Broadcasting large task binary with size 1623.5 KiB\n"
     ]
    },
    {
     "name": "stderr",
     "output_type": "stream",
     "text": [
      "1/1 [==============================] - 2s 2s/step                  (0 + 1) / 16]\n",
      "1/1 [==============================] - 1s 1s/step                  (1 + 1) / 16]\n",
      "1/1 [==============================] - 1s 1s/step                  (2 + 1) / 16]\n",
      "1/1 [==============================] - 1s 1s/step                  (3 + 1) / 16]\n",
      "1/1 [==============================] - 1s 1s/step                  (4 + 1) / 16]\n",
      "1/1 [==============================] - 1s 1s/step                  (5 + 1) / 16]\n",
      "1/1 [==============================] - 1s 1s/step                  (6 + 1) / 16]\n",
      "1/1 [==============================] - 2s 2s/step                  (7 + 1) / 16]\n",
      "1/1 [==============================] - 2s 2s/step                  (8 + 1) / 16]\n",
      "1/1 [==============================] - 2s 2s/step                  (9 + 1) / 16]\n",
      "1/1 [==============================] - 5s 5s/step                 (10 + 1) / 16]\n",
      "1/1 [==============================] - 5s 5s/step                 (11 + 1) / 16]\n",
      "1/1 [==============================] - 5s 5s/step===>             (12 + 1) / 16]\n",
      "1/1 [==============================] - 5s 5s/step======>          (13 + 1) / 16]\n",
      "1/1 [==============================] - 5s 5s/step==========>      (14 + 1) / 16]\n",
      "1/1 [==============================] - 5s 5s/step=============>   (15 + 1) / 16]\n"
     ]
    },
    {
     "name": "stdout",
     "output_type": "stream",
     "text": [
      "22/12/13 19:27:30 WARN DAGScheduler: Broadcasting large task binary with size 1624.5 KiB\n"
     ]
    },
    {
     "name": "stderr",
     "output_type": "stream",
     "text": [
      "                                                                                \r"
     ]
    },
    {
     "name": "stdout",
     "output_type": "stream",
     "text": [
      "22/12/13 19:27:30 WARN DAGScheduler: Broadcasting large task binary with size 1623.5 KiB\n"
     ]
    },
    {
     "name": "stderr",
     "output_type": "stream",
     "text": [
      "1/1 [==============================] - 6s 6s/step                  (0 + 1) / 16]\n",
      "1/1 [==============================] - 5s 5s/step                  (1 + 1) / 16]\n",
      "1/1 [==============================] - 5s 5s/step                  (2 + 1) / 16]\n",
      "1/1 [==============================] - 5s 5s/step                  (3 + 1) / 16]\n",
      "1/1 [==============================] - 5s 5s/step                  (4 + 1) / 16]\n",
      "1/1 [==============================] - 5s 5s/step                  (5 + 1) / 16]\n",
      "1/1 [==============================] - 5s 5s/step                  (6 + 1) / 16]\n",
      "1/1 [==============================] - 5s 5s/step                  (7 + 1) / 16]\n",
      "1/1 [==============================] - 5s 5s/step                  (8 + 1) / 16]\n",
      "1/1 [==============================] - 5s 5s/step                  (9 + 1) / 16]\n",
      "1/1 [==============================] - 5s 5s/step                 (10 + 1) / 16]\n",
      "1/1 [==============================] - 5s 5s/step                 (11 + 1) / 16]\n",
      "1/1 [==============================] - 1s 1s/step===>             (12 + 1) / 16]\n",
      "1/1 [==============================] - 1s 1s/step======>          (13 + 1) / 16]\n",
      "1/1 [==============================] - 1s 1s/step==========>      (14 + 1) / 16]\n",
      "1/1 [==============================] - 1s 1s/step=============>   (15 + 1) / 16]\n"
     ]
    },
    {
     "name": "stdout",
     "output_type": "stream",
     "text": [
      "22/12/13 19:30:24 WARN DAGScheduler: Broadcasting large task binary with size 1624.5 KiB\n",
      "22/12/13 19:30:24 WARN DAGScheduler: Broadcasting large task binary with size 1623.5 KiB\n"
     ]
    },
    {
     "name": "stderr",
     "output_type": "stream",
     "text": [
      "1/1 [==============================] - 2s 2s/step                  (0 + 1) / 16]\n",
      "1/1 [==============================] - 1s 1s/step                  (1 + 1) / 16]\n",
      "1/1 [==============================] - 1s 1s/step                  (2 + 1) / 16]\n",
      "1/1 [==============================] - 1s 1s/step                  (3 + 1) / 16]\n",
      "1/1 [==============================] - 1s 1s/step                  (4 + 1) / 16]\n",
      "1/1 [==============================] - 1s 1s/step                  (5 + 1) / 16]\n",
      "1/1 [==============================] - 1s 1s/step                  (6 + 1) / 16]\n",
      "1/1 [==============================] - 1s 1s/step                  (7 + 1) / 16]\n",
      "1/1 [==============================] - 1s 1s/step                  (8 + 1) / 16]\n",
      "1/1 [==============================] - 2s 2s/step                  (9 + 1) / 16]\n",
      "1/1 [==============================] - 2s 2s/step                 (10 + 1) / 16]\n",
      "1/1 [==============================] - 5s 5s/step                 (11 + 1) / 16]\n",
      "1/1 [==============================] - 5s 5s/step===>             (12 + 1) / 16]\n",
      "1/1 [==============================] - 5s 5s/step======>          (13 + 1) / 16]\n",
      "1/1 [==============================] - 5s 5s/step==========>      (14 + 1) / 16]\n",
      "1/1 [==============================] - 5s 5s/step=============>   (15 + 1) / 16]\n"
     ]
    },
    {
     "name": "stdout",
     "output_type": "stream",
     "text": [
      "22/12/13 19:32:08 WARN DAGScheduler: Broadcasting large task binary with size 1624.5 KiB\n"
     ]
    },
    {
     "name": "stderr",
     "output_type": "stream",
     "text": [
      "                                                                                \r"
     ]
    },
    {
     "name": "stdout",
     "output_type": "stream",
     "text": [
      "22/12/13 19:32:09 WARN DAGScheduler: Broadcasting large task binary with size 1623.5 KiB\n"
     ]
    },
    {
     "name": "stderr",
     "output_type": "stream",
     "text": [
      "1/1 [==============================] - 5s 5s/step                  (0 + 1) / 16]\n",
      "1/1 [==============================] - 5s 5s/step                  (1 + 1) / 16]\n",
      "1/1 [==============================] - 5s 5s/step                  (2 + 1) / 16]\n",
      "1/1 [==============================] - 5s 5s/step                  (3 + 1) / 16]\n",
      "1/1 [==============================] - 5s 5s/step                  (4 + 1) / 16]\n",
      "1/1 [==============================] - 5s 5s/step                  (5 + 1) / 16]\n",
      "1/1 [==============================] - 5s 5s/step                  (6 + 1) / 16]\n",
      "1/1 [==============================] - 5s 5s/step                  (7 + 1) / 16]\n",
      "1/1 [==============================] - 5s 5s/step                  (8 + 1) / 16]\n",
      "1/1 [==============================] - 5s 5s/step                  (9 + 1) / 16]\n",
      "1/1 [==============================] - 5s 5s/step                 (10 + 1) / 16]\n",
      "1/1 [==============================] - 5s 5s/step                 (11 + 1) / 16]\n",
      "1/1 [==============================] - 5s 5s/step===>             (12 + 1) / 16]\n",
      "1/1 [==============================] - 5s 5s/step======>          (13 + 1) / 16]\n",
      "1/1 [==============================] - 1s 1s/step==========>      (14 + 1) / 16]\n",
      "1/1 [==============================] - 1s 1s/step=============>   (15 + 1) / 16]\n"
     ]
    },
    {
     "name": "stdout",
     "output_type": "stream",
     "text": [
      "22/12/13 19:35:16 WARN DAGScheduler: Broadcasting large task binary with size 1624.5 KiB\n",
      "22/12/13 19:35:16 WARN DAGScheduler: Broadcasting large task binary with size 1623.5 KiB\n"
     ]
    },
    {
     "name": "stderr",
     "output_type": "stream",
     "text": [
      "1/1 [==============================] - 2s 2s/step                  (0 + 1) / 16]\n",
      "1/1 [==============================] - 1s 1s/step                  (1 + 1) / 16]\n",
      "1/1 [==============================] - 1s 1s/step                  (2 + 1) / 16]\n",
      "1/1 [==============================] - 1s 1s/step                  (3 + 1) / 16]\n",
      "1/1 [==============================] - 1s 1s/step                  (4 + 1) / 16]\n",
      "1/1 [==============================] - 1s 1s/step                  (5 + 1) / 16]\n",
      "1/1 [==============================] - 1s 1s/step                  (6 + 1) / 16]\n",
      "1/1 [==============================] - 1s 1s/step                  (7 + 1) / 16]\n",
      "1/1 [==============================] - 1s 1s/step                  (8 + 1) / 16]\n",
      "1/1 [==============================] - 1s 1s/step                  (9 + 1) / 16]\n",
      "1/1 [==============================] - 1s 1s/step                 (10 + 1) / 16]\n",
      "1/1 [==============================] - 2s 2s/step                 (11 + 1) / 16]\n",
      "1/1 [==============================] - 2s 2s/step===>             (12 + 1) / 16]\n",
      "1/1 [==============================] - 4s 4s/step======>          (13 + 1) / 16]\n",
      "1/1 [==============================] - 5s 5s/step==========>      (14 + 1) / 16]\n",
      "1/1 [==============================] - 5s 5s/step=============>   (15 + 1) / 16]\n"
     ]
    },
    {
     "name": "stdout",
     "output_type": "stream",
     "text": [
      "22/12/13 19:36:40 WARN DAGScheduler: Broadcasting large task binary with size 1624.5 KiB\n"
     ]
    },
    {
     "name": "stderr",
     "output_type": "stream",
     "text": [
      "                                                                                \r"
     ]
    },
    {
     "name": "stdout",
     "output_type": "stream",
     "text": [
      "22/12/13 19:36:41 WARN DAGScheduler: Broadcasting large task binary with size 1623.5 KiB\n"
     ]
    },
    {
     "name": "stderr",
     "output_type": "stream",
     "text": [
      "1/1 [==============================] - 5s 5s/step                  (0 + 1) / 16]\n",
      "1/1 [==============================] - 5s 5s/step                  (1 + 1) / 16]\n",
      "1/1 [==============================] - 5s 5s/step                  (2 + 1) / 16]\n",
      "1/1 [==============================] - 5s 5s/step                  (3 + 1) / 16]\n",
      "1/1 [==============================] - 5s 5s/step                  (4 + 1) / 16]\n",
      "1/1 [==============================] - 5s 5s/step                  (5 + 1) / 16]\n",
      "1/1 [==============================] - 5s 5s/step                  (6 + 1) / 16]\n",
      "1/1 [==============================] - 5s 5s/step                  (7 + 1) / 16]\n",
      "1/1 [==============================] - 5s 5s/step                  (8 + 1) / 16]\n",
      "1/1 [==============================] - 5s 5s/step                  (9 + 1) / 16]\n",
      "1/1 [==============================] - 5s 5s/step                 (10 + 1) / 16]\n",
      "1/1 [==============================] - 5s 5s/step                 (11 + 1) / 16]\n",
      "1/1 [==============================] - 5s 5s/step===>             (12 + 1) / 16]\n",
      "1/1 [==============================] - 5s 5s/step======>          (13 + 1) / 16]\n",
      "1/1 [==============================] - 5s 5s/step==========>      (14 + 1) / 16]\n",
      "1/1 [==============================] - 5s 5s/step=============>   (15 + 1) / 16]\n"
     ]
    },
    {
     "name": "stdout",
     "output_type": "stream",
     "text": [
      "22/12/13 19:40:05 WARN DAGScheduler: Broadcasting large task binary with size 1624.5 KiB\n"
     ]
    },
    {
     "name": "stderr",
     "output_type": "stream",
     "text": [
      "                                                                                \r"
     ]
    },
    {
     "name": "stdout",
     "output_type": "stream",
     "text": [
      "22/12/13 19:40:05 WARN DAGScheduler: Broadcasting large task binary with size 1623.5 KiB\n"
     ]
    },
    {
     "name": "stderr",
     "output_type": "stream",
     "text": [
      "1/1 [==============================] - 2s 2s/step                  (0 + 1) / 16]\n",
      "1/1 [==============================] - 1s 1s/step                  (1 + 1) / 16]\n",
      "1/1 [==============================] - 1s 1s/step                  (2 + 1) / 16]\n",
      "1/1 [==============================] - 1s 1s/step                  (3 + 1) / 16]\n",
      "1/1 [==============================] - 1s 1s/step                  (4 + 1) / 16]\n",
      "1/1 [==============================] - 1s 1s/step                  (5 + 1) / 16]\n",
      "1/1 [==============================] - 1s 1s/step                  (6 + 1) / 16]\n",
      "1/1 [==============================] - 1s 1s/step                  (7 + 1) / 16]\n",
      "1/1 [==============================] - 1s 1s/step                  (8 + 1) / 16]\n",
      "1/1 [==============================] - 1s 1s/step                  (9 + 1) / 16]\n",
      "1/1 [==============================] - 1s 1s/step                 (10 + 1) / 16]\n",
      "1/1 [==============================] - 1s 1s/step                 (11 + 1) / 16]\n",
      "1/1 [==============================] - 1s 1s/step===>             (12 + 1) / 16]\n",
      "1/1 [==============================] - 2s 2s/step======>          (13 + 1) / 16]\n",
      "1/1 [==============================] - 2s 2s/step==========>      (14 + 1) / 16]\n",
      "1/1 [==============================] - 2s 2s/step=============>   (15 + 1) / 16]\n"
     ]
    },
    {
     "name": "stdout",
     "output_type": "stream",
     "text": [
      "22/12/13 19:41:12 WARN DAGScheduler: Broadcasting large task binary with size 1624.5 KiB\n"
     ]
    },
    {
     "name": "stderr",
     "output_type": "stream",
     "text": [
      "                                                                                \r"
     ]
    },
    {
     "name": "stdout",
     "output_type": "stream",
     "text": [
      "22/12/13 19:41:12 WARN DAGScheduler: Broadcasting large task binary with size 1623.5 KiB\n"
     ]
    },
    {
     "name": "stderr",
     "output_type": "stream",
     "text": [
      "1/1 [==============================] - 6s 6s/step                  (0 + 1) / 16]\n",
      "1/1 [==============================] - 5s 5s/step                  (1 + 1) / 16]\n",
      "1/1 [==============================] - 5s 5s/step                  (2 + 1) / 16]\n",
      "1/1 [==============================] - 5s 5s/step                  (3 + 1) / 16]\n",
      "1/1 [==============================] - 5s 5s/step                  (4 + 1) / 16]\n",
      "1/1 [==============================] - 5s 5s/step                  (5 + 1) / 16]\n",
      "1/1 [==============================] - 5s 5s/step                  (6 + 1) / 16]\n",
      "1/1 [==============================] - 5s 5s/step                  (7 + 1) / 16]\n",
      "1/1 [==============================] - 5s 5s/step                  (8 + 1) / 16]\n",
      "1/1 [==============================] - 5s 5s/step                  (9 + 1) / 16]\n",
      "1/1 [==============================] - 5s 5s/step                 (10 + 1) / 16]\n",
      "1/1 [==============================] - 5s 5s/step                 (11 + 1) / 16]\n",
      "1/1 [==============================] - 5s 5s/step===>             (12 + 1) / 16]\n",
      "1/1 [==============================] - 5s 5s/step======>          (13 + 1) / 16]\n",
      "1/1 [==============================] - 5s 5s/step==========>      (14 + 1) / 16]\n",
      "1/1 [==============================] - 5s 5s/step=============>   (15 + 1) / 16]\n"
     ]
    },
    {
     "name": "stdout",
     "output_type": "stream",
     "text": [
      "22/12/13 19:44:38 WARN DAGScheduler: Broadcasting large task binary with size 1624.5 KiB\n"
     ]
    },
    {
     "name": "stderr",
     "output_type": "stream",
     "text": [
      "                                                                                \r"
     ]
    },
    {
     "name": "stdout",
     "output_type": "stream",
     "text": [
      "22/12/13 19:44:42 WARN RowMatrix: The input data was not directly cached, which may hurt performance if its parent RDDs are also uncached.\n"
     ]
    }
   ],
   "source": [
    "#entrainement de l'algorithme PCA\n",
    "pca = PCA(k=50, inputCol=\"features_scaled\", outputCol=\"features_reduced\")\n",
    "model_pca = pca.fit(data_scaled)\n",
    "data_final = model_pca.transform(data_scaled)"
   ]
  },
  {
   "cell_type": "code",
   "execution_count": 25,
   "id": "642102bc",
   "metadata": {},
   "outputs": [
    {
     "name": "stdout",
     "output_type": "stream",
     "text": [
      "La variance expliquée égale a 99% est vérifiée avec 48 composantes\n"
     ]
    },
    {
     "data": {
      "image/png": "[encoded data removed]",
      "text/plain": [
       "<Figure size 2000x800 with 1 Axes>"
      ]
     },
     "metadata": {},
     "output_type": "display_data"
    }
   ],
   "source": [
    "# Calcul de la variance expliquée cumulée par les composantes\n",
    "cumValues = model_pca.explainedVariance.cumsum() # get the cumulative values\n",
    "\n",
    "# fixer le seuil de variance expliqué minimal\n",
    "seuil = 99\n",
    "\n",
    "# afficher le graphe pour décider du nombre de composantes à considérer\n",
    "import matplotlib.pyplot as plt\n",
    "plt.figure(figsize=(20,8))\n",
    "plt.plot(range(1,51), cumValues, marker = 'o', linestyle='--')\n",
    "\n",
    "X_idx = np.where(cumValues*100 >= seuil)[0]\n",
    "nb_composante = X_idx[cumValues[X_idx].argmin()]\n",
    "plt.axvline(x=nb_composante, linestyle=\"--\", color=\"green\",linewidth=2)\n",
    "\n",
    "plt.title('variance by components')\n",
    "plt.xlabel('num of components')\n",
    "plt.ylabel('cumulative explained variance')\n",
    "\n",
    "\n",
    "print(f\"La variance expliquée égale a {seuil}% est vérifiée avec {nb_composante} composantes\")"
   ]
  },
  {
   "cell_type": "markdown",
   "id": "ce2c1ebb",
   "metadata": {},
   "source": [
    "## Saving features in project bucket on S3"
   ]
  },
  {
   "cell_type": "code",
   "execution_count": 26,
   "id": "f0d188d5",
   "metadata": {},
   "outputs": [],
   "source": [
    "data_final = data_final.select(col('path'), col('features_reduced'))"
   ]
  },
  {
   "cell_type": "code",
   "execution_count": 27,
   "id": "53340723",
   "metadata": {},
   "outputs": [
    {
     "name": "stderr",
     "output_type": "stream",
     "text": [
      "[Stage 329:======================================>                  (2 + 1) / 3]\r"
     ]
    },
    {
     "name": "stdout",
     "output_type": "stream",
     "text": [
      "22/12/13 19:57:09 WARN DAGScheduler: Broadcasting large task binary with size 39.1 MiB\n"
     ]
    },
    {
     "name": "stderr",
     "output_type": "stream",
     "text": [
      "2022-12-13 19:57:10.381647: I tensorflow/core/platform/cpu_feature_guard.cc:193] This TensorFlow binary is optimized with oneAPI Deep Neural Network Library (oneDNN) to use the following CPU instructions in performance-critical operations:  AVX2 FMA\n",
      "To enable them in other operations, rebuild TensorFlow with the appropriate compiler flags.\n",
      "2022-12-13 19:57:10.916436: W tensorflow/compiler/xla/stream_executor/platform/default/dso_loader.cc:64] Could not load dynamic library 'libcudart.so.11.0'; dlerror: libcudart.so.11.0: cannot open shared object file: No such file or directory\n",
      "2022-12-13 19:57:10.916491: I tensorflow/compiler/xla/stream_executor/cuda/cudart_stub.cc:29] Ignore above cudart dlerror if you do not have a GPU set up on your machine.\n",
      "2022-12-13 19:57:12.656786: W tensorflow/compiler/xla/stream_executor/platform/default/dso_loader.cc:64] Could not load dynamic library 'libnvinfer.so.7'; dlerror: libnvinfer.so.7: cannot open shared object file: No such file or directory\n",
      "2022-12-13 19:57:12.656904: W tensorflow/compiler/xla/stream_executor/platform/default/dso_loader.cc:64] Could not load dynamic library 'libnvinfer_plugin.so.7'; dlerror: libnvinfer_plugin.so.7: cannot open shared object file: No such file or directory\n",
      "2022-12-13 19:57:12.656919: W tensorflow/compiler/tf2tensorrt/utils/py_utils.cc:38] TF-TRT Warning: Cannot dlopen some TensorRT libraries. If you would like to use Nvidia GPU with TensorRT, please make sure the missing libraries mentioned above are installed properly.\n",
      "2022-12-13 19:57:15.471754: W tensorflow/compiler/xla/stream_executor/platform/default/dso_loader.cc:64] Could not load dynamic library 'libcuda.so.1'; dlerror: libcuda.so.1: cannot open shared object file: No such file or directory\n",
      "2022-12-13 19:57:15.471807: W tensorflow/compiler/xla/stream_executor/cuda/cuda_driver.cc:265] failed call to cuInit: UNKNOWN ERROR (303)\n",
      "2022-12-13 19:57:15.471838: I tensorflow/compiler/xla/stream_executor/cuda/cuda_diagnostics.cc:156] kernel driver does not appear to be running on this host (ip-172-31-38-162.eu-west-3.compute.internal): /proc/driver/nvidia/version does not exist\n",
      "2022-12-13 19:57:15.472092: I tensorflow/core/platform/cpu_feature_guard.cc:193] This TensorFlow binary is optimized with oneAPI Deep Neural Network Library (oneDNN) to use the following CPU instructions in performance-critical operations:  AVX2 FMA\n",
      "To enable them in other operations, rebuild TensorFlow with the appropriate compiler flags.\n",
      "1/1 [==============================] - 2s 2s/step\n",
      "                                                                                \r"
     ]
    },
    {
     "name": "stdout",
     "output_type": "stream",
     "text": [
      "22/12/13 19:57:20 WARN DAGScheduler: Broadcasting large task binary with size 39.1 MiB\n"
     ]
    },
    {
     "name": "stderr",
     "output_type": "stream",
     "text": [
      "1/1 [==============================] - 1s 1s/step                   (0 + 1) / 4]\n",
      "1/1 [==============================] - 1s 1s/step                   (1 + 1) / 4]\n",
      "1/1 [==============================] - 1s 1s/step                   (2 + 1) / 4]\n",
      "WARNING:tensorflow:5 out of the last 5 calls to <function Model.make_predict_function.<locals>.predict_function at 0x7f4f1c191ca0> triggered tf.function retracing. Tracing is expensive and the excessive number of tracings could be due to (1) creating @tf.function repeatedly in a loop, (2) passing tensors with different shapes, (3) passing Python objects instead of tensors. For (1), please define your @tf.function outside of the loop. For (2), @tf.function has reduce_retracing=True option that can avoid unnecessary retracing. For (3), please refer to https://www.tensorflow.org/guide/function#controlling_retracing and https://www.tensorflow.org/api_docs/python/tf/function for  more details.\n",
      "1/1 [==============================] - 1s 1s/step\n"
     ]
    },
    {
     "name": "stdout",
     "output_type": "stream",
     "text": [
      "+--------------------+--------------------+\n",
      "|                path|    features_reduced|\n",
      "+--------------------+--------------------+\n",
      "|s3a://bucketproje...|[9.20779749732080...|\n",
      "|s3a://bucketproje...|[11.4867073308506...|\n",
      "|s3a://bucketproje...|[11.6622179658924...|\n",
      "|s3a://bucketproje...|[5.05887517096046...|\n",
      "|s3a://bucketproje...|[-1.9347621400378...|\n",
      "|s3a://bucketproje...|[12.3494310403914...|\n",
      "|s3a://bucketproje...|[5.45463836846679...|\n",
      "|s3a://bucketproje...|[0.36158904333050...|\n",
      "|s3a://bucketproje...|[-9.7095086390654...|\n",
      "|s3a://bucketproje...|[-0.7570134540687...|\n",
      "|s3a://bucketproje...|[-7.1474715554586...|\n",
      "|s3a://bucketproje...|[-13.300566498940...|\n",
      "|s3a://bucketproje...|[-13.482108203287...|\n",
      "|s3a://bucketproje...|[7.02347691024967...|\n",
      "|s3a://bucketproje...|[4.84697899781739...|\n",
      "|s3a://bucketproje...|[10.5039820846058...|\n",
      "|s3a://bucketproje...|[1.01737777019760...|\n",
      "|s3a://bucketproje...|[-0.9786128538489...|\n",
      "|s3a://bucketproje...|[5.02905521469436...|\n",
      "|s3a://bucketproje...|[-16.935110830197...|\n",
      "+--------------------+--------------------+\n",
      "only showing top 20 rows\n",
      "\n"
     ]
    },
    {
     "name": "stderr",
     "output_type": "stream",
     "text": [
      "                                                                                \r"
     ]
    }
   ],
   "source": [
    "data_final.show()"
   ]
  },
  {
   "cell_type": "code",
   "execution_count": 28,
   "id": "c26ac2b6",
   "metadata": {},
   "outputs": [
    {
     "name": "stderr",
     "output_type": "stream",
     "text": [
      "[Stage 334:======================================>                  (2 + 1) / 3]\r"
     ]
    },
    {
     "name": "stdout",
     "output_type": "stream",
     "text": [
      "22/12/13 19:58:03 WARN DAGScheduler: Broadcasting large task binary with size 39.3 MiB\n"
     ]
    },
    {
     "name": "stderr",
     "output_type": "stream",
     "text": [
      "WARNING:tensorflow:6 out of the last 6 calls to <function Model.make_predict_function.<locals>.predict_function at 0x7f4f1edb4f70> triggered tf.function retracing. Tracing is expensive and the excessive number of tracings could be due to (1) creating @tf.function repeatedly in a loop, (2) passing tensors with different shapes, (3) passing Python objects instead of tensors. For (1), please define your @tf.function outside of the loop. For (2), @tf.function has reduce_retracing=True option that can avoid unnecessary retracing. For (3), please refer to https://www.tensorflow.org/guide/function#controlling_retracing and https://www.tensorflow.org/api_docs/python/tf/function for  more details.\n",
      "1/1 [==============================] - 2s 2s/step\n",
      "1/1 [==============================] - 1s 1s/step                  (1 + 1) / 16]\n",
      "1/1 [==============================] - 1s 1s/step                  (2 + 1) / 16]\n",
      "1/1 [==============================] - 1s 1s/step                  (3 + 1) / 16]\n",
      "1/1 [==============================] - 1s 1s/step                  (4 + 1) / 16]\n",
      "1/1 [==============================] - 1s 1s/step                  (5 + 1) / 16]\n",
      "1/1 [==============================] - 1s 1s/step                  (6 + 1) / 16]\n",
      "1/1 [==============================] - 1s 1s/step                  (7 + 1) / 16]\n",
      "1/1 [==============================] - 1s 1s/step                  (8 + 1) / 16]\n",
      "1/1 [==============================] - 1s 1s/step                  (9 + 1) / 16]\n",
      "1/1 [==============================] - 1s 1s/step                 (10 + 1) / 16]\n",
      "1/1 [==============================] - 1s 1s/step                 (11 + 1) / 16]\n",
      "1/1 [==============================] - 1s 1s/step===>             (12 + 1) / 16]\n",
      "1/1 [==============================] - 1s 1s/step======>          (13 + 1) / 16]\n",
      "1/1 [==============================] - 1s 1s/step==========>      (14 + 1) / 16]\n",
      "1/1 [==============================] - 1s 1s/step=============>   (15 + 1) / 16]\n",
      "                                                                                \r"
     ]
    }
   ],
   "source": [
    "data_final.write.parquet(\"s3a://bucketprojet8inl/extractedFeatures.parquet\")"
   ]
  },
  {
   "cell_type": "code",
   "execution_count": null,
   "id": "95e6b137",
   "metadata": {},
   "outputs": [],
   "source": []
  }
 ],
 "metadata": {
  "kernelspec": {
   "display_name": "Python 3 (ipykernel)",
   "language": "python",
   "name": "python3"
  },
  "language_info": {
   "codemirror_mode": {
    "name": "ipython",
    "version": 3
   },
   "file_extension": ".py",
   "mimetype": "text/x-python",
   "name": "python",
   "nbconvert_exporter": "python",
   "pygments_lexer": "ipython3",
   "version": "3.9.13"
  },
  "toc": {
   "base_numbering": 1,
   "nav_menu": {},
   "number_sections": true,
   "sideBar": true,
   "skip_h1_title": true,
   "title_cell": "Sommaire",
   "title_sidebar": "Contents",
   "toc_cell": true,
   "toc_position": {},
   "toc_section_display": true,
   "toc_window_display": true
  }
 },
 "nbformat": 4,
 "nbformat_minor": 5
}
